{
 "cells": [
  {
   "cell_type": "markdown",
   "metadata": {},
   "source": [
    "## 3.2.9. Changing case"
   ]
  },
  {
   "cell_type": "code",
   "execution_count": 1,
   "metadata": {},
   "outputs": [],
   "source": [
    "# Lecture slides 79 and 80\n",
    "# Chapter 24\n",
    "# changing case is recquired mostly in case of user input"
   ]
  },
  {
   "cell_type": "code",
   "execution_count": 2,
   "metadata": {},
   "outputs": [
    {
     "name": "stdout",
     "output_type": "stream",
     "text": [
      "i am a human\n",
      "I AM A HUMAN\n",
      "I Am A Human\n"
     ]
    }
   ],
   "source": [
    "str_data = \"i AM A hUMAN\"\n",
    "print(str_data.lower())\n",
    "print(str_data.upper())\n",
    "print(str_data.title())"
   ]
  },
  {
   "cell_type": "markdown",
   "metadata": {},
   "source": [
    "## 3.2.10. Changing case - in Practice"
   ]
  },
  {
   "cell_type": "code",
   "execution_count": 3,
   "metadata": {},
   "outputs": [
    {
     "data": {
      "text/plain": [
       "str"
      ]
     },
     "execution_count": 3,
     "metadata": {},
     "output_type": "execute_result"
    }
   ],
   "source": [
    "type(\"i am a string\")"
   ]
  },
  {
   "cell_type": "code",
   "execution_count": 4,
   "metadata": {},
   "outputs": [
    {
     "data": {
      "text/plain": [
       "str"
      ]
     },
     "execution_count": 4,
     "metadata": {},
     "output_type": "execute_result"
    }
   ],
   "source": [
    "name = \"Pakistan\"\n",
    "type(name)"
   ]
  },
  {
   "cell_type": "code",
   "execution_count": 5,
   "metadata": {},
   "outputs": [
    {
     "name": "stdout",
     "output_type": "stream",
     "text": [
      "pakistan\n",
      "PAKISTAN\n",
      "Pakistan\n"
     ]
    }
   ],
   "source": [
    "print(name.lower())\n",
    "print(name.upper())\n",
    "print(name.title())"
   ]
  },
  {
   "cell_type": "code",
   "execution_count": 6,
   "metadata": {},
   "outputs": [
    {
     "data": {
      "text/plain": [
       "['Cheyenne', 'cheyenne', 'Santa Fe', 'santa fe', 'Tucson', 'tucson']"
      ]
     },
     "execution_count": 6,
     "metadata": {},
     "output_type": "execute_result"
    }
   ],
   "source": [
    "cleanest_cities = [\"Cheyenne\", \"cheyenne\", \"Santa Fe\", \"santa fe\", \"Tucson\", \"tucson\"]\n",
    "cleanest_cities"
   ]
  },
  {
   "cell_type": "code",
   "execution_count": 7,
   "metadata": {},
   "outputs": [
    {
     "name": "stdout",
     "output_type": "stream",
     "text": [
      "Enter your city: santa Fe\n",
      "It's one of the cleanest cities\n",
      "Great news! Santa Fe is one of the cleanest cities.\n"
     ]
    }
   ],
   "source": [
    "city_to_check = input(\"Enter your city: \")\n",
    "city_to_check = city_to_check.lower()\n",
    "cleanest_cities = [\"cheyenne\", \"santa fe\", \"tucson\", \"great falls\", \"honolulu\"]\n",
    "for a_clean_city in cleanest_cities:\n",
    "    if city_to_check == a_clean_city:\n",
    "        print(\"It's one of the cleanest cities\")\n",
    "        city_to_check = city_to_check.title()\n",
    "        break\n",
    "city_to_check = city_to_check.title()\n",
    "print(\"Great news! \" + city_to_check + \" is one of the cleanest cities.\")"
   ]
  }
 ],
 "metadata": {
  "kernelspec": {
   "display_name": "Python 3",
   "language": "python",
   "name": "python3"
  },
  "language_info": {
   "codemirror_mode": {
    "name": "ipython",
    "version": 3
   },
   "file_extension": ".py",
   "mimetype": "text/x-python",
   "name": "python",
   "nbconvert_exporter": "python",
   "pygments_lexer": "ipython3",
   "version": "3.7.6"
  }
 },
 "nbformat": 4,
 "nbformat_minor": 4
}
