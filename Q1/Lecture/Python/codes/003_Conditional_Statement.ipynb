{
 "cells": [
  {
   "cell_type": "markdown",
   "metadata": {},
   "source": [
    "## 3.1.8. If Else Statement"
   ]
  },
  {
   "cell_type": "code",
   "execution_count": 1,
   "metadata": {},
   "outputs": [],
   "source": [
    "# Lecture slides 36 to 50\n",
    "# chapter no. 9 to 13\n",
    "# it is a conditional execution"
   ]
  },
  {
   "cell_type": "code",
   "execution_count": 2,
   "metadata": {},
   "outputs": [],
   "source": [
    "# Lets see if statement first"
   ]
  },
  {
   "cell_type": "code",
   "execution_count": 3,
   "metadata": {},
   "outputs": [
    {
     "name": "stdout",
     "output_type": "stream",
     "text": [
      "Yep, it's cat.\n"
     ]
    }
   ],
   "source": [
    "species = \"cat\"\n",
    "if species == \"cat\":\n",
    "    print(\"Yep, it's cat.\")"
   ]
  },
  {
   "cell_type": "code",
   "execution_count": 4,
   "metadata": {},
   "outputs": [
    {
     "name": "stdout",
     "output_type": "stream",
     "text": [
      "Yep, it's cat.\n"
     ]
    }
   ],
   "source": [
    "species = \"cat\"\n",
    "if species == \"cat\":\n",
    "    status = \"ok\"\n",
    "    kingdom = \"animal\"\n",
    "    print(\"Yep, it's cat.\") "
   ]
  },
  {
   "cell_type": "code",
   "execution_count": 5,
   "metadata": {},
   "outputs": [
    {
     "name": "stdout",
     "output_type": "stream",
     "text": [
      "Everything makes sense.\n"
     ]
    }
   ],
   "source": [
    "if 2 + 2 == 4:\n",
    "    print(\"Everything makes sense.\")"
   ]
  },
  {
   "cell_type": "code",
   "execution_count": 6,
   "metadata": {},
   "outputs": [
    {
     "name": "stdout",
     "output_type": "stream",
     "text": [
      "So far so good.\n"
     ]
    }
   ],
   "source": [
    "number_of_husbands = 1\n",
    "if number_of_husbands == 1:\n",
    "    print(\"So far so good.\")"
   ]
  },
  {
   "cell_type": "code",
   "execution_count": 7,
   "metadata": {},
   "outputs": [
    {
     "name": "stdout",
     "output_type": "stream",
     "text": [
      "So far so good.\n",
      "Congratulations.\n",
      "All done\n"
     ]
    }
   ],
   "source": [
    "number_of_husbands = 1\n",
    "if number_of_husbands == 1:\n",
    "    print(\"So far so good.\")\n",
    "    print(\"Congratulations.\")\n",
    "    print(\"All done\")"
   ]
  },
  {
   "cell_type": "code",
   "execution_count": 8,
   "metadata": {},
   "outputs": [
    {
     "name": "stdout",
     "output_type": "stream",
     "text": [
      "a is less than b\n",
      "Hello A\n",
      "Hello B\n",
      "Hello Python\n"
     ]
    }
   ],
   "source": [
    "# when returns true\n",
    "a = 100\n",
    "b = 200\n",
    "if a<b: #returns true, : defines the block \n",
    "    print(\"a is less than b\") #Rather than using {} we use indent\n",
    "    print(\"Hello A\")\n",
    "    print(\"Hello B\")\n",
    "print(\"Hello Python\") #We don’t use end just remove the indent"
   ]
  },
  {
   "cell_type": "code",
   "execution_count": 9,
   "metadata": {},
   "outputs": [
    {
     "name": "stdout",
     "output_type": "stream",
     "text": [
      "Pakistan\n"
     ]
    }
   ],
   "source": [
    "# when returns false\n",
    "a = 100\n",
    "b = 200\n",
    "if b<a: #returns false\n",
    "    print(\"b is less than a\") #this block will not be executed\n",
    "print(\"Pakistan\")"
   ]
  },
  {
   "cell_type": "code",
   "execution_count": 10,
   "metadata": {},
   "outputs": [],
   "source": [
    "# Comparison operators"
   ]
  },
  {
   "cell_type": "code",
   "execution_count": 11,
   "metadata": {},
   "outputs": [
    {
     "name": "stdout",
     "output_type": "stream",
     "text": [
      "You won.\n"
     ]
    }
   ],
   "source": [
    "your_ticket_number = 8\n",
    "if your_ticket_number == 8:\n",
    "    print(\"You won.\")"
   ]
  },
  {
   "cell_type": "code",
   "execution_count": 12,
   "metadata": {},
   "outputs": [
    {
     "name": "stdout",
     "output_type": "stream",
     "text": [
      "Better luck next time.\n"
     ]
    }
   ],
   "source": [
    "your_ticket_number = 8\n",
    "if your_ticket_number != 487208:\n",
    "    print(\"Better luck next time.\")"
   ]
  },
  {
   "cell_type": "code",
   "execution_count": 13,
   "metadata": {},
   "outputs": [
    {
     "name": "stdout",
     "output_type": "stream",
     "text": [
      "All OK\n"
     ]
    }
   ],
   "source": [
    "if 1 > 0:\n",
    "    print(\"All OK\")"
   ]
  },
  {
   "cell_type": "code",
   "execution_count": 14,
   "metadata": {},
   "outputs": [],
   "source": [
    "if 1 < 0:\n",
    "    print(\"All OK\")"
   ]
  },
  {
   "cell_type": "code",
   "execution_count": 15,
   "metadata": {},
   "outputs": [
    {
     "name": "stdout",
     "output_type": "stream",
     "text": [
      "All OK\n"
     ]
    }
   ],
   "source": [
    "if 1 >= 0:\n",
    "    print(\"All OK\")"
   ]
  },
  {
   "cell_type": "code",
   "execution_count": 16,
   "metadata": {},
   "outputs": [],
   "source": [
    "if 1 <= 0:\n",
    "    print(\"All OK\")"
   ]
  },
  {
   "cell_type": "code",
   "execution_count": 17,
   "metadata": {},
   "outputs": [],
   "source": [
    "# else and elif statements"
   ]
  },
  {
   "cell_type": "code",
   "execution_count": 18,
   "metadata": {},
   "outputs": [
    {
     "name": "stdout",
     "output_type": "stream",
     "text": [
      "Nope, not cat.\n"
     ]
    }
   ],
   "source": [
    "species = \"catm\"\n",
    "if species == \"cat\":\n",
    "    print(\"Yep, it's cat.\")\n",
    "if species != \"cat\":\n",
    "    print(\"Nope, not cat.\")"
   ]
  },
  {
   "cell_type": "code",
   "execution_count": 19,
   "metadata": {},
   "outputs": [
    {
     "name": "stdout",
     "output_type": "stream",
     "text": [
      "Yep, it's cat.\n"
     ]
    }
   ],
   "source": [
    "species = \"cat\"\n",
    "if species == \"cat\":\n",
    "    print(\"Yep, it's cat.\")\n",
    "else:\n",
    "    print(\"Nope, not cat.\")"
   ]
  },
  {
   "cell_type": "code",
   "execution_count": 20,
   "metadata": {},
   "outputs": [
    {
     "name": "stdout",
     "output_type": "stream",
     "text": [
      "22\n"
     ]
    }
   ],
   "source": [
    "buy_score = 0\n",
    "donut_condition = \"fresh\"\n",
    "donut_filling = \"chocolate\"\n",
    "donut_price = \"reasonable\"\n",
    "if donut_condition == \"fresh\":\n",
    "    buy_score += 10\n",
    "if donut_filling == \"chocolate\":\n",
    "    buy_score += 5\n",
    "if donut_price == \"reasonable\":\n",
    "    buy_score += 7\n",
    "print(buy_score)  "
   ]
  },
  {
   "cell_type": "code",
   "execution_count": 21,
   "metadata": {},
   "outputs": [
    {
     "name": "stdout",
     "output_type": "stream",
     "text": [
      "5\n"
     ]
    }
   ],
   "source": [
    "donut_condition = \"not fresh\"\n",
    "donut_price = \"low\"\n",
    "if donut_condition == \"fresh\":\n",
    "    buy_score = 10\n",
    "elif donut_price == \"low\":\n",
    "    buy_score = 5\n",
    "else:\n",
    "    buy_score = 0\n",
    "print(buy_score)"
   ]
  },
  {
   "cell_type": "code",
   "execution_count": 22,
   "metadata": {},
   "outputs": [],
   "source": [
    "# Testing sets of conditions"
   ]
  },
  {
   "cell_type": "code",
   "execution_count": 23,
   "metadata": {},
   "outputs": [
    {
     "name": "stdout",
     "output_type": "stream",
     "text": [
      "ok\n"
     ]
    }
   ],
   "source": [
    "weight = 450\n",
    "time = 6\n",
    "if weight > 300 and time < 6:\n",
    "    status = \"try to recruit him\"\n",
    "print(status)"
   ]
  },
  {
   "cell_type": "code",
   "execution_count": 24,
   "metadata": {},
   "outputs": [
    {
     "name": "stdout",
     "output_type": "stream",
     "text": [
      "0\n"
     ]
    }
   ],
   "source": [
    "status=0\n",
    "weight = 450\n",
    "time = 7\n",
    "if weight > 300 and time < 6:\n",
    "    status = \"try to recruit him\"\n",
    "print(status)"
   ]
  },
  {
   "cell_type": "code",
   "execution_count": 25,
   "metadata": {},
   "outputs": [
    {
     "name": "stdout",
     "output_type": "stream",
     "text": [
      "try to recruit him\n"
     ]
    }
   ],
   "source": [
    "weight = 301\n",
    "time = 4.9\n",
    "age = 18\n",
    "height = 70\n",
    "if weight > 300 and time < 6 and age > 17 and height < 72:\n",
    "    status = \"try to recruit him\"\n",
    "    print(status)"
   ]
  },
  {
   "cell_type": "code",
   "execution_count": 26,
   "metadata": {},
   "outputs": [
    {
     "name": "stdout",
     "output_type": "stream",
     "text": [
      "Welcome to Leeds College!\n"
     ]
    }
   ],
   "source": [
    "SAT = 0\n",
    "GPA = 3\n",
    "parent = \"alum\"\n",
    "if SAT > 1 or GPA > 2.5 or parent == \"alum\":\n",
    "    message = \"Welcome to Leeds College!\"\n",
    "    print(message)"
   ]
  },
  {
   "cell_type": "code",
   "execution_count": 27,
   "metadata": {},
   "outputs": [
    {
     "name": "stdout",
     "output_type": "stream",
     "text": [
      "U.K.\n"
     ]
    }
   ],
   "source": [
    "# Always use ( ) while using more than one conditions in the if statement\n",
    "age = 70\n",
    "res = \"U.K.\"\n",
    "if (age > 65 or age < 21) and res == \"U.K.\": \n",
    "    print(res)"
   ]
  },
  {
   "cell_type": "code",
   "execution_count": 28,
   "metadata": {},
   "outputs": [
    {
     "name": "stdout",
     "output_type": "stream",
     "text": [
      "0 2\n"
     ]
    }
   ],
   "source": [
    "x=a=1\n",
    "y=b=5\n",
    "c=d=1\n",
    "h=f=2\n",
    "g=0\n",
    "e=0\n",
    "if (x == y or a == b) and c == d:\n",
    "    g = h\n",
    "else:\n",
    "    e = f\n",
    "print(g,e)"
   ]
  },
  {
   "cell_type": "code",
   "execution_count": 29,
   "metadata": {},
   "outputs": [],
   "source": [
    "# if statements nested"
   ]
  },
  {
   "cell_type": "code",
   "execution_count": 30,
   "metadata": {},
   "outputs": [
    {
     "name": "stdout",
     "output_type": "stream",
     "text": [
      "All OK\n"
     ]
    }
   ],
   "source": [
    "if 1 > 0: \n",
    "    if 0 < 1: \n",
    "        if 1 >= 0: \n",
    "            if 1 >= 1: \n",
    "                if 0 <= 1: \n",
    "                    if 1 <= 1:\n",
    "                        print(\"All OK\")"
   ]
  },
  {
   "cell_type": "code",
   "execution_count": 31,
   "metadata": {},
   "outputs": [
    {
     "name": "stdout",
     "output_type": "stream",
     "text": [
      "2 0\n"
     ]
    }
   ],
   "source": [
    "x=a=1\n",
    "y=b=1\n",
    "c=d=1\n",
    "h=f=2\n",
    "g=0\n",
    "e=0\n",
    "if c == d:\n",
    "    if x == y:\n",
    "        g = h\n",
    "    elif a == b:\n",
    "        g = h\n",
    "    else:\n",
    "        e = f\n",
    "else:\n",
    "    e = f\n",
    "print(g,e)"
   ]
  },
  {
   "cell_type": "code",
   "execution_count": 32,
   "metadata": {},
   "outputs": [
    {
     "name": "stdout",
     "output_type": "stream",
     "text": [
      "All OK\n"
     ]
    }
   ],
   "source": [
    "full_name = \"Mark\" + \" \" + \"Myers\"\n",
    "first_name = \"Mark\"\n",
    "last_name = \"Myers\"\n",
    "materials_cost = 81.50\n",
    "labor_cost = 135\n",
    "total_cost = 216.5\n",
    "x=1\n",
    "y=1\n",
    "a=3\n",
    "b=1\n",
    "if full_name == \"Mark\" + \" \" + \"Myers\": \n",
    "    if full_name == first_name + \" \" + \"Myers\": \n",
    "        if full_name == first_name + \" \" + last_name: \n",
    "            if total_cost == 81.50 + 135: \n",
    "                if total_cost == materials_cost + 135: \n",
    "                    if total_cost == materials_cost + labor_cost: \n",
    "                        if x + y == a - b:\n",
    "                            print(\"All OK\")"
   ]
  }
 ],
 "metadata": {
  "kernelspec": {
   "display_name": "Python 3",
   "language": "python",
   "name": "python3"
  },
  "language_info": {
   "codemirror_mode": {
    "name": "ipython",
    "version": 3
   },
   "file_extension": ".py",
   "mimetype": "text/x-python",
   "name": "python",
   "nbconvert_exporter": "python",
   "pygments_lexer": "ipython3",
   "version": "3.7.6"
  }
 },
 "nbformat": 4,
 "nbformat_minor": 4
}
