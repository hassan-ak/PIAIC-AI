{
 "cells": [
  {
   "cell_type": "markdown",
   "metadata": {},
   "source": [
    "## 3.1.9. Comments"
   ]
  },
  {
   "cell_type": "code",
   "execution_count": 1,
   "metadata": {},
   "outputs": [],
   "source": [
    "# Lecture slides 51 – 54\n",
    "# Chapter 14\n",
    "# use # for commenting a line\n",
    "# use \"\"\" in the beginneing and end to make a paragaraph a comment"
   ]
  },
  {
   "cell_type": "code",
   "execution_count": 2,
   "metadata": {},
   "outputs": [
    {
     "name": "stdout",
     "output_type": "stream",
     "text": [
      "This is not a comment ...\n"
     ]
    }
   ],
   "source": [
    "# This is a comment\n",
    "# this is another comment\n",
    "# Python ignores these comments.\n",
    "# The code that python executes is next , on line\n",
    "print(\"This is not a comment ...\")"
   ]
  },
  {
   "cell_type": "code",
   "execution_count": 3,
   "metadata": {},
   "outputs": [
    {
     "name": "stdout",
     "output_type": "stream",
     "text": [
      "This is not a comment ...\n",
      "This line also not comment \n"
     ]
    }
   ],
   "source": [
    "print(\"This is not a comment ...\")\n",
    "\"\"\"\n",
    "this is a paragarph comment\n",
    "paragarph can be lengthy or small\n",
    "\"\"\"\n",
    "print(\"This line also not comment \")"
   ]
  },
  {
   "cell_type": "code",
   "execution_count": 4,
   "metadata": {},
   "outputs": [
    {
     "name": "stdout",
     "output_type": "stream",
     "text": [
      "Hello, world!\n"
     ]
    }
   ],
   "source": [
    "# This is a comment.\n",
    "# This is another comment.\n",
    "# Python ignores these comments.\n",
    "# The code that Python executes is next, on line\n",
    "print(\"Hello, world!\")"
   ]
  },
  {
   "cell_type": "code",
   "execution_count": 5,
   "metadata": {},
   "outputs": [
    {
     "name": "stdout",
     "output_type": "stream",
     "text": [
      "Hello, world!\n"
     ]
    }
   ],
   "source": [
    "print(\"Hello, world!\") # Greet the world"
   ]
  },
  {
   "cell_type": "code",
   "execution_count": 6,
   "metadata": {},
   "outputs": [
    {
     "name": "stdout",
     "output_type": "stream",
     "text": [
      "Hello, world!\n"
     ]
    }
   ],
   "source": [
    "\"\"\"\n",
    "This is a comment.\n",
    "This is another comment.\n",
    "Python ignores these comments.\n",
    "The code that Python executes is on line 7\n",
    "\"\"\"\n",
    "print(\"Hello, world!\") "
   ]
  }
 ],
 "metadata": {
  "kernelspec": {
   "display_name": "Python 3",
   "language": "python",
   "name": "python3"
  },
  "language_info": {
   "codemirror_mode": {
    "name": "ipython",
    "version": 3
   },
   "file_extension": ".py",
   "mimetype": "text/x-python",
   "name": "python",
   "nbconvert_exporter": "python",
   "pygments_lexer": "ipython3",
   "version": "3.7.6"
  }
 },
 "nbformat": 4,
 "nbformat_minor": 4
}
