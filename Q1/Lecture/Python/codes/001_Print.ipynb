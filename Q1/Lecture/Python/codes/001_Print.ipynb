{
 "cells": [
  {
   "cell_type": "markdown",
   "metadata": {},
   "source": [
    "## 3.1.6. Print"
   ]
  },
  {
   "cell_type": "code",
   "execution_count": 1,
   "metadata": {},
   "outputs": [
    {
     "name": "stdout",
     "output_type": "stream",
     "text": [
      "\n"
     ]
    }
   ],
   "source": [
    "# Lecture slides 12 to 16\n",
    "# chapter no.01\n",
    "# print is function provided by python and it displays our given data on screen\n",
    "print() \n",
    "#always use () with a function. we can also identify a function due to presense of () or due to green colour"
   ]
  },
  {
   "cell_type": "code",
   "execution_count": 2,
   "metadata": {},
   "outputs": [
    {
     "ename": "NameError",
     "evalue": "name 'Print' is not defined",
     "output_type": "error",
     "traceback": [
      "\u001b[1;31m---------------------------------------------------------------------------\u001b[0m",
      "\u001b[1;31mNameError\u001b[0m                                 Traceback (most recent call last)",
      "\u001b[1;32m<ipython-input-2-9700a73fa513>\u001b[0m in \u001b[0;36m<module>\u001b[1;34m\u001b[0m\n\u001b[1;32m----> 1\u001b[1;33m \u001b[0mPrint\u001b[0m\u001b[1;33m(\u001b[0m\u001b[1;33m)\u001b[0m\u001b[1;33m\u001b[0m\u001b[1;33m\u001b[0m\u001b[0m\n\u001b[0m\u001b[0;32m      2\u001b[0m \u001b[1;31m#python is a case senstive language\u001b[0m\u001b[1;33m\u001b[0m\u001b[1;33m\u001b[0m\u001b[1;33m\u001b[0m\u001b[0m\n\u001b[0;32m      3\u001b[0m \u001b[1;31m#check spells\u001b[0m\u001b[1;33m\u001b[0m\u001b[1;33m\u001b[0m\u001b[1;33m\u001b[0m\u001b[0m\n",
      "\u001b[1;31mNameError\u001b[0m: name 'Print' is not defined"
     ]
    }
   ],
   "source": [
    "Print() \n",
    "#python is a case senstive language\n",
    "#check spells"
   ]
  },
  {
   "cell_type": "code",
   "execution_count": 3,
   "metadata": {},
   "outputs": [
    {
     "name": "stdout",
     "output_type": "stream",
     "text": [
      "1000\n"
     ]
    }
   ],
   "source": [
    "# numbers can be written diretly in the function\n",
    "print(1000)"
   ]
  },
  {
   "cell_type": "code",
   "execution_count": 4,
   "metadata": {},
   "outputs": [
    {
     "name": "stdout",
     "output_type": "stream",
     "text": [
      "123 456\n"
     ]
    }
   ],
   "source": [
    "# we can use print command on multiple entries too\n",
    "# always seprate multiple entries with a comma\n",
    "# comma automaticaly place a space between entries\n",
    "print (123,456)"
   ]
  },
  {
   "cell_type": "code",
   "execution_count": 5,
   "metadata": {},
   "outputs": [
    {
     "name": "stdout",
     "output_type": "stream",
     "text": [
      "123 12.3\n"
     ]
    }
   ],
   "source": [
    "# we can print numbers\n",
    "    # integers\n",
    "    # float - decimal\n",
    "print(123,12.3)"
   ]
  },
  {
   "cell_type": "code",
   "execution_count": 6,
   "metadata": {},
   "outputs": [
    {
     "name": "stdout",
     "output_type": "stream",
     "text": [
      "python\n",
      "python\n"
     ]
    }
   ],
   "source": [
    "# we can print text too\n",
    "    # string\n",
    "    # while printing text need to use \"\" or ''\n",
    "print(\"python\")\n",
    "print('python')"
   ]
  },
  {
   "cell_type": "code",
   "execution_count": 7,
   "metadata": {},
   "outputs": [
    {
     "name": "stdout",
     "output_type": "stream",
     "text": [
      "12\n",
      "12\n"
     ]
    }
   ],
   "source": [
    "# every thing enclossed in a \"\" or '' is a string\n",
    "print('12')\n",
    "print(\"12\")"
   ]
  },
  {
   "cell_type": "code",
   "execution_count": 8,
   "metadata": {},
   "outputs": [
    {
     "name": "stdout",
     "output_type": "stream",
     "text": [
      "123 Pakistan\n"
     ]
    }
   ],
   "source": [
    "# Alpha numeric data\n",
    "print('123 Pakistan')"
   ]
  },
  {
   "cell_type": "code",
   "execution_count": 9,
   "metadata": {},
   "outputs": [
    {
     "name": "stdout",
     "output_type": "stream",
     "text": [
      "\n"
     ]
    }
   ],
   "source": [
    "# write any function\n",
    "    # place curser b/w ()\n",
    "    # press shift+tab\n",
    "    # it opens up the signature of the function\n",
    "print()"
   ]
  },
  {
   "cell_type": "code",
   "execution_count": 10,
   "metadata": {},
   "outputs": [
    {
     "name": "stdout",
     "output_type": "stream",
     "text": [
      "long live pakistan\n",
      "long live pakistan\n"
     ]
    }
   ],
   "source": [
    "# Seprater\n",
    "    # by default sep=' '\n",
    "print('long','live','pakistan')\n",
    "print('long','live','pakistan',sep=' ')"
   ]
  },
  {
   "cell_type": "code",
   "execution_count": 11,
   "metadata": {},
   "outputs": [
    {
     "name": "stdout",
     "output_type": "stream",
     "text": [
      "longlivepakistan\n",
      "long---pindi---live---pindi---pakistan\n"
     ]
    }
   ],
   "source": [
    "print('long','live','pakistan',sep='')\n",
    "print('long','live','pakistan',sep='---pindi---')"
   ]
  },
  {
   "cell_type": "code",
   "execution_count": 12,
   "metadata": {},
   "outputs": [
    {
     "name": "stdout",
     "output_type": "stream",
     "text": [
      "Work hard\n",
      "dream big\n"
     ]
    }
   ],
   "source": [
    "# end\n",
    "    # by default end = '\\n'\n",
    "    # \\n is known as escape character\n",
    "    # we can use escape character any where we want\n",
    "    # \\n adds new line\n",
    "print('Work hard',end='\\n')\n",
    "print('dream big',end='\\n')"
   ]
  },
  {
   "cell_type": "code",
   "execution_count": 13,
   "metadata": {},
   "outputs": [
    {
     "name": "stdout",
     "output_type": "stream",
     "text": [
      "Work hard\n",
      "dream big\n"
     ]
    }
   ],
   "source": [
    "print('Work hard')\n",
    "print('dream big')"
   ]
  },
  {
   "cell_type": "code",
   "execution_count": 14,
   "metadata": {},
   "outputs": [
    {
     "name": "stdout",
     "output_type": "stream",
     "text": [
      "Work hard\n",
      "\n",
      "dream big\n",
      "\n"
     ]
    }
   ],
   "source": [
    "print('Work hard',end='\\n\\n')\n",
    "print('dream big',end='\\n\\n')"
   ]
  },
  {
   "cell_type": "code",
   "execution_count": 15,
   "metadata": {},
   "outputs": [
    {
     "name": "stdout",
     "output_type": "stream",
     "text": [
      "Work harddream big"
     ]
    }
   ],
   "source": [
    "# remove spacing\n",
    "print('Work hard',end='')\n",
    "print('dream big',end='')"
   ]
  },
  {
   "cell_type": "code",
   "execution_count": 16,
   "metadata": {},
   "outputs": [
    {
     "name": "stdout",
     "output_type": "stream",
     "text": [
      "Work hard dream big "
     ]
    }
   ],
   "source": [
    "# insert spacin\n",
    "print('Work hard',end=' ')\n",
    "print('dream big',end=' ')"
   ]
  },
  {
   "cell_type": "code",
   "execution_count": 17,
   "metadata": {},
   "outputs": [
    {
     "name": "stdout",
     "output_type": "stream",
     "text": [
      "Work hard\tdream big\t"
     ]
    }
   ],
   "source": [
    "# \\t adds tabs spacing\n",
    "print('Work hard',end='\\t')\n",
    "print('dream big',end='\\t')"
   ]
  },
  {
   "cell_type": "code",
   "execution_count": 18,
   "metadata": {},
   "outputs": [
    {
     "name": "stdout",
     "output_type": "stream",
     "text": [
      "Work hard\t\tdream big\t\t"
     ]
    }
   ],
   "source": [
    "print('Work hard',end='\\t\\t')\n",
    "print('dream big',end='\\t\\t')"
   ]
  },
  {
   "cell_type": "code",
   "execution_count": 19,
   "metadata": {},
   "outputs": [
    {
     "name": "stdout",
     "output_type": "stream",
     "text": [
      "Work hard\\dream big\\"
     ]
    }
   ],
   "source": [
    "# \\\\ prints backslash\n",
    "print('Work hard',end='\\\\')\n",
    "print('dream big',end='\\\\')"
   ]
  },
  {
   "cell_type": "code",
   "execution_count": 20,
   "metadata": {},
   "outputs": [
    {
     "name": "stdout",
     "output_type": "stream",
     "text": [
      "Work hard'dream big'"
     ]
    }
   ],
   "source": [
    "# \\' prints single quote\n",
    "print('Work hard',end='\\'')\n",
    "print('dream big',end='\\'')"
   ]
  },
  {
   "cell_type": "code",
   "execution_count": 21,
   "metadata": {},
   "outputs": [
    {
     "name": "stdout",
     "output_type": "stream",
     "text": [
      "Work hard\"dream big\""
     ]
    }
   ],
   "source": [
    "# \\\" prints double quote\n",
    "print('Work hard',end='\\\"')\n",
    "print('dream big',end='\\\"')"
   ]
  },
  {
   "cell_type": "code",
   "execution_count": 22,
   "metadata": {},
   "outputs": [
    {
     "name": "stdout",
     "output_type": "stream",
     "text": [
      "Work hard\"\n",
      "dream big\""
     ]
    }
   ],
   "source": [
    "print('Work hard',end='\\\"')\n",
    "print()\n",
    "print('dream big',end='\\\"')"
   ]
  },
  {
   "cell_type": "code",
   "execution_count": 23,
   "metadata": {},
   "outputs": [
    {
     "name": "stdout",
     "output_type": "stream",
     "text": [
      "Work hard\b\n",
      "dream big\b"
     ]
    }
   ],
   "source": [
    "# \\b removes previous character\n",
    "print('Work hard',end='\\b')\n",
    "print()\n",
    "print('dream big',end='\\b')"
   ]
  },
  {
   "cell_type": "code",
   "execution_count": 24,
   "metadata": {},
   "outputs": [
    {
     "name": "stdout",
     "output_type": "stream",
     "text": [
      "Work hard\u0007\n",
      "dream big\u0007"
     ]
    }
   ],
   "source": [
    "# \\a ring a bell\n",
    "print('Work hard',end='\\a')\n",
    "print()\n",
    "print('dream big',end='\\a')"
   ]
  },
  {
   "cell_type": "code",
   "execution_count": 25,
   "metadata": {},
   "outputs": [
    {
     "name": "stdout",
     "output_type": "stream",
     "text": [
      "hello world 123456\r",
      "hello world 789\r",
      "hello world 0\n"
     ]
    }
   ],
   "source": [
    "# \\r Moves all characters after to the beginning of the line while overriding same number of characters moved.\n",
    "print('hello world 123456',end='\\r')\n",
    "print('hello world 789',end='\\r')    \n",
    "print('hello world 0')"
   ]
  },
  {
   "cell_type": "code",
   "execution_count": 26,
   "metadata": {},
   "outputs": [
    {
     "name": "stdout",
     "output_type": "stream",
     "text": [
      "Work hard Dream Big †"
     ]
    }
   ],
   "source": [
    "# \\N{name} Prints a character from the Unicode database\n",
    "print('Work hard Dream Big ',end='\\N{DAGGER}')"
   ]
  },
  {
   "cell_type": "code",
   "execution_count": 27,
   "metadata": {},
   "outputs": [
    {
     "name": "stdout",
     "output_type": "stream",
     "text": [
      "Work hard Dream Big Л "
     ]
    }
   ],
   "source": [
    "#\\uxxxx Prints 16-bit hex value Unicode character\n",
    "print('Work hard Dream Big ',end='\\u041b ') "
   ]
  },
  {
   "cell_type": "code",
   "execution_count": 28,
   "metadata": {},
   "outputs": [
    {
     "name": "stdout",
     "output_type": "stream",
     "text": [
      "Work hard Dream Big Ʃ "
     ]
    }
   ],
   "source": [
    "#\\Uxxxxxxxx Prints 32-bit hex value Unicode character\n",
    "print('Work hard Dream Big ',end='\\U000001a9 ') "
   ]
  },
  {
   "cell_type": "code",
   "execution_count": 29,
   "metadata": {},
   "outputs": [
    {
     "name": "stdout",
     "output_type": "stream",
     "text": [
      "Work hard Dream Big ¥ "
     ]
    }
   ],
   "source": [
    "#\\ooo Prints character based on its octal value\n",
    "print('Work hard Dream Big ',end='\\245 ') "
   ]
  },
  {
   "cell_type": "code",
   "execution_count": 30,
   "metadata": {},
   "outputs": [
    {
     "name": "stdout",
     "output_type": "stream",
     "text": [
      "Work hard Dream Big # "
     ]
    }
   ],
   "source": [
    "#\\xhh Prints character based on its hex value\n",
    "print('Work hard Dream Big ',end='\\x23 ') "
   ]
  },
  {
   "cell_type": "code",
   "execution_count": 31,
   "metadata": {},
   "outputs": [
    {
     "name": "stdout",
     "output_type": "stream",
     "text": [
      "we are 3 friends\n",
      "we are 3 friends\n",
      "We are 3 friends\n"
     ]
    }
   ],
   "source": [
    "# \\f form fed or formating\n",
    "a = 3\n",
    "print('we are', a,'friends')\n",
    "print(f'we are {a} friends')\n",
    "print((\"We are {0} friends\").format(a))"
   ]
  },
  {
   "cell_type": "code",
   "execution_count": 32,
   "metadata": {},
   "outputs": [
    {
     "name": "stdout",
     "output_type": "stream",
     "text": [
      "Hello, World !\n"
     ]
    }
   ],
   "source": [
    "#From Book\n",
    "print(\"Hello, World !\")"
   ]
  }
 ],
 "metadata": {
  "kernelspec": {
   "display_name": "Python 3",
   "language": "python",
   "name": "python3"
  },
  "language_info": {
   "codemirror_mode": {
    "name": "ipython",
    "version": 3
   },
   "file_extension": ".py",
   "mimetype": "text/x-python",
   "name": "python",
   "nbconvert_exporter": "python",
   "pygments_lexer": "ipython3",
   "version": "3.7.6"
  }
 },
 "nbformat": 4,
 "nbformat_minor": 4
}
