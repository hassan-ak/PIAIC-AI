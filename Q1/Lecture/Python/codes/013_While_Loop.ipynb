{
 "cells": [
  {
   "cell_type": "markdown",
   "metadata": {},
   "source": [
    "## 3.3.12. Loops"
   ]
  },
  {
   "cell_type": "code",
   "execution_count": 1,
   "metadata": {},
   "outputs": [],
   "source": [
    "# Lecture Slides 14\n",
    "# Chapter No. 51 - 52\n",
    "# work similar to for loop but gives the option to quit by setting flags"
   ]
  },
  {
   "cell_type": "code",
   "execution_count": 2,
   "metadata": {},
   "outputs": [
    {
     "name": "stdout",
     "output_type": "stream",
     "text": [
      "0 This is while loop printing\n",
      "1 This is while loop printing\n",
      "2 This is while loop printing\n",
      "3 This is while loop printing\n",
      "4 This is while loop printing\n",
      "5 This is while loop printing\n",
      "6 This is while loop printing\n",
      "7 This is while loop printing\n",
      "8 This is while loop printing\n",
      "9 This is while loop printing\n",
      "10 This is while loop printing\n"
     ]
    }
   ],
   "source": [
    "# while loop\n",
    "a = 0\n",
    "while a<=10:\n",
    "    print(a,'This is while loop printing')\n",
    "    a +=1"
   ]
  },
  {
   "cell_type": "code",
   "execution_count": 3,
   "metadata": {},
   "outputs": [
    {
     "name": "stdout",
     "output_type": "stream",
     "text": [
      "0 This is while loop printing\n",
      "1 This is while loop printing\n",
      "2 This is while loop printing\n",
      "3 This is while loop printing\n",
      "4 This is while loop printing\n",
      "5 This is while loop printing\n",
      "6 This is while loop printing\n",
      "7 This is while loop printing\n",
      "8 This is while loop printing\n",
      "9 This is while loop printing\n"
     ]
    }
   ],
   "source": [
    "for num in range(10):\n",
    "    print(num,'This is while loop printing')"
   ]
  },
  {
   "cell_type": "code",
   "execution_count": 4,
   "metadata": {},
   "outputs": [
    {
     "name": "stdout",
     "output_type": "stream",
     "text": [
      "Enter your favourite foodsDaal Chawal\n",
      "Enter your favourite foodsBiryani\n",
      "Enter your favourite foodsq\n"
     ]
    },
    {
     "data": {
      "text/plain": [
       "['Daal Chawal', 'Biryani']"
      ]
     },
     "execution_count": 4,
     "metadata": {},
     "output_type": "execute_result"
    }
   ],
   "source": [
    "# Setting a Flag\n",
    "flag = True\n",
    "fav_food = []\n",
    "while flag:\n",
    "    user_input = input('Enter your favourite foods')\n",
    "    if user_input=='q':\n",
    "        flag=False\n",
    "    else:\n",
    "        fav_food.append(user_input)\n",
    "fav_food"
   ]
  },
  {
   "cell_type": "code",
   "execution_count": 5,
   "metadata": {},
   "outputs": [],
   "source": [
    "# Ch No. 51-----While loops"
   ]
  },
  {
   "cell_type": "code",
   "execution_count": 6,
   "metadata": {},
   "outputs": [
    {
     "name": "stdout",
     "output_type": "stream",
     "text": [
      "Enter the name of a city: Santa Fe\n",
      "It's one of the cleanest cities\n"
     ]
    }
   ],
   "source": [
    "# lets recal for loop first\n",
    "    # cycles through a series\n",
    "    # ends when series end\n",
    "    # ends if encounter a break\n",
    "cleanest_cities = [\"Cheyenne\", \"Santa Fe\", \"Tucson\", \"Great Falls\", \"Honolulu\"]\n",
    "city_to_check = input(\"Enter the name of a city: \") \n",
    "for a_clean_city in cleanest_cities:\n",
    "    if city_to_check == a_clean_city:\n",
    "        print(\"It's one of the cleanest cities\")\n",
    "        break "
   ]
  },
  {
   "cell_type": "code",
   "execution_count": 7,
   "metadata": {},
   "outputs": [
    {
     "name": "stdout",
     "output_type": "stream",
     "text": [
      "Enter a city, or q to quit:Honolulu\n",
      "It's one of the cleanest cities\n",
      "Enter a city, or q to quit:q\n"
     ]
    }
   ],
   "source": [
    "# in lame term we can say we use while loop if we want to check it multiple times\n",
    "cleanest_cities = [\"Cheyenne\", \"Santa Fe\", \"Tucson\", \"Great Falls\", \"Honolulu\"]\n",
    "user_input = \"\"\n",
    "while user_input != \"q\":\n",
    "    user_input = input(\"Enter a city, or q to quit:\")\n",
    "    if user_input != \"q\":\n",
    "        for a_clean_city in cleanest_cities:\n",
    "            if user_input == a_clean_city:\n",
    "                print(\"It's one of the cleanest cities\")\n",
    "                break\n",
    "# before using a while loop always define the variable"
   ]
  },
  {
   "cell_type": "code",
   "execution_count": 8,
   "metadata": {},
   "outputs": [],
   "source": [
    "# Ch No. 52-----While loops: Setting a flag"
   ]
  },
  {
   "cell_type": "code",
   "execution_count": 9,
   "metadata": {},
   "outputs": [
    {
     "name": "stdout",
     "output_type": "stream",
     "text": [
      "Enter a city, or q to quit:Lahore\n",
      "Enter a city, or q to quit:Honolulu\n",
      "It's one of the cleanest cities\n",
      "Enter a city, or q to quit:q\n"
     ]
    }
   ],
   "source": [
    "# we can set a flag to run while loop\n",
    "keep_looping = True\n",
    "while keep_looping == True:\n",
    "    user_input = input(\"Enter a city, or q to quit:\")\n",
    "    if user_input != \"q\":\n",
    "        for a_clean_city in cleanest_cities:\n",
    "            if user_input == a_clean_city:\n",
    "                print(\"It's one of the cleanest cities\")\n",
    "                break\n",
    "    else:\n",
    "        keep_looping = False"
   ]
  }
 ],
 "metadata": {
  "kernelspec": {
   "display_name": "Python 3",
   "language": "python",
   "name": "python3"
  },
  "language_info": {
   "codemirror_mode": {
    "name": "ipython",
    "version": 3
   },
   "file_extension": ".py",
   "mimetype": "text/x-python",
   "name": "python",
   "nbconvert_exporter": "python",
   "pygments_lexer": "ipython3",
   "version": "3.7.6"
  }
 },
 "nbformat": 4,
 "nbformat_minor": 4
}
