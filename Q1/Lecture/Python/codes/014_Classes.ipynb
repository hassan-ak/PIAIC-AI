{
 "cells": [
  {
   "cell_type": "markdown",
   "metadata": {},
   "source": [
    "## 3.3.13. Classes"
   ]
  },
  {
   "cell_type": "code",
   "execution_count": 1,
   "metadata": {},
   "outputs": [],
   "source": [
    "# Lecture Slides 15 - 23\n",
    "# Chapter No. 53 - 61"
   ]
  },
  {
   "cell_type": "code",
   "execution_count": 2,
   "metadata": {},
   "outputs": [],
   "source": [
    "# From Portal"
   ]
  },
  {
   "cell_type": "code",
   "execution_count": 3,
   "metadata": {},
   "outputs": [],
   "source": [
    "# Pythan is a OOP - it means all the code is implemented in classes\n",
    "# almost every thing is a class based\n",
    "# classes are used to keep related things together\n",
    "# What is a Class\n",
    "    # model\n",
    "    # blueprint\n",
    "    # map\n",
    "    # templete\n",
    "    # something that can be followed to create objects or instances\n",
    "# class holds\n",
    "    # variables\n",
    "    # functions"
   ]
  },
  {
   "cell_type": "code",
   "execution_count": 4,
   "metadata": {},
   "outputs": [],
   "source": [
    "# define a class\n",
    "class Car():\n",
    "    # attributes\n",
    "    def __init__(self,make,model,year):\n",
    "        self.make=make\n",
    "        self.model=model\n",
    "        self.year=year\n",
    "    # behaviours\n",
    "    def description(self):\n",
    "        print(f'The make of Car is {self.make}')\n",
    "        print(f'The make of Car is {self.model}')\n",
    "        print(f'The make of Car is {self.year}')\n",
    "    def move(self):\n",
    "        print(f'{self.make} is moving with speed')\n",
    "    def applyingBreak(self):\n",
    "        print(f'{self.model} has applied break')"
   ]
  },
  {
   "cell_type": "code",
   "execution_count": 5,
   "metadata": {},
   "outputs": [],
   "source": [
    "# how to create objects\n",
    "car1 = Car('Honda','Civic',2019)\n",
    "car2 = Car('Suzuki','Cultus',2015)"
   ]
  },
  {
   "cell_type": "code",
   "execution_count": 6,
   "metadata": {},
   "outputs": [
    {
     "data": {
      "text/plain": [
       "'Honda'"
      ]
     },
     "execution_count": 6,
     "metadata": {},
     "output_type": "execute_result"
    }
   ],
   "source": [
    "car1.make"
   ]
  },
  {
   "cell_type": "code",
   "execution_count": 7,
   "metadata": {},
   "outputs": [
    {
     "data": {
      "text/plain": [
       "'Suzuki'"
      ]
     },
     "execution_count": 7,
     "metadata": {},
     "output_type": "execute_result"
    }
   ],
   "source": [
    "car2.make"
   ]
  },
  {
   "cell_type": "code",
   "execution_count": 8,
   "metadata": {},
   "outputs": [
    {
     "name": "stdout",
     "output_type": "stream",
     "text": [
      "The make of Car is Suzuki\n",
      "The make of Car is Cultus\n",
      "The make of Car is 2015\n"
     ]
    }
   ],
   "source": [
    "car2.description()"
   ]
  },
  {
   "cell_type": "code",
   "execution_count": 9,
   "metadata": {},
   "outputs": [
    {
     "name": "stdout",
     "output_type": "stream",
     "text": [
      "The make of Car is Honda\n",
      "The make of Car is Civic\n",
      "The make of Car is 2019\n"
     ]
    }
   ],
   "source": [
    "car1.description()"
   ]
  },
  {
   "cell_type": "code",
   "execution_count": 10,
   "metadata": {},
   "outputs": [],
   "source": [
    "# Changing an attribute value\n",
    "# we can change value of what ever object we want"
   ]
  },
  {
   "cell_type": "code",
   "execution_count": 11,
   "metadata": {},
   "outputs": [
    {
     "data": {
      "text/plain": [
       "'Honda'"
      ]
     },
     "execution_count": 11,
     "metadata": {},
     "output_type": "execute_result"
    }
   ],
   "source": [
    "car1.make"
   ]
  },
  {
   "cell_type": "code",
   "execution_count": 12,
   "metadata": {},
   "outputs": [],
   "source": [
    "car1.make='Yamaha'"
   ]
  },
  {
   "cell_type": "code",
   "execution_count": 13,
   "metadata": {},
   "outputs": [
    {
     "data": {
      "text/plain": [
       "'Yamaha'"
      ]
     },
     "execution_count": 13,
     "metadata": {},
     "output_type": "execute_result"
    }
   ],
   "source": [
    "car1.make"
   ]
  },
  {
   "cell_type": "code",
   "execution_count": 14,
   "metadata": {},
   "outputs": [],
   "source": [
    "# we can use default attribute"
   ]
  },
  {
   "cell_type": "code",
   "execution_count": 15,
   "metadata": {},
   "outputs": [],
   "source": [
    "class Car():\n",
    "    # attributes\n",
    "    def __init__(self,make,model,year):\n",
    "        self.make=make\n",
    "        self.model=model\n",
    "        self.year=year\n",
    "        self.battery = '200 Amp'\n",
    "    # behaviours\n",
    "    def description(self):\n",
    "        print(f'The make of Car is {self.make}')\n",
    "        print(f'The make of Car is {self.model}')\n",
    "        print(f'The make of Car is {self.year}')\n",
    "    def move(self):\n",
    "        print(f'{self.make} is moving with speed')\n",
    "    def applyingBreak(self):\n",
    "        print(f'{self.model} has applied break')\n",
    "    def desBattery(self):\n",
    "        print(f'The batrry of Car is {self.battery}')"
   ]
  },
  {
   "cell_type": "code",
   "execution_count": 16,
   "metadata": {},
   "outputs": [],
   "source": [
    "car1 = Car('Honda','Civic',2019)\n",
    "car2 = Car('Suzuki','Cultus',2015)"
   ]
  },
  {
   "cell_type": "code",
   "execution_count": 17,
   "metadata": {},
   "outputs": [
    {
     "data": {
      "text/plain": [
       "'200 Amp'"
      ]
     },
     "execution_count": 17,
     "metadata": {},
     "output_type": "execute_result"
    }
   ],
   "source": [
    "car1.battery"
   ]
  },
  {
   "cell_type": "code",
   "execution_count": 18,
   "metadata": {},
   "outputs": [],
   "source": [
    "car1.battery='400 Amp'"
   ]
  },
  {
   "cell_type": "code",
   "execution_count": 19,
   "metadata": {},
   "outputs": [
    {
     "data": {
      "text/plain": [
       "'400 Amp'"
      ]
     },
     "execution_count": 19,
     "metadata": {},
     "output_type": "execute_result"
    }
   ],
   "source": [
    "car1.battery"
   ]
  },
  {
   "cell_type": "code",
   "execution_count": 20,
   "metadata": {},
   "outputs": [],
   "source": [
    "# We can use functions for updating or accesing\n",
    "# by direct hitting\n",
    "# by using function"
   ]
  },
  {
   "cell_type": "code",
   "execution_count": 21,
   "metadata": {},
   "outputs": [],
   "source": [
    "class Car():\n",
    "    # attributes\n",
    "    def __init__(self,make,model,year):\n",
    "        self.make=make\n",
    "        self.model=model\n",
    "        self.year=year\n",
    "        self.battery = '200 Amp'\n",
    "    # behaviours\n",
    "    def description(self):\n",
    "        print(f'The make of Car is {self.make}')\n",
    "        print(f'The make of Car is {self.model}')\n",
    "        print(f'The make of Car is {self.year}')\n",
    "    def move(self):\n",
    "        print(f'{self.make} is moving with speed')\n",
    "    def applyingBreak(self):\n",
    "        print(f'{self.model} has applied break')\n",
    "    def desBattery(self):\n",
    "        print(f'The batrry of Car is {self.battery}')\n",
    "    def setBatterySize(self,newSize):\n",
    "        self.battery=newSize\n",
    "    def getBatterySize(self):\n",
    "        print(f'The Size of your Cars battery is {self.battery}')"
   ]
  },
  {
   "cell_type": "code",
   "execution_count": 22,
   "metadata": {},
   "outputs": [],
   "source": [
    "car1 = Car('Honda','Civic',2019)\n",
    "car2 = Car('Suzuki','Cultus',2015)"
   ]
  },
  {
   "cell_type": "code",
   "execution_count": 23,
   "metadata": {},
   "outputs": [
    {
     "name": "stdout",
     "output_type": "stream",
     "text": [
      "The Size of your Cars battery is 200 Amp\n"
     ]
    }
   ],
   "source": [
    "car1.getBatterySize()"
   ]
  },
  {
   "cell_type": "code",
   "execution_count": 24,
   "metadata": {},
   "outputs": [],
   "source": [
    "car2.setBatterySize('4005 Amp')"
   ]
  },
  {
   "cell_type": "code",
   "execution_count": 25,
   "metadata": {},
   "outputs": [
    {
     "name": "stdout",
     "output_type": "stream",
     "text": [
      "The Size of your Cars battery is 4005 Amp\n"
     ]
    }
   ],
   "source": [
    "car2.getBatterySize()"
   ]
  },
  {
   "cell_type": "code",
   "execution_count": 26,
   "metadata": {},
   "outputs": [],
   "source": [
    "# Ch No. 53-----Classes\n",
    "# classes are templates. They help you standardize and organize information. \n",
    "# same structure but different data for every entry"
   ]
  },
  {
   "cell_type": "code",
   "execution_count": 27,
   "metadata": {},
   "outputs": [],
   "source": [
    "# Always use capital letter while naming a class\n",
    "# use pass at the end\n",
    "class Patient() :\n",
    "    pass"
   ]
  },
  {
   "cell_type": "code",
   "execution_count": 28,
   "metadata": {},
   "outputs": [],
   "source": [
    "# Ch No. 54-----Classes: Starting to build the structure"
   ]
  },
  {
   "cell_type": "code",
   "execution_count": 29,
   "metadata": {},
   "outputs": [],
   "source": [
    "class Patient():\n",
    "    def __init__(self, last_name):\n",
    "        pass"
   ]
  },
  {
   "cell_type": "code",
   "execution_count": 30,
   "metadata": {},
   "outputs": [],
   "source": [
    "# Ch No. 55-----Classes: A bit of housekeeping"
   ]
  },
  {
   "cell_type": "code",
   "execution_count": 31,
   "metadata": {},
   "outputs": [],
   "source": [
    "# there will be a variable that has the same value as the attribute we're talking about \n",
    "class Patient():\n",
    "    def __init__(self, last_name):\n",
    "        # self.last_name = last_name we can use it to but for convinence use same bame\n",
    "        self.last_name = last_name\n",
    "        pass"
   ]
  },
  {
   "cell_type": "code",
   "execution_count": 32,
   "metadata": {},
   "outputs": [],
   "source": [
    "# Ch No. 56-----Classes: Creating an instance"
   ]
  },
  {
   "cell_type": "code",
   "execution_count": 33,
   "metadata": {},
   "outputs": [],
   "source": [
    "class Patient():\n",
    "    def __init__(self, last_name):\n",
    "        self.last_name = last_name\n",
    "        pass"
   ]
  },
  {
   "cell_type": "code",
   "execution_count": 34,
   "metadata": {},
   "outputs": [],
   "source": [
    "# for different patients create different instances\n",
    "pid4343 = Patient(\"Taleb\")\n",
    "pid4344 = Patient(\"Anand\")\n",
    "pid4345 = Patient(\"Oppenheimer\")\n",
    "pid4346 = Patient(\"Lin\")\n",
    "pid12902 = Patient(\"Nilsson\")"
   ]
  },
  {
   "cell_type": "code",
   "execution_count": 35,
   "metadata": {},
   "outputs": [],
   "source": [
    "# Instead of creating a class and then creating multiple instances of the class, \n",
    "# you could create a dictionary for each patient\n",
    "pid4343 = {\"last name\": \"Taleb\"}\n",
    "pid4344 = {\"last name\": \"Anand\"}\n",
    "pid4345 = {\"last name\": \"Oppenheimer\"}\n",
    "pid4346 = {\"last name\": \"Lin\"}\n",
    "pid12902 = {\"last name\": \"Nilsson\"}"
   ]
  },
  {
   "cell_type": "code",
   "execution_count": 36,
   "metadata": {},
   "outputs": [],
   "source": [
    "# Ch No. 57-----Classes: A little more complexity"
   ]
  },
  {
   "cell_type": "code",
   "execution_count": 37,
   "metadata": {},
   "outputs": [],
   "source": [
    "# Lets add some more attributes\n",
    "class Patient():\n",
    "    def __init__(self, last_name, first_name, age):\n",
    "        self.last_name = last_name\n",
    "        self.first_name = first_name\n",
    "        self.age = age\n",
    "pid4343 = Patient(\"Taleb\", \"Sue\", 61) \n",
    "pid4344 = Patient(\"Anand\", \"Punya\", 29) \n",
    "pid4345 = Patient(\"Oppenheimer\", \"Douglas\", 15) \n",
    "pid4346 = Patient(\"Lin\", \"Lilly\", 48) \n",
    "pid12902 = Patient(\"Nilsson\", \"Rhonda\", 33)"
   ]
  },
  {
   "cell_type": "code",
   "execution_count": 38,
   "metadata": {},
   "outputs": [],
   "source": [
    "# Ch No. 58-----Classes: Getting info out of instances"
   ]
  },
  {
   "cell_type": "code",
   "execution_count": 39,
   "metadata": {},
   "outputs": [],
   "source": [
    "class Patient():\n",
    "    def __init__(self, last_name, first_name, age):\n",
    "        self.last_name = last_name\n",
    "        self.first_name = first_name\n",
    "        self.age = age\n",
    "pid4343 = Patient(\"Taleb\", \"Sue\", 61) \n",
    "pid4344 = Patient(\"Anand\", \"Punya\", 29) \n",
    "pid4345 = Patient(\"Oppenheimer\", \"Douglas\", 15) \n",
    "pid4346 = Patient(\"Lin\", \"Lilly\", 48) \n",
    "pid12902 = Patient(\"Nilsson\", \"Rhonda\", 33)"
   ]
  },
  {
   "cell_type": "code",
   "execution_count": 40,
   "metadata": {},
   "outputs": [
    {
     "name": "stdout",
     "output_type": "stream",
     "text": [
      "61\n"
     ]
    }
   ],
   "source": [
    "age_of_patient = pid4343.age\n",
    "print(age_of_patient)"
   ]
  },
  {
   "cell_type": "code",
   "execution_count": 41,
   "metadata": {},
   "outputs": [],
   "source": [
    "# Ch No. 59-----Classes: Building functions into them"
   ]
  },
  {
   "cell_type": "code",
   "execution_count": 42,
   "metadata": {},
   "outputs": [],
   "source": [
    "# a class of patients\n",
    "class Patient():\n",
    "    def __init__(self, last_name, first_name, age):\n",
    "        self.last_name = last_name\n",
    "        self.first_name = first_name\n",
    "        self.age = age\n",
    "pid4343 = Patient(\"Taleb\", \"Sue\", 61) \n",
    "pid4344 = Patient(\"Anand\", \"Punya\", 29) \n",
    "pid4345 = Patient(\"Oppenheimer\", \"Douglas\", 15) \n",
    "pid4346 = Patient(\"Lin\", \"Lilly\", 48) \n",
    "pid12902 = Patient(\"Nilsson\", \"Rhonda\", 33)"
   ]
  },
  {
   "cell_type": "code",
   "execution_count": 43,
   "metadata": {},
   "outputs": [],
   "source": [
    "# a function to chk if a patient is minor\n",
    "def say_if_minor(patient_first_name, patient_last_name, patient_age):\n",
    "    if patient_age < 21:\n",
    "        print(patient_first_name + \" \" + patient_last_name + \"  is a minor\") "
   ]
  },
  {
   "cell_type": "code",
   "execution_count": 44,
   "metadata": {},
   "outputs": [
    {
     "name": "stdout",
     "output_type": "stream",
     "text": [
      "Douglas Oppenheimer  is a minor\n"
     ]
    }
   ],
   "source": [
    "# checking for minor\n",
    "say_if_minor(pid4345.first_name, pid4345.last_name, pid4345.age)"
   ]
  },
  {
   "cell_type": "code",
   "execution_count": 45,
   "metadata": {},
   "outputs": [
    {
     "ename": "AttributeError",
     "evalue": "'Patient' object has no attribute 'say_if_minor'",
     "output_type": "error",
     "traceback": [
      "\u001b[1;31m---------------------------------------------------------------------------\u001b[0m",
      "\u001b[1;31mAttributeError\u001b[0m                            Traceback (most recent call last)",
      "\u001b[1;32m<ipython-input-45-ac22be209d9e>\u001b[0m in \u001b[0;36m<module>\u001b[1;34m\u001b[0m\n\u001b[0;32m      1\u001b[0m \u001b[1;31m# the above code is a freestanding function. we can make a function inside\u001b[0m\u001b[1;33m\u001b[0m\u001b[1;33m\u001b[0m\u001b[1;33m\u001b[0m\u001b[0m\n\u001b[0;32m      2\u001b[0m \u001b[1;31m# for calling such as function following coomad is used\u001b[0m\u001b[1;33m\u001b[0m\u001b[1;33m\u001b[0m\u001b[1;33m\u001b[0m\u001b[0m\n\u001b[1;32m----> 3\u001b[1;33m \u001b[0mpid4343\u001b[0m\u001b[1;33m.\u001b[0m\u001b[0msay_if_minor\u001b[0m\u001b[1;33m(\u001b[0m\u001b[1;33m)\u001b[0m\u001b[1;33m\u001b[0m\u001b[1;33m\u001b[0m\u001b[0m\n\u001b[0m\u001b[0;32m      4\u001b[0m \u001b[1;31m# or\u001b[0m\u001b[1;33m\u001b[0m\u001b[1;33m\u001b[0m\u001b[1;33m\u001b[0m\u001b[0m\n\u001b[0;32m      5\u001b[0m \u001b[0mpid4343\u001b[0m\u001b[1;33m.\u001b[0m\u001b[0msay_if_minor\u001b[0m\u001b[1;33m(\u001b[0m\u001b[1;34m\"April\"\u001b[0m\u001b[1;33m,\u001b[0m \u001b[0minsured\u001b[0m\u001b[1;33m=\u001b[0m\u001b[1;32mTrue\u001b[0m\u001b[1;33m)\u001b[0m\u001b[1;33m\u001b[0m\u001b[1;33m\u001b[0m\u001b[0m\n",
      "\u001b[1;31mAttributeError\u001b[0m: 'Patient' object has no attribute 'say_if_minor'"
     ]
    }
   ],
   "source": [
    "# the above code is a freestanding function. we can make a function inside\n",
    "# for calling such as function following coomad is used\n",
    "pid4343.say_if_minor()\n",
    "# or\n",
    "pid4343.say_if_minor(\"April\", insured=True)\n",
    "# results in error as we didn't defined it\n",
    "# will be defined next"
   ]
  },
  {
   "cell_type": "code",
   "execution_count": 46,
   "metadata": {},
   "outputs": [],
   "source": [
    "# Ch No. 60-----Classes: Coding a method"
   ]
  },
  {
   "cell_type": "code",
   "execution_count": 47,
   "metadata": {},
   "outputs": [],
   "source": [
    "class Patient():\n",
    "    def __init__(self, last_name, first_name, age):\n",
    "        self.last_name = last_name\n",
    "        self.first_name = first_name\n",
    "        self.age = age\n",
    "    def say_if_minor(self):\n",
    "        if self.age < 21:\n",
    "            print('The patient is a minor')\n",
    "            print(self.first_name + \" \" + self.last_name + \" is a minor\")\n",
    "pid4343 = Patient(\"Taleb\", \"Sue\", 61) \n",
    "pid4344 = Patient(\"Anand\", \"Punya\", 29) \n",
    "pid4345 = Patient(\"Oppenheimer\", \"Douglas\", 15) \n",
    "pid4346 = Patient(\"Lin\", \"Lilly\", 48) \n",
    "pid12902 = Patient(\"Nilsson\", \"Rhonda\", 33)"
   ]
  },
  {
   "cell_type": "code",
   "execution_count": 48,
   "metadata": {},
   "outputs": [
    {
     "name": "stdout",
     "output_type": "stream",
     "text": [
      "The patient is a minor\n",
      "Douglas Oppenheimer is a minor\n"
     ]
    }
   ],
   "source": [
    "pid4345.say_if_minor() "
   ]
  },
  {
   "cell_type": "code",
   "execution_count": 49,
   "metadata": {},
   "outputs": [],
   "source": [
    "# Ch No. 61-----Classes: Changing an attribute's value"
   ]
  },
  {
   "cell_type": "code",
   "execution_count": 50,
   "metadata": {},
   "outputs": [],
   "source": [
    "class Patient():\n",
    "    def __init__(self, last_name, first_name, age):\n",
    "        self.last_name = last_name\n",
    "        self.first_name = first_name\n",
    "        self.age = age\n",
    "    def say_if_minor(self):\n",
    "        if self.age < 21:\n",
    "            print('The patient is a minor')\n",
    "            print(self.first_name + \" \" + self.last_name + \" is a minor\")\n",
    "pid4343 = Patient(\"Taleb\", \"Sue\", 61) \n",
    "pid4344 = Patient(\"Anand\", \"Punya\", 29) \n",
    "pid4345 = Patient(\"Oppenheimer\", \"Douglas\", 15) \n",
    "pid4346 = Patient(\"Lin\", \"Lilly\", 48) \n",
    "pid12902 = Patient(\"Nilsson\", \"Rhonda\", 33)"
   ]
  },
  {
   "cell_type": "code",
   "execution_count": 51,
   "metadata": {},
   "outputs": [
    {
     "data": {
      "text/plain": [
       "'Ortega'"
      ]
     },
     "execution_count": 51,
     "metadata": {},
     "output_type": "execute_result"
    }
   ],
   "source": [
    "# we can use this method\n",
    "pid4343.last_name = \"Ortega\" \n",
    "pid4343.last_name"
   ]
  },
  {
   "cell_type": "code",
   "execution_count": 52,
   "metadata": {},
   "outputs": [],
   "source": [
    "class Patient():\n",
    "    def __init__(self, last_name, first_name, age):\n",
    "        self.last_name = last_name\n",
    "        self.first_name = first_name\n",
    "        self.age = age\n",
    "    def say_if_minor(self):\n",
    "        if self.age < 21:\n",
    "            print('The patient is a minor')\n",
    "            print(self.first_name + \" \" + self.last_name + \" is a minor\")\n",
    "    def change_last_name(self, new_last_name):\n",
    "        self.last_name = new_last_name\n",
    "pid4343 = Patient(\"Taleb\", \"Sue\", 61) \n",
    "pid4344 = Patient(\"Anand\", \"Punya\", 29) \n",
    "pid4345 = Patient(\"Oppenheimer\", \"Douglas\", 15) \n",
    "pid4346 = Patient(\"Lin\", \"Lilly\", 48) \n",
    "pid12902 = Patient(\"Nilsson\", \"Rhonda\", 33)"
   ]
  },
  {
   "cell_type": "code",
   "execution_count": 53,
   "metadata": {},
   "outputs": [
    {
     "data": {
      "text/plain": [
       "'Taleb'"
      ]
     },
     "execution_count": 53,
     "metadata": {},
     "output_type": "execute_result"
    }
   ],
   "source": [
    "pid4343.last_name"
   ]
  },
  {
   "cell_type": "code",
   "execution_count": 54,
   "metadata": {},
   "outputs": [
    {
     "data": {
      "text/plain": [
       "'Ortega'"
      ]
     },
     "execution_count": 54,
     "metadata": {},
     "output_type": "execute_result"
    }
   ],
   "source": [
    "pid4343.change_last_name(\"Ortega\") \n",
    "pid4343.last_name"
   ]
  }
 ],
 "metadata": {
  "kernelspec": {
   "display_name": "Python 3",
   "language": "python",
   "name": "python3"
  },
  "language_info": {
   "codemirror_mode": {
    "name": "ipython",
    "version": 3
   },
   "file_extension": ".py",
   "mimetype": "text/x-python",
   "name": "python",
   "nbconvert_exporter": "python",
   "pygments_lexer": "ipython3",
   "version": "3.7.6"
  }
 },
 "nbformat": 4,
 "nbformat_minor": 4
}
