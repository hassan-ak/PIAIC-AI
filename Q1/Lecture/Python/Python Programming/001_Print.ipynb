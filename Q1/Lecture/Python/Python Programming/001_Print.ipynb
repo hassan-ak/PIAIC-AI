{
 "cells": [
  {
   "cell_type": "markdown",
   "metadata": {},
   "source": [
    "# Print\n",
    "- The print function in Python is a function that outputs to your console window whatever you say you want to print out.\n",
    "- On your first look, it might appear that the print function is rather useless for programming, but it is actually obe of the most widely used function in all of python\n",
    "- `print()` always use () with a function. we can also identify a function due to presense of () or due to green colour\n",
    "- `Print()` ---> it gives a traceback / error, python is a case senstive language always check spells"
   ]
  },
  {
   "cell_type": "code",
   "execution_count": 1,
   "metadata": {
    "scrolled": true
   },
   "outputs": [
    {
     "name": "stdout",
     "output_type": "stream",
     "text": [
      "217\n"
     ]
    }
   ],
   "source": [
    "print(217)"
   ]
  },
  {
   "cell_type": "markdown",
   "metadata": {},
   "source": [
    "- `print(217)`\n",
    "    - numbers can be written diretly in the function\n",
    "- `print (123,456)`\n",
    "    - we can use print command on multiple entries too\n",
    "    - always seprate multiple entries with a comma\n",
    "    - comma automaticaly place a space between entries\n",
    "- `print(123,12.3)`\n",
    "    - we can print numbers\n",
    "        - integers\n",
    "        - float - decimal\n",
    "- `print(\"python\")`\n",
    "- `print('python')`\n",
    "    - we can print text too\n",
    "    - string\n",
    "    - while printing text need to use \"\" or ''\n",
    "- `print('12')`\n",
    "- `print(\"12\")`\n",
    "    - every thing enclossed in a \"\" or '' is a string\n",
    "- `print('123 Pakistan')`\n",
    "    - Alpha numeric data\n",
    "- **Note** \n",
    "    - write any function\n",
    "        - place curser b/w ()\n",
    "        - press shift+tab\n",
    "        - it opens up the signature of the function"
   ]
  },
  {
   "cell_type": "markdown",
   "metadata": {},
   "source": [
    "**Seprater** \n",
    "    # by default sep=' '"
   ]
  },
  {
   "cell_type": "code",
   "execution_count": 2,
   "metadata": {},
   "outputs": [
    {
     "name": "stdout",
     "output_type": "stream",
     "text": [
      "long live pakistan\n",
      "long live pakistan\n"
     ]
    }
   ],
   "source": [
    "print('long','live','pakistan')\n",
    "print('long','live','pakistan',sep=' ')"
   ]
  },
  {
   "cell_type": "code",
   "execution_count": 3,
   "metadata": {},
   "outputs": [
    {
     "name": "stdout",
     "output_type": "stream",
     "text": [
      "longlivepakistan\n",
      "long---pindi---live---pindi---pakistan\n"
     ]
    }
   ],
   "source": [
    "print('long','live','pakistan',sep='')\n",
    "print('long','live','pakistan',sep='---pindi---')"
   ]
  },
  {
   "cell_type": "markdown",
   "metadata": {},
   "source": [
    "**end**\n",
    "- by default end = '\\n'\n",
    "- \\n is known as escape character\n",
    "- we can use escape character any where we want\n",
    "- \\n adds new line\n",
    "\n",
    "```print('Work hard',end='\\n')\n",
    "print('dream big',end='\\n')```"
   ]
  },
  {
   "cell_type": "code",
   "execution_count": 4,
   "metadata": {},
   "outputs": [
    {
     "name": "stdout",
     "output_type": "stream",
     "text": [
      "Work hard\n",
      "dream big\n"
     ]
    }
   ],
   "source": [
    "print('Work hard')\n",
    "print('dream big')"
   ]
  },
  {
   "cell_type": "code",
   "execution_count": 5,
   "metadata": {},
   "outputs": [
    {
     "name": "stdout",
     "output_type": "stream",
     "text": [
      "Work hard\n",
      "\n",
      "dream big\n",
      "\n"
     ]
    }
   ],
   "source": [
    "print('Work hard',end='\\n\\n')\n",
    "print('dream big',end='\\n\\n')"
   ]
  },
  {
   "cell_type": "markdown",
   "metadata": {},
   "source": [
    "There are other escape characters which are listed below:\n",
    "\n",
    "|Escape Sequence|Meaning|\n",
    "|---------------|-------|\n",
    "|\\newline|Backslash and newline ignored|\n",
    "|\\\\|Backslash (\\)|\n",
    "|\\'|Single quote (')|\n",
    "|\\\"|Double quote (\")|\n",
    "|\\a|ASCII Bell (BEL)|\n",
    "|\\b|ASCII Backspace (BS)|\n",
    "|\\f|ASCII Formfeed (FF)|\n",
    "|\\n|ASCII Linefeed (LF)|\n",
    "|\\r|ASCII Carriage Return (CR)|\n",
    "|\\t|ASCII Horizontal Tab (TAB)|\n",
    "|\\v|ASCII Vertical Tab (VT)|\n",
    "|\\ooo|Character with octal value ooo|\n",
    "|\\xhh|Character with hex value hh|\n",
    "|\\N{name}|Character named name in the Unicode database|\n",
    "|\\uxxxx|Character with 16-bit hex value xxxx|\n",
    "|\\Uxxxxxxxx|Character with 32-bit hex value xxxxxxxx|\n",
    "\n",
    "A file conatainig all the code related to `Print` can be found [here](../codes/001_Print.ipynb)"
   ]
  },
  {
   "cell_type": "markdown",
   "metadata": {},
   "source": [
    "[<--- Previous Page](README.md)"
   ]
  }
 ],
 "metadata": {
  "kernelspec": {
   "display_name": "Python 3",
   "language": "python",
   "name": "python3"
  },
  "language_info": {
   "codemirror_mode": {
    "name": "ipython",
    "version": 3
   },
   "file_extension": ".py",
   "mimetype": "text/x-python",
   "name": "python",
   "nbconvert_exporter": "python",
   "pygments_lexer": "ipython3",
   "version": "3.7.6"
  }
 },
 "nbformat": 4,
 "nbformat_minor": 4
}
