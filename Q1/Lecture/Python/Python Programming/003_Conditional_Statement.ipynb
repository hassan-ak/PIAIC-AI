{
 "cells": [
  {
   "cell_type": "markdown",
   "metadata": {},
   "source": [
    "# Conditional Statements"
   ]
  },
  {
   "cell_type": "markdown",
   "metadata": {},
   "source": [
    "## If Statement\n",
    "* An if statement is a programming conditioanl statement that, if proved true, performs a function or displays information.\n",
    "* If statements are used for decision making. Thay will run the body of code only when the IF statement is true.\n",
    "* when you want to justify one condition while the other condition is not true, then you use the \"if statement\".\n",
    "```\n",
    "num1 = 22\n",
    "if num1 == 22:\n",
    "    print(\"The number is 22\")\n",
    "```"
   ]
  },
  {
   "cell_type": "code",
   "execution_count": 1,
   "metadata": {},
   "outputs": [
    {
     "name": "stdout",
     "output_type": "stream",
     "text": [
      "Yep, it's cat.\n"
     ]
    }
   ],
   "source": [
    "species = \"cat\"\n",
    "if species == \"cat\":\n",
    "    print(\"Yep, it's cat.\")"
   ]
  },
  {
   "cell_type": "code",
   "execution_count": 2,
   "metadata": {},
   "outputs": [
    {
     "name": "stdout",
     "output_type": "stream",
     "text": [
      "So far so good.\n",
      "Congratulations.\n",
      "All done\n"
     ]
    }
   ],
   "source": [
    "number_of_husbands = 1\n",
    "if number_of_husbands == 1:\n",
    "    print(\"So far so good.\")\n",
    "    print(\"Congratulations.\")\n",
    "    print(\"All done\")"
   ]
  },
  {
   "cell_type": "markdown",
   "metadata": {},
   "source": [
    "## Comparison Operators\n",
    "* A comparison operator in python, also called python relational operator, **compares the value** of two operands and **returns True or False** based on whether the condition is met\n",
    "* String comparison. You can use **(>,<,<=,>=,==,!=)** to compare two strings. Python compares string **lexicographically** i.e using ASCII value of the characters.\n",
    "    * **>** is greater than\n",
    "    * **<** is less than\n",
    "    * **>=** is greater than or equal to \n",
    "    * **<=** is less than or equal to\n",
    "    * **==** is equal to\n",
    "    * **>** is not equal to\n",
    "```\n",
    "number = 69\n",
    "if number >=50:\n",
    "    print(\"Number is greater than 50\")\n",
    "```"
   ]
  },
  {
   "cell_type": "code",
   "execution_count": 3,
   "metadata": {},
   "outputs": [
    {
     "name": "stdout",
     "output_type": "stream",
     "text": [
      "You won.\n"
     ]
    }
   ],
   "source": [
    "your_ticket_number = 8\n",
    "if your_ticket_number == 8:\n",
    "    print(\"You won.\")"
   ]
  },
  {
   "cell_type": "code",
   "execution_count": 4,
   "metadata": {},
   "outputs": [
    {
     "name": "stdout",
     "output_type": "stream",
     "text": [
      "a is less than b\n",
      "Hello A\n",
      "Hello B\n",
      "Hello Python\n"
     ]
    }
   ],
   "source": [
    "# when returns true\n",
    "a = 100\n",
    "b = 200\n",
    "if a<b: #returns true, : defines the block \n",
    "    print(\"a is less than b\") #Rather than using {} we use indent\n",
    "    print(\"Hello A\")\n",
    "    print(\"Hello B\")\n",
    "print(\"Hello Python\") #We don’t use end just remove the indent"
   ]
  },
  {
   "cell_type": "code",
   "execution_count": 5,
   "metadata": {},
   "outputs": [
    {
     "name": "stdout",
     "output_type": "stream",
     "text": [
      "Pakistan\n"
     ]
    }
   ],
   "source": [
    "# when returns false\n",
    "a = 100\n",
    "b = 200\n",
    "if b<a: #returns false\n",
    "    print(\"b is less than a\") #this block will not be executed\n",
    "print(\"Pakistan\")"
   ]
  },
  {
   "cell_type": "markdown",
   "metadata": {},
   "source": [
    "## Else Statements\n",
    "* An **else statement** can be combined with an if statement.\n",
    "* An else statement contains the **block of code** that **executes** if the conditional expression in the **if statement** resolves to 0 or a **FALSE** value.\n",
    "```\n",
    "name = \"Python\"\n",
    "if name == \"Python\":\n",
    "    print(\"Your name is Hassan\")\n",
    "else:\n",
    "    print(\"I don't know your name\")\n",
    "```"
   ]
  },
  {
   "cell_type": "code",
   "execution_count": 6,
   "metadata": {},
   "outputs": [
    {
     "name": "stdout",
     "output_type": "stream",
     "text": [
      "22\n"
     ]
    }
   ],
   "source": [
    "buy_score = 0\n",
    "donut_condition = \"fresh\"\n",
    "donut_filling = \"chocolate\"\n",
    "donut_price = \"reasonable\"\n",
    "if donut_condition == \"fresh\":\n",
    "    buy_score += 10\n",
    "if donut_filling == \"chocolate\":\n",
    "    buy_score += 5\n",
    "if donut_price == \"reasonable\":\n",
    "    buy_score += 7\n",
    "print(buy_score)  "
   ]
  },
  {
   "cell_type": "markdown",
   "metadata": {},
   "source": [
    "## Elif Statements\n",
    "* The **elif statement** allows you to **check multiple expressions** for True and execute a block of code as soon as one of the conditions evaluates to True.\n",
    "* Similar to the else, the **elif statement is optional**. However unlike else, for which there can be at most one statement, there can be **any numbers of elif statements** following an if.\n"
   ]
  },
  {
   "cell_type": "code",
   "execution_count": 7,
   "metadata": {},
   "outputs": [
    {
     "name": "stdout",
     "output_type": "stream",
     "text": [
      "5\n"
     ]
    }
   ],
   "source": [
    "donut_condition = \"not fresh\"\n",
    "donut_price = \"low\"\n",
    "if donut_condition == \"fresh\":\n",
    "    buy_score = 10\n",
    "elif donut_price == \"low\":\n",
    "    buy_score = 5\n",
    "else:\n",
    "    buy_score = 0\n",
    "print(buy_score)"
   ]
  },
  {
   "cell_type": "markdown",
   "metadata": {},
   "source": [
    "## Testing Sets of Conditions\n",
    "* The condition usually uses **comparisons** and **arithmetic** expressions with variables. These expressions are evaluated to **Boolean** values **True or False**. The statements for the decision taking are called conditioanl statements, alternatively thay are also known as conditional expressions or conditional consrysts."
   ]
  },
  {
   "cell_type": "code",
   "execution_count": 8,
   "metadata": {},
   "outputs": [
    {
     "name": "stdout",
     "output_type": "stream",
     "text": [
      "Welcome to Leeds College!\n"
     ]
    }
   ],
   "source": [
    "SAT = 0\n",
    "GPA = 3\n",
    "parent = \"alum\"\n",
    "if SAT > 1 or GPA > 2.5 or parent == \"alum\":\n",
    "    message = \"Welcome to Leeds College!\"\n",
    "    print(message)"
   ]
  },
  {
   "cell_type": "code",
   "execution_count": 9,
   "metadata": {},
   "outputs": [
    {
     "name": "stdout",
     "output_type": "stream",
     "text": [
      "0 2\n"
     ]
    }
   ],
   "source": [
    "x=a=1\n",
    "y=b=5\n",
    "c=d=1\n",
    "h=f=2\n",
    "g=0\n",
    "e=0\n",
    "if (x == y or a == b) and c == d:\n",
    "    g = h\n",
    "else:\n",
    "    e = f\n",
    "print(g,e)"
   ]
  },
  {
   "cell_type": "markdown",
   "metadata": {},
   "source": [
    "## If Statements Nested\n",
    "* A **nested If** is na if statement that is the **target of another if statement**. Nested if statements means an if statement inside another if statement.\n",
    "* The inner if block will **only** be **executed** if the **outer if block executes successfully**."
   ]
  },
  {
   "cell_type": "code",
   "execution_count": 10,
   "metadata": {},
   "outputs": [
    {
     "name": "stdout",
     "output_type": "stream",
     "text": [
      "All OK\n"
     ]
    }
   ],
   "source": [
    "full_name = \"Mark\" + \" \" + \"Myers\"\n",
    "first_name = \"Mark\"\n",
    "last_name = \"Myers\"\n",
    "materials_cost = 81.50\n",
    "labor_cost = 135\n",
    "total_cost = 216.5\n",
    "x=1\n",
    "y=1\n",
    "a=3\n",
    "b=1\n",
    "if full_name == \"Mark\" + \" \" + \"Myers\": \n",
    "    if full_name == first_name + \" \" + \"Myers\": \n",
    "        if full_name == first_name + \" \" + last_name: \n",
    "            if total_cost == 81.50 + 135: \n",
    "                if total_cost == materials_cost + 135: \n",
    "                    if total_cost == materials_cost + labor_cost: \n",
    "                        if x + y == a - b:\n",
    "                            print(\"All OK\")"
   ]
  },
  {
   "cell_type": "markdown",
   "metadata": {},
   "source": [
    "A file conatainig all the code related to `Conditional Statements` can be found [here](../codes/003_Conditional_Statement.ipynb)"
   ]
  },
  {
   "cell_type": "markdown",
   "metadata": {},
   "source": [
    "[<--- Previous Page](README.md)"
   ]
  }
 ],
 "metadata": {
  "kernelspec": {
   "display_name": "Python 3",
   "language": "python",
   "name": "python3"
  },
  "language_info": {
   "codemirror_mode": {
    "name": "ipython",
    "version": 3
   },
   "file_extension": ".py",
   "mimetype": "text/x-python",
   "name": "python",
   "nbconvert_exporter": "python",
   "pygments_lexer": "ipython3",
   "version": "3.7.6"
  }
 },
 "nbformat": 4,
 "nbformat_minor": 4
}
