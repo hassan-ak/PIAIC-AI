{
 "cells": [
  {
   "cell_type": "markdown",
   "metadata": {},
   "source": [
    "# Comments\n",
    "* Comments are **lines of text** in your code that **Python ignores**.\n",
    "* Comments are **for the huamn**, not the machine.\n",
    "* For example, a comment can **explain a section of code** so another programmer can understand it.\n",
    "* A comment can help you figure out your code when you come back to it a month or a year later."
   ]
  },
  {
   "cell_type": "markdown",
   "metadata": {},
   "source": [
    "## Types of Comments\n",
    "* Single Lien Comments\n",
    "    * A Single line can be commented by using a # sysmbol.\n",
    "* Paragraph / Multi-line Comments.\n",
    "    * A paragraph can be commented by using a triple quote."
   ]
  },
  {
   "cell_type": "code",
   "execution_count": 1,
   "metadata": {},
   "outputs": [
    {
     "name": "stdout",
     "output_type": "stream",
     "text": [
      "This is not a comment ...\n"
     ]
    }
   ],
   "source": [
    "# This is a comment\n",
    "# this is another comment\n",
    "# Python ignores these comments.\n",
    "# The code that python executes is next , on line\n",
    "print(\"This is not a comment ...\")"
   ]
  },
  {
   "cell_type": "markdown",
   "metadata": {},
   "source": [
    "A file conatainig all the code related to `Comments` can be found [here](../codes/004_Comments.ipynb)"
   ]
  },
  {
   "cell_type": "markdown",
   "metadata": {},
   "source": [
    "[<--- Previous Page](README.md)"
   ]
  }
 ],
 "metadata": {
  "kernelspec": {
   "display_name": "Python 3",
   "language": "python",
   "name": "python3"
  },
  "language_info": {
   "codemirror_mode": {
    "name": "ipython",
    "version": 3
   },
   "file_extension": ".py",
   "mimetype": "text/x-python",
   "name": "python",
   "nbconvert_exporter": "python",
   "pygments_lexer": "ipython3",
   "version": "3.7.6"
  }
 },
 "nbformat": 4,
 "nbformat_minor": 4
}
