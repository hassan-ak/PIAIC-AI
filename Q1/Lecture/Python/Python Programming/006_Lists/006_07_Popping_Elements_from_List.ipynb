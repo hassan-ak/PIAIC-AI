{
 "cells": [
  {
   "cell_type": "markdown",
   "metadata": {},
   "source": [
    "# Popping Elements from List\n",
    "- if we use pop it removes the last element\n",
    "- we can use the popped element\n",
    "- We can store poped elements"
   ]
  },
  {
   "cell_type": "code",
   "execution_count": 1,
   "metadata": {},
   "outputs": [
    {
     "data": {
      "text/plain": [
       "['Karachi', 'Multan', 'Lahore', 'Queta']"
      ]
     },
     "execution_count": 1,
     "metadata": {},
     "output_type": "execute_result"
    }
   ],
   "source": [
    "cities = [\"Karachi\", \"Multan\",\"Lahore\",\"Queta\"]\n",
    "cities"
   ]
  },
  {
   "cell_type": "code",
   "execution_count": 2,
   "metadata": {},
   "outputs": [
    {
     "name": "stdout",
     "output_type": "stream",
     "text": [
      "This city is poped from list Queta\n",
      "The remaining cities are ['Karachi', 'Multan', 'Lahore']\n"
     ]
    }
   ],
   "source": [
    "popedCity=cities.pop()\n",
    "print(f\"This city is poped from list {popedCity}\")\n",
    "print(f\"The remaining cities are {cities}\")"
   ]
  },
  {
   "cell_type": "code",
   "execution_count": 3,
   "metadata": {},
   "outputs": [
    {
     "name": "stdout",
     "output_type": "stream",
     "text": [
      "This city is poped from list Lahore\n",
      "The remaining cities are ['Karachi', 'Multan']\n"
     ]
    }
   ],
   "source": [
    "popedCity=cities.pop()\n",
    "print(f\"This city is poped from list {popedCity}\")\n",
    "print(f\"The remaining cities are {cities}\")"
   ]
  },
  {
   "cell_type": "markdown",
   "metadata": {},
   "source": [
    "###### some other functions used on list.\n",
    "- Sort\n",
    "    - Sort---in alphabetic ascend or descend\n",
    "    - Reverse--- sort in reverse order"
   ]
  },
  {
   "cell_type": "code",
   "execution_count": 4,
   "metadata": {},
   "outputs": [
    {
     "name": "stdout",
     "output_type": "stream",
     "text": [
      "['Karachi', 'Multan', 'Lahore', 'Queta']\n"
     ]
    },
    {
     "data": {
      "text/plain": [
       "['Karachi', 'Lahore', 'Multan', 'Queta']"
      ]
     },
     "execution_count": 4,
     "metadata": {},
     "output_type": "execute_result"
    }
   ],
   "source": [
    "# sort function sorts the cities alphabatically\n",
    "# it auomaticy sort in asceding order\n",
    "cities = [\"Karachi\", \"Multan\",\"Lahore\",\"Queta\"]\n",
    "print(cities)\n",
    "cities.sort()\n",
    "cities"
   ]
  },
  {
   "cell_type": "code",
   "execution_count": 5,
   "metadata": {},
   "outputs": [
    {
     "name": "stdout",
     "output_type": "stream",
     "text": [
      "['Karachi', 'Multan', 'Lahore', 'Queta']\n"
     ]
    },
    {
     "data": {
      "text/plain": [
       "['Queta', 'Multan', 'Lahore', 'Karachi']"
      ]
     },
     "execution_count": 5,
     "metadata": {},
     "output_type": "execute_result"
    }
   ],
   "source": [
    "cities = [\"Karachi\", \"Multan\",\"Lahore\",\"Queta\"]\n",
    "print(cities)\n",
    "cities.sort(reverse=True)\n",
    "cities"
   ]
  },
  {
   "cell_type": "code",
   "execution_count": 6,
   "metadata": {},
   "outputs": [
    {
     "name": "stdout",
     "output_type": "stream",
     "text": [
      "['Karachi', 'Multan', 'Lahore', 'Queta']\n"
     ]
    },
    {
     "data": {
      "text/plain": [
       "['Queta', 'Lahore', 'Multan', 'Karachi']"
      ]
     },
     "execution_count": 6,
     "metadata": {},
     "output_type": "execute_result"
    }
   ],
   "source": [
    "# reverse is used to reverse a list\n",
    "cities = [\"Karachi\", \"Multan\",\"Lahore\",\"Queta\"]\n",
    "print(cities)\n",
    "cities.reverse()\n",
    "cities"
   ]
  },
  {
   "cell_type": "markdown",
   "metadata": {},
   "source": [
    "[<--- Previous Page](README.md)"
   ]
  }
 ],
 "metadata": {
  "kernelspec": {
   "display_name": "Python 3",
   "language": "python",
   "name": "python3"
  },
  "language_info": {
   "codemirror_mode": {
    "name": "ipython",
    "version": 3
   },
   "file_extension": ".py",
   "mimetype": "text/x-python",
   "name": "python",
   "nbconvert_exporter": "python",
   "pygments_lexer": "ipython3",
   "version": "3.7.6"
  }
 },
 "nbformat": 4,
 "nbformat_minor": 4
}
