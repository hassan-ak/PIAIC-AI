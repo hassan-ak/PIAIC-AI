{
 "cells": [
  {
   "cell_type": "markdown",
   "metadata": {},
   "source": [
    "# Slicing Elements from List\n",
    "Python Provides a very handy feature if you want to take a partial piece of List. Note that slicing operation copies elements from the original List hence this operation returns a new List which is subset of the original List.\n",
    "```\n",
    "arr = [1,4,2,78,45,23,89]\n",
    "print(arr[1:4])\n",
    "- left side is staring index - - - inclusive\n",
    "- right side is ending index - - - exclusive\n",
    "```"
   ]
  },
  {
   "cell_type": "code",
   "execution_count": 1,
   "metadata": {},
   "outputs": [
    {
     "name": "stdout",
     "output_type": "stream",
     "text": [
      "['Ali', 'Faisal', 'Saleem', 'Hamza', 'Kashif']\n"
     ]
    }
   ],
   "source": [
    "# -ve index      -5      -4       -3      -2      -1\n",
    "students = [\"Ali\",\"Faisal\",\"Saleem\",\"Hamza\",\"Kashif\"]\n",
    "# +ve index       0       1        2       3       4\n",
    "print(students)"
   ]
  },
  {
   "cell_type": "code",
   "execution_count": 2,
   "metadata": {},
   "outputs": [
    {
     "name": "stdout",
     "output_type": "stream",
     "text": [
      "Ali\n",
      "Ali\n"
     ]
    }
   ],
   "source": [
    "# Ali have two index\n",
    "print(students[0])\n",
    "print(students[-5])"
   ]
  },
  {
   "cell_type": "code",
   "execution_count": 3,
   "metadata": {},
   "outputs": [
    {
     "name": "stdout",
     "output_type": "stream",
     "text": [
      "['Faisal']\n",
      "['Faisal', 'Saleem']\n"
     ]
    }
   ],
   "source": [
    "# slicing gives list as output\n",
    "print(students[1:2])\n",
    "print(students[1:3])"
   ]
  },
  {
   "cell_type": "code",
   "execution_count": 4,
   "metadata": {},
   "outputs": [
    {
     "name": "stdout",
     "output_type": "stream",
     "text": [
      "[1, 2, 3, 4, 5, 6, 7, 8, 9, 10, 11, 12, 13, 14, 15, 16]\n",
      "[1, 2, 3, 4, 5, 6, 7, 8, 9, 10, 11, 12, 13, 14, 15, 16]\n",
      "[1, 3, 5, 7, 9, 11, 13, 15]\n",
      "[1, 6, 11, 16]\n",
      "[1, 6, 11, 16]\n",
      "[3, 11, 19]\n"
     ]
    }
   ],
   "source": [
    "# we can use steps too\n",
    "nums = [1,2,3,4,5,6,7,8,9,10,11,12,13,14,15,16,17,18,19,20]\n",
    "print(nums[0:16])\n",
    "print(nums[0:16:1])\n",
    "print(nums[0:16:2])\n",
    "print(nums[0:16:5])\n",
    "print(nums[::5])\n",
    "print(nums[2::8])"
   ]
  },
  {
   "cell_type": "markdown",
   "metadata": {},
   "source": [
    "[<--- Previous Page](README.md)"
   ]
  }
 ],
 "metadata": {
  "kernelspec": {
   "display_name": "Python 3",
   "language": "python",
   "name": "python3"
  },
  "language_info": {
   "codemirror_mode": {
    "name": "ipython",
    "version": 3
   },
   "file_extension": ".py",
   "mimetype": "text/x-python",
   "name": "python",
   "nbconvert_exporter": "python",
   "pygments_lexer": "ipython3",
   "version": "3.7.6"
  }
 },
 "nbformat": 4,
 "nbformat_minor": 4
}
