{
 "cells": [
  {
   "cell_type": "markdown",
   "metadata": {},
   "source": [
    "# What is List\n",
    "- Alist is a **data structure** in Python that is a **mutable** or changeable **ordered** sequence of elements.\n",
    "- Each elemet or value that is inside a list is called an item.\n",
    "- Just as strings are defined as characters between quotes, lists are defined by having value between square brackets seprated by comma.\n",
    "- alist = [-,-,-,-,-,-]\n",
    "- In python indexing start from 0"
   ]
  },
  {
   "cell_type": "code",
   "execution_count": 1,
   "metadata": {},
   "outputs": [
    {
     "name": "stdout",
     "output_type": "stream",
     "text": [
      "['Atlanta', 'Baltimore', 'Chicago', 'Denver', 'Los Angeles', 'Seattle']\n"
     ]
    }
   ],
   "source": [
    "cities = [\"Atlanta\", \"Baltimore\", \"Chicago\",\"Denver\", \"Los Angeles\", \"Seattle\"]\n",
    "print(cities)"
   ]
  },
  {
   "cell_type": "code",
   "execution_count": 2,
   "metadata": {},
   "outputs": [
    {
     "name": "stdout",
     "output_type": "stream",
     "text": [
      "['nasir', 'ali', 'Faisal']\n"
     ]
    }
   ],
   "source": [
    "alist = [\"nasir\",\"ali\",\"Faisal\"]\n",
    "# index     0      1    2\n",
    "print(alist)"
   ]
  },
  {
   "cell_type": "markdown",
   "metadata": {},
   "source": [
    "##### common list operations\n",
    "- access values\n",
    "- add new value at the end\n",
    "- finding index of a value in list\n",
    "- slicing the elements from the list\n",
    "- deleting and removing the elements from the list\n",
    "- popping elements from the list"
   ]
  },
  {
   "cell_type": "markdown",
   "metadata": {},
   "source": [
    "[<--- Previous Page](README.md)"
   ]
  }
 ],
 "metadata": {
  "kernelspec": {
   "display_name": "Python 3",
   "language": "python",
   "name": "python3"
  },
  "language_info": {
   "codemirror_mode": {
    "name": "ipython",
    "version": 3
   },
   "file_extension": ".py",
   "mimetype": "text/x-python",
   "name": "python",
   "nbconvert_exporter": "python",
   "pygments_lexer": "ipython3",
   "version": "3.7.6"
  }
 },
 "nbformat": 4,
 "nbformat_minor": 4
}
