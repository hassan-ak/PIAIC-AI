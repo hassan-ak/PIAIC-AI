{
 "cells": [
  {
   "cell_type": "markdown",
   "metadata": {},
   "source": [
    "## Default value Parameters\n",
    "There are times when some parameter values are optional but still you need a dafault value in case if someone does not provide the value to avoid any non deterministic behaviour, e.g.\n",
    "```\n",
    "def add(number1 = 0, number2 = 0):\n",
    "    print(number1 + number2)\n",
    "```\n",
    "here while calling the function if a user don't provide any arguments or miss any one of it, no traceback will occour.\n",
    "\n",
    "Let's define a function with default parameters to display user name."
   ]
  },
  {
   "cell_type": "code",
   "execution_count": 1,
   "metadata": {},
   "outputs": [],
   "source": [
    "def fulname(first='',middle='',last=''):\n",
    "    print(first+' '+middle+' '+last)"
   ]
  },
  {
   "cell_type": "markdown",
   "metadata": {},
   "source": [
    "Now let's call the function with out providing one of the parameter"
   ]
  },
  {
   "cell_type": "code",
   "execution_count": 2,
   "metadata": {},
   "outputs": [
    {
     "name": "stdout",
     "output_type": "stream",
     "text": [
      "Hassan  Khan\n"
     ]
    }
   ],
   "source": [
    "fulname(first='Hassan',last='Khan')"
   ]
  },
  {
   "cell_type": "markdown",
   "metadata": {},
   "source": [
    "[<--- Previous Page](../README.md)"
   ]
  }
 ],
 "metadata": {
  "kernelspec": {
   "display_name": "Python 3",
   "language": "python",
   "name": "python3"
  },
  "language_info": {
   "codemirror_mode": {
    "name": "ipython",
    "version": 3
   },
   "file_extension": ".py",
   "mimetype": "text/x-python",
   "name": "python",
   "nbconvert_exporter": "python",
   "pygments_lexer": "ipython3",
   "version": "3.7.6"
  }
 },
 "nbformat": 4,
 "nbformat_minor": 4
}
