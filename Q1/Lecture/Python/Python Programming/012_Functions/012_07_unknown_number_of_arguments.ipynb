{
 "cells": [
  {
   "cell_type": "markdown",
   "metadata": {},
   "source": [
    "## Unknown Number of Arguments\n",
    "In some cases we can not actaully guess how many arguments user would pass when calling function so we need a parameter that can take all values provided by users.\n",
    "```\n",
    "def diplay_nums(first_num,second_num,*opt_nums):\n",
    "    print(first_num)\n",
    "    print(second_num)\n",
    "    print(opt_nums)\n",
    "```\n",
    "Here we seea parameter with `*`, this parameter will deal with arbitrary number.\n",
    "\n",
    "Lets define a function dealing pizza order."
   ]
  },
  {
   "cell_type": "code",
   "execution_count": 1,
   "metadata": {},
   "outputs": [],
   "source": [
    "def pizza_order(size,flavour,*toppings):\n",
    "    print(f'Your order of Pizza size {size}, and flavour {flavour} with toppings {toppings} is ready')"
   ]
  },
  {
   "cell_type": "markdown",
   "metadata": {},
   "source": [
    "Here we can use as many topings we want."
   ]
  },
  {
   "cell_type": "code",
   "execution_count": 2,
   "metadata": {},
   "outputs": [
    {
     "name": "stdout",
     "output_type": "stream",
     "text": [
      "Your order of Pizza size 12, and flavour Chikken Tikka with toppings ('Olives', 'Onions', 'Pineapple') is ready\n"
     ]
    }
   ],
   "source": [
    "pizza_order(12,'Chikken Tikka','Olives','Onions','Pineapple')"
   ]
  },
  {
   "cell_type": "markdown",
   "metadata": {},
   "source": [
    "#### Example 01"
   ]
  },
  {
   "cell_type": "code",
   "execution_count": 3,
   "metadata": {},
   "outputs": [
    {
     "name": "stdout",
     "output_type": "stream",
     "text": [
      "100\n",
      "200\n",
      "(300, 400, 500)\n"
     ]
    }
   ],
   "source": [
    "def display_nums(first_num, second_num, *opt_nums):\n",
    "    print(first_num)\n",
    "    print(second_num)\n",
    "    print(opt_nums)\n",
    "display_nums(100, 200, 300, 400, 500) "
   ]
  },
  {
   "cell_type": "markdown",
   "metadata": {},
   "source": [
    "#### Example 02"
   ]
  },
  {
   "cell_type": "code",
   "execution_count": 4,
   "metadata": {},
   "outputs": [
    {
     "name": "stdout",
     "output_type": "stream",
     "text": [
      "The winner was Real Madrid\n",
      "The score was 1-0\n",
      "overtime: yes\n",
      "injuries: none\n"
     ]
    }
   ],
   "source": [
    "def display_result(winner, score, **other_info):\n",
    "    print(\"The winner was \" + winner)\n",
    "    print(\"The score was \" + score)\n",
    "    for key, value in other_info.items():\n",
    "        print(key + \": \" + value)\n",
    "display_result(winner=\"Real Madrid\", score=\"1-0\", overtime =\"yes\", injuries=\"none\")"
   ]
  },
  {
   "cell_type": "markdown",
   "metadata": {},
   "source": [
    "[<--- Previous Page](../README.md)"
   ]
  }
 ],
 "metadata": {
  "kernelspec": {
   "display_name": "Python 3",
   "language": "python",
   "name": "python3"
  },
  "language_info": {
   "codemirror_mode": {
    "name": "ipython",
    "version": 3
   },
   "file_extension": ".py",
   "mimetype": "text/x-python",
   "name": "python",
   "nbconvert_exporter": "python",
   "pygments_lexer": "ipython3",
   "version": "3.7.6"
  }
 },
 "nbformat": 4,
 "nbformat_minor": 4
}
