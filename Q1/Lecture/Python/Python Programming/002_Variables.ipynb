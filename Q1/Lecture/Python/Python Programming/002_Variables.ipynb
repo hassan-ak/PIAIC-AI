{
 "cells": [
  {
   "cell_type": "markdown",
   "metadata": {},
   "source": [
    "# Variables\n",
    "- A variable is something that holds a value that may change.\n",
    "- In simplest terms a variable is just a box that you can put stuff in.\n",
    "- You can use variables to store all kinds of stuff.\n",
    "\n",
    "###### Example\n",
    "```\n",
    "name = \"Presidential Initiative for AI and Computing\"\n",
    "print(name)\n",
    "```\n",
    "- Create a variable called name.\n",
    "- Assign a string value \"Presidential Initiative for AI and Computing\" in thsi variable.\n",
    "- Prints the string value stored inside this variable.\n",
    "\n",
    "###### What we can store in variables\n",
    "- Strings\n",
    "- Integers\n",
    "- Float\n",
    "\n",
    "###### Example\n",
    "```\n",
    "a = 10\n",
    "print(a)\n",
    "```\n",
    "- a is variable name (identifier)\n",
    "- = is assignment operator\n",
    "- 10 is value (integer value)\n",
    "- variable has no data type. it is dependant on value\n",
    "- integer value 10 is assigned to variable a\n"
   ]
  },
  {
   "cell_type": "code",
   "execution_count": 1,
   "metadata": {},
   "outputs": [
    {
     "name": "stdout",
     "output_type": "stream",
     "text": [
      "Lahore\n"
     ]
    }
   ],
   "source": [
    "a = 'Lahore'\n",
    "print (a)"
   ]
  },
  {
   "cell_type": "markdown",
   "metadata": {},
   "source": [
    "When a new value is assigned to same varibale it is overrided"
   ]
  },
  {
   "cell_type": "code",
   "execution_count": 2,
   "metadata": {},
   "outputs": [
    {
     "name": "stdout",
     "output_type": "stream",
     "text": [
      "10.6\n"
     ]
    }
   ],
   "source": [
    "a = 10.6\n",
    "print(a)"
   ]
  },
  {
   "cell_type": "markdown",
   "metadata": {},
   "source": [
    "There is no need to define data type of identifier. It adopts the data type of input value"
   ]
  },
  {
   "cell_type": "code",
   "execution_count": 3,
   "metadata": {},
   "outputs": [
    {
     "name": "stdout",
     "output_type": "stream",
     "text": [
      "Data type of variable 'a' is : <class 'int'>\n",
      "Data type of variable 'b' is : <class 'float'>\n",
      "Data type of variable 'c' is : <class 'str'>\n"
     ]
    }
   ],
   "source": [
    "a = 12\n",
    "b = 12.0\n",
    "c = '12.0'\n",
    "print(\"Data type of variable 'a' is : \" + f\"{type(a)}\")\n",
    "print(\"Data type of variable 'b' is : \" + f\"{type(b)}\")\n",
    "print(\"Data type of variable 'c' is : \" + f\"{type(c)}\")"
   ]
  },
  {
   "cell_type": "markdown",
   "metadata": {},
   "source": [
    "###### Rules for declaring variable name\n",
    "\n",
    "- always use meaningful variable names \n",
    "- While assigning variables name\n",
    "    - We can’t leave spaces between words\n",
    "    - We can’t use quotation marks in variable naming\n",
    "    - We can’t use number as variable name\n",
    "    - We can’t use number at the beginning of a variable name\n",
    "    - We can’t use keywords but use them with combination with other words (for finding keywords run following code)\n",
    "        ```\n",
    "        import keyword\n",
    "        print(keyword.kwlist)\n",
    "        ```\n",
    "    - Other than letters numbers and _ nothing can be used in variable name\n",
    "    - Variable name is case sensitive\n",
    "    - Use _ to write large name"
   ]
  },
  {
   "cell_type": "code",
   "execution_count": 4,
   "metadata": {},
   "outputs": [
    {
     "name": "stdout",
     "output_type": "stream",
     "text": [
      "['False', 'None', 'True', 'and', 'as', 'assert', 'async', 'await', 'break', 'class', 'continue', 'def', 'del', 'elif', 'else', 'except', 'finally', 'for', 'from', 'global', 'if', 'import', 'in', 'is', 'lambda', 'nonlocal', 'not', 'or', 'pass', 'raise', 'return', 'try', 'while', 'with', 'yield']\n"
     ]
    }
   ],
   "source": [
    "import keyword\n",
    "print(keyword.kwlist)"
   ]
  },
  {
   "cell_type": "markdown",
   "metadata": {},
   "source": [
    "#### Mathamatical Operators\n",
    "|Sr.No.|Sign |Description|Remarks|\n",
    "|:----:|:---:|:----------|:------|\n",
    "|1.|+|addition / concatenation*|concatinate strings|\n",
    "|2.|-|subtarction||\n",
    "|3.|`*`|multiplication|can be used for strings too|\n",
    "|4.|/|division||\n",
    "|5.|//|division|eliminate decimal part|\n",
    "|6.|% |remainder||\n",
    "|7.|`**`|Power Operator|\n",
    "\n"
   ]
  },
  {
   "cell_type": "markdown",
   "metadata": {},
   "source": [
    "###### Mathamatical Operators Eliminating Ambiguity\n",
    "BODMAS\n",
    "* B --- Bracket\n",
    "* O --- Order of Powers\n",
    "* D --- Division\n",
    "* M --- Multiplication\n",
    "* A --- Addition\n",
    "* S --- Subtraction"
   ]
  },
  {
   "cell_type": "markdown",
   "metadata": {},
   "source": [
    "A file conatainig all the code related to `Variables and Operators` can be found [here](../codes/002_Variables.ipynb)"
   ]
  },
  {
   "cell_type": "markdown",
   "metadata": {},
   "source": [
    "[<--- Previous Page](README.md)"
   ]
  }
 ],
 "metadata": {
  "kernelspec": {
   "display_name": "Python 3",
   "language": "python",
   "name": "python3"
  },
  "language_info": {
   "codemirror_mode": {
    "name": "ipython",
    "version": 3
   },
   "file_extension": ".py",
   "mimetype": "text/x-python",
   "name": "python",
   "nbconvert_exporter": "python",
   "pygments_lexer": "ipython3",
   "version": "3.7.6"
  }
 },
 "nbformat": 4,
 "nbformat_minor": 4
}
