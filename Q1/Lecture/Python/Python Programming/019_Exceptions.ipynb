{
 "cells": [
  {
   "cell_type": "markdown",
   "metadata": {},
   "source": [
    "# Exceptions\n",
    "- Exceptions are runn time error\n",
    "- compile time error are syntax error\n",
    "- we use try - except blocks\n",
    "- where we feel there is a error we use try and exept\n",
    "- we can use multiple except block"
   ]
  },
  {
   "cell_type": "markdown",
   "metadata": {},
   "source": [
    "###### Example\n",
    "Wtite a Programe to repeatedly ask user's name and age by using input prompt. And displays name and age by adding 10 to it. To quit the programe enter \"q\"."
   ]
  },
  {
   "cell_type": "code",
   "execution_count": 2,
   "metadata": {},
   "outputs": [
    {
     "name": "stdout",
     "output_type": "stream",
     "text": [
      "Enter Your name : Hassan Ali Khan\n",
      "Enter Your age : 28\n",
      "Name : Hassan Ali Khan\n",
      "Age : 38\n",
      "Enter Your name : q\n"
     ]
    }
   ],
   "source": [
    "flag = True\n",
    "while flag:\n",
    "    try:\n",
    "        name = input(\"Enter Your name : \")\n",
    "        if name.lower() != \"q\":\n",
    "            age = input(\"Enter Your age : \")\n",
    "            age = int(age)\n",
    "            n_age = age+10\n",
    "            print(f\"Name : {name}\")\n",
    "            print(f\"Age : {n_age}\")\n",
    "        else:\n",
    "            flag = False\n",
    "    except:\n",
    "        print(\"Enter valid age\")"
   ]
  },
  {
   "cell_type": "markdown",
   "metadata": {},
   "source": [
    "Further Explaination is available [here](../codes/019_Exceptions.ipynb)"
   ]
  },
  {
   "cell_type": "markdown",
   "metadata": {},
   "source": [
    "[<--- Previous Page](README.md)"
   ]
  }
 ],
 "metadata": {
  "kernelspec": {
   "display_name": "Python 3",
   "language": "python",
   "name": "python3"
  },
  "language_info": {
   "codemirror_mode": {
    "name": "ipython",
    "version": 3
   },
   "file_extension": ".py",
   "mimetype": "text/x-python",
   "name": "python",
   "nbconvert_exporter": "python",
   "pygments_lexer": "ipython3",
   "version": "3.7.6"
  }
 },
 "nbformat": 4,
 "nbformat_minor": 4
}
