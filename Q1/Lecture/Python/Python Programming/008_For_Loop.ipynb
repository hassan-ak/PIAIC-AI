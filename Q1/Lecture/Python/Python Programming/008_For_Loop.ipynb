{
 "cells": [
  {
   "cell_type": "markdown",
   "metadata": {},
   "source": [
    "# For Loops\n",
    "Python provide for loop to iterate over a sequence (e.g. a list, tuple and dictionary). This is very handy tool when you want to traverse all / few elements of a sequence without having to worry about the number of elements in the sequence."
   ]
  },
  {
   "cell_type": "code",
   "execution_count": 1,
   "metadata": {
    "scrolled": true
   },
   "outputs": [
    {
     "name": "stdout",
     "output_type": "stream",
     "text": [
      "1\n",
      "3\n",
      "2\n",
      "6\n",
      "90\n",
      "34\n",
      "5\n"
     ]
    }
   ],
   "source": [
    "arr = [1,3,2,6,90,34,5]\n",
    "for elem in arr:\n",
    "    print(elem)"
   ]
  },
  {
   "cell_type": "code",
   "execution_count": 2,
   "metadata": {},
   "outputs": [
    {
     "data": {
      "text/plain": [
       "range(0, 5)"
      ]
     },
     "execution_count": 2,
     "metadata": {},
     "output_type": "execute_result"
    }
   ],
   "source": [
    "# range is a function it tells how many times a loop runs\n",
    "# 5 is excluded\n",
    "range(5)"
   ]
  },
  {
   "cell_type": "code",
   "execution_count": 3,
   "metadata": {
    "scrolled": true
   },
   "outputs": [
    {
     "name": "stdout",
     "output_type": "stream",
     "text": [
      "0 Hassan\n",
      "1 Hassan\n",
      "2 Hassan\n",
      "3 Hassan\n",
      "4 Hassan\n"
     ]
    }
   ],
   "source": [
    "for a in range(5): \n",
    "    print (a,\"Hassan\")"
   ]
  },
  {
   "cell_type": "code",
   "execution_count": 4,
   "metadata": {},
   "outputs": [
    {
     "name": "stdout",
     "output_type": "stream",
     "text": [
      "P\n",
      "a\n",
      "k\n",
      "i\n",
      "s\n",
      "t\n",
      "a\n",
      "n\n"
     ]
    }
   ],
   "source": [
    "# we can use loop on string\n",
    "country = \"Pakistan\"\n",
    "for char in country:\n",
    "    print(char)"
   ]
  },
  {
   "cell_type": "code",
   "execution_count": 5,
   "metadata": {},
   "outputs": [
    {
     "name": "stdout",
     "output_type": "stream",
     "text": [
      "Pakistan\n",
      "China\n"
     ]
    }
   ],
   "source": [
    "# we can use loop on tuple\n",
    "country = \"Pakistan\",\"China\"\n",
    "for char in country:\n",
    "    print(char)"
   ]
  },
  {
   "cell_type": "markdown",
   "metadata": {},
   "source": [
    "### Break Keyword\n",
    "There are situation where we want to terminate our loop even all the elements are not yet traversed, e.g. when finding a desired value and you found it in middle of the sequence. In such cases you would want to terminate the loop. Python provides the `break` keyword for this scenario."
   ]
  },
  {
   "cell_type": "code",
   "execution_count": 6,
   "metadata": {},
   "outputs": [
    {
     "name": "stdout",
     "output_type": "stream",
     "text": [
      "1\n",
      "3\n",
      "a\n"
     ]
    }
   ],
   "source": [
    "arr = [1, 3, \"a\", 6, 67, 23, 45]\n",
    "for elem in arr:\n",
    "    print(elem)\n",
    "    if elem == \"a\":\n",
    "        break"
   ]
  },
  {
   "cell_type": "markdown",
   "metadata": {},
   "source": [
    "### Continue Keyword\n",
    "There are situations where we want to skip only current iteration of the loop. Python provides `continue` keyword for such scenario."
   ]
  },
  {
   "cell_type": "code",
   "execution_count": 7,
   "metadata": {},
   "outputs": [
    {
     "name": "stdout",
     "output_type": "stream",
     "text": [
      "1\n",
      "3\n",
      "67\n",
      "23\n",
      "45\n",
      "49\n"
     ]
    }
   ],
   "source": [
    "err = [1, 3, 2, 6, 67, 23, 45, 49]\n",
    "for elem in err:\n",
    "    if elem % 2 == 0:\n",
    "        continue\n",
    "    print(elem)"
   ]
  },
  {
   "cell_type": "markdown",
   "metadata": {},
   "source": [
    "### Nested for Loop\n",
    "When you have a sequence of sequences and you need to process elements then we need to place loop inside a loop. Outer loop traverses the main sequence and inner loop traverses on the inner sequence, which contains the value.\n",
    "- Outer loop executes once and then execute when inner loop is completely executed"
   ]
  },
  {
   "cell_type": "code",
   "execution_count": 8,
   "metadata": {},
   "outputs": [
    {
     "name": "stdout",
     "output_type": "stream",
     "text": [
      "Inner loops Begin\n",
      "0 A\n",
      "0 l\n",
      "0 i\n",
      "Inner loops Begin\n",
      "1 A\n",
      "1 l\n",
      "1 i\n",
      "Inner loops Begin\n",
      "2 A\n",
      "2 l\n",
      "2 i\n"
     ]
    }
   ],
   "source": [
    "for a in range(3):\n",
    "    print(\"Inner loops Begin\")\n",
    "    for char in \"Ali\":\n",
    "        print(a,char)"
   ]
  },
  {
   "cell_type": "markdown",
   "metadata": {},
   "source": [
    "A file conatainig all the code related to `For Loop` can be found [here](../codes/008_For_Loop.ipynb)"
   ]
  },
  {
   "cell_type": "markdown",
   "metadata": {},
   "source": [
    "[<--- Previous Page](README.md)"
   ]
  }
 ],
 "metadata": {
  "kernelspec": {
   "display_name": "Python 3",
   "language": "python",
   "name": "python3"
  },
  "language_info": {
   "codemirror_mode": {
    "name": "ipython",
    "version": 3
   },
   "file_extension": ".py",
   "mimetype": "text/x-python",
   "name": "python",
   "nbconvert_exporter": "python",
   "pygments_lexer": "ipython3",
   "version": "3.7.6"
  }
 },
 "nbformat": 4,
 "nbformat_minor": 4
}
