{
 "cells": [
  {
   "cell_type": "markdown",
   "metadata": {},
   "source": [
    "# Data Files\n",
    "Uptill now none of the data has been preserved. We created variables, lists, dictionaries, and class instances taht contained information, but as soon as the computer was turned off, all of it is disappeared."
   ]
  },
  {
   "cell_type": "markdown",
   "metadata": {},
   "source": [
    "###### Reading Writing in an external file from python Code\n",
    "We can read or write in a text file using a python function:\n",
    "```\n",
    "With open(\"file_name.txt\", \"mode\")\n",
    "```\n",
    "There are three modes:\n",
    "* Read\n",
    "* Write\n",
    "* Append"
   ]
  },
  {
   "cell_type": "markdown",
   "metadata": {},
   "source": [
    "###### Writing to a text File\n",
    "```\n",
    "with open (\"myFile.txt\",\"w\") as file:\n",
    "    file.write(\"This is my file\")\n",
    "```\n",
    "If the file does not Exist. \"w\" mode will create and write in it."
   ]
  },
  {
   "cell_type": "code",
   "execution_count": 1,
   "metadata": {},
   "outputs": [],
   "source": [
    "with open (\"testfile.txt\",\"w\") as file:\n",
    "    file.write(\"File created using Python with 'w' mode.\")"
   ]
  },
  {
   "cell_type": "markdown",
   "metadata": {},
   "source": [
    "###### Reading from a text File\n",
    "```\n",
    "with open (\"myFile.txt\",\"r\") as file:\n",
    "    content_of_file = file.read()\n",
    "print(content_of_file)\n",
    "```\n",
    "If the file does not Exist. \"r\" mode will give a traceback."
   ]
  },
  {
   "cell_type": "code",
   "execution_count": 2,
   "metadata": {},
   "outputs": [
    {
     "name": "stdout",
     "output_type": "stream",
     "text": [
      "File created using Python with 'w' mode.\n"
     ]
    }
   ],
   "source": [
    "with open(\"testfile.txt\",\"r\") as file:\n",
    "    content = file.read()\n",
    "print(content)"
   ]
  },
  {
   "cell_type": "markdown",
   "metadata": {},
   "source": [
    "###### Writing a File in append mode\n",
    "```\n",
    "with open (\"myFile.txt\",\"a\") as file:\n",
    "    file.write(\"This text is written in append mode\")\n",
    "```\n",
    "In \"w\" mode if we write in same file all previous work will be overwrite. But append mode allows to write further."
   ]
  },
  {
   "cell_type": "code",
   "execution_count": 3,
   "metadata": {},
   "outputs": [],
   "source": [
    "with open (\"testfile.txt\",\"a\") as file:\n",
    "    file.write(\"This text is written in Python with append mode\")"
   ]
  },
  {
   "cell_type": "code",
   "execution_count": 4,
   "metadata": {},
   "outputs": [
    {
     "name": "stdout",
     "output_type": "stream",
     "text": [
      "File created using Python with 'w' mode.This text is written in Python with append mode\n"
     ]
    }
   ],
   "source": [
    "with open(\"testfile.txt\",\"r\") as file:\n",
    "    content = file.read()\n",
    "print(content)"
   ]
  },
  {
   "cell_type": "markdown",
   "metadata": {},
   "source": [
    "###### Data Files in r+,w+ mode\n",
    "r+ and w+ mode allows both read and write function with a little difference that r+ mode can't create a file."
   ]
  },
  {
   "cell_type": "code",
   "execution_count": 5,
   "metadata": {},
   "outputs": [
    {
     "name": "stdout",
     "output_type": "stream",
     "text": [
      "File created using Python in w+ mode.\n"
     ]
    }
   ],
   "source": [
    "with open (\"testfile1.txt\",\"w+\") as file:\n",
    "    file.write(\"File created using Python in w+ mode.\")\n",
    "    file.seek(0)\n",
    "    content = file.read()\n",
    "print(content)"
   ]
  },
  {
   "cell_type": "code",
   "execution_count": 6,
   "metadata": {},
   "outputs": [
    {
     "name": "stdout",
     "output_type": "stream",
     "text": [
      "This content is written using r+ mode.This content is written using r+ mode.\n"
     ]
    }
   ],
   "source": [
    "with open (\"testfile1.txt\",\"w+\") as file:\n",
    "    file.write(\"This content is written using r+ mode.\")\n",
    "    file.write(\"This content is written using r+ mode.\")\n",
    "    file.seek(0)\n",
    "    content = file.read()\n",
    "print(content)"
   ]
  },
  {
   "cell_type": "markdown",
   "metadata": {},
   "source": [
    "###### Notes\n",
    "We can alo use the follwing way to open the file\n",
    "```\n",
    "file_to_work_with = open(\"whatever.txt\", \"w\"):\n",
    "```\n",
    "If file is another folder we need to specify the path."
   ]
  },
  {
   "cell_type": "markdown",
   "metadata": {},
   "source": [
    "A file conatainig all the code related to `Data Files` can be found [here](../../codes/015_Data_Files.ipynb)"
   ]
  },
  {
   "cell_type": "markdown",
   "metadata": {},
   "source": [
    "[<--- Previous Page](../README.md)"
   ]
  }
 ],
 "metadata": {
  "kernelspec": {
   "display_name": "Python 3",
   "language": "python",
   "name": "python3"
  },
  "language_info": {
   "codemirror_mode": {
    "name": "ipython",
    "version": 3
   },
   "file_extension": ".py",
   "mimetype": "text/x-python",
   "name": "python",
   "nbconvert_exporter": "python",
   "pygments_lexer": "ipython3",
   "version": "3.7.6"
  }
 },
 "nbformat": 4,
 "nbformat_minor": 4
}
