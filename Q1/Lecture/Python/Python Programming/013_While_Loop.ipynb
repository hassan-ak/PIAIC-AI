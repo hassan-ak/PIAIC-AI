{
 "cells": [
  {
   "cell_type": "markdown",
   "metadata": {},
   "source": [
    "# While Loops\n",
    "We have already covered loops (for loop) there is another type of loops known as `While Loops`. Both works the same way just differ in a way where while loop give user the freedom to terminate by using a flag.\n",
    "#### Example"
   ]
  },
  {
   "cell_type": "code",
   "execution_count": 1,
   "metadata": {
    "scrolled": true
   },
   "outputs": [
    {
     "name": "stdout",
     "output_type": "stream",
     "text": [
      "0 This is while loop printing\n",
      "1 This is while loop printing\n",
      "2 This is while loop printing\n"
     ]
    }
   ],
   "source": [
    "for num in range(3):\n",
    "    print(num,'This is for loop printing')"
   ]
  },
  {
   "cell_type": "code",
   "execution_count": 2,
   "metadata": {},
   "outputs": [
    {
     "name": "stdout",
     "output_type": "stream",
     "text": [
      "0 This is while loop printing\n",
      "1 This is while loop printing\n",
      "2 This is while loop printing\n",
      "3 This is while loop printing\n"
     ]
    }
   ],
   "source": [
    "a = 0\n",
    "while a<=3:\n",
    "    print(a,'This is while loop printing')\n",
    "    a +=1"
   ]
  },
  {
   "cell_type": "markdown",
   "metadata": {},
   "source": [
    "#### Setting a Flag"
   ]
  },
  {
   "cell_type": "code",
   "execution_count": 3,
   "metadata": {},
   "outputs": [
    {
     "name": "stdout",
     "output_type": "stream",
     "text": [
      "Enter your favourite foods : Daal Chawal\n",
      "Enter your favourite foods : Biryani\n",
      "Enter your favourite foods : Nihari\n",
      "Enter your favourite foods : q\n"
     ]
    },
    {
     "data": {
      "text/plain": [
       "['Daal Chawal', 'Biryani', 'Nihari']"
      ]
     },
     "execution_count": 3,
     "metadata": {},
     "output_type": "execute_result"
    }
   ],
   "source": [
    "flag = True\n",
    "fav_food = []\n",
    "while flag:\n",
    "    user_input = input('Enter your favourite foods : ')\n",
    "    if user_input=='q':\n",
    "        flag=False\n",
    "    else:\n",
    "        fav_food.append(user_input)\n",
    "fav_food"
   ]
  },
  {
   "cell_type": "markdown",
   "metadata": {},
   "source": [
    "A file conatainig all the code related to `While Loop` can be found [here](../codes/013_While_Loop.ipynb)"
   ]
  },
  {
   "cell_type": "markdown",
   "metadata": {},
   "source": [
    "[<--- Previous Page](README.md)"
   ]
  }
 ],
 "metadata": {
  "kernelspec": {
   "display_name": "Python 3",
   "language": "python",
   "name": "python3"
  },
  "language_info": {
   "codemirror_mode": {
    "name": "ipython",
    "version": 3
   },
   "file_extension": ".py",
   "mimetype": "text/x-python",
   "name": "python",
   "nbconvert_exporter": "python",
   "pygments_lexer": "ipython3",
   "version": "3.7.6"
  }
 },
 "nbformat": 4,
 "nbformat_minor": 4
}
