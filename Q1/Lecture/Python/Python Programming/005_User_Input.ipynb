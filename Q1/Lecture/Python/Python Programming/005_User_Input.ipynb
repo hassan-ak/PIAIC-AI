{
 "cells": [
  {
   "cell_type": "markdown",
   "metadata": {},
   "source": [
    "# User Input\n",
    "* Input from Keyboard\n",
    "* For this purpose, Python provides the function **input()** input has an optional parameter, which is the prompt string.\n",
    "* Input will always be string\n",
    "* If we want to use it as integer, we need to type cast it"
   ]
  },
  {
   "cell_type": "code",
   "execution_count": 1,
   "metadata": {},
   "outputs": [
    {
     "name": "stdout",
     "output_type": "stream",
     "text": [
      "Enter your name:Hassan Ali Khan\n",
      "Enter your age:28\n"
     ]
    }
   ],
   "source": [
    "input_name = input (\"Enter your name:\")\n",
    "input_age = input (\"Enter your age:\")"
   ]
  },
  {
   "cell_type": "markdown",
   "metadata": {},
   "source": [
    "A file conatainig all the code related to `User Input` can be found [here](../codes/005_User_input.ipynb)"
   ]
  },
  {
   "cell_type": "markdown",
   "metadata": {},
   "source": [
    "[<--- Previous Page](README.md)"
   ]
  }
 ],
 "metadata": {
  "kernelspec": {
   "display_name": "Python 3",
   "language": "python",
   "name": "python3"
  },
  "language_info": {
   "codemirror_mode": {
    "name": "ipython",
    "version": 3
   },
   "file_extension": ".py",
   "mimetype": "text/x-python",
   "name": "python",
   "nbconvert_exporter": "python",
   "pygments_lexer": "ipython3",
   "version": "3.7.6"
  }
 },
 "nbformat": 4,
 "nbformat_minor": 4
}
