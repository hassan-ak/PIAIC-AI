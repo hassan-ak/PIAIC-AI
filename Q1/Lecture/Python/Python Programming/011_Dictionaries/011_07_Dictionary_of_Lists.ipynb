{
 "cells": [
  {
   "cell_type": "markdown",
   "metadata": {},
   "source": [
    "# Dictionary of Lists"
   ]
  },
  {
   "cell_type": "code",
   "execution_count": 1,
   "metadata": {},
   "outputs": [
    {
     "data": {
      "text/plain": [
       "{'name': 'Ibtisam', 'childeren_names': ['Golo', 'Molo', 'bunty', 'bubly']}"
      ]
     },
     "execution_count": 1,
     "metadata": {},
     "output_type": "execute_result"
    }
   ],
   "source": [
    "employee = {'name':'Ibtisam','childeren_names':['Golo','Molo','bunty','bubly']}\n",
    "employee"
   ]
  },
  {
   "cell_type": "code",
   "execution_count": 2,
   "metadata": {},
   "outputs": [
    {
     "name": "stdout",
     "output_type": "stream",
     "text": [
      "Ibtisam\n",
      "Golo\n",
      "Molo\n",
      "bunty\n",
      "bubly\n"
     ]
    }
   ],
   "source": [
    "print(employee['name'])\n",
    "print(employee['childeren_names'][0])\n",
    "print(employee['childeren_names'][1])\n",
    "print(employee['childeren_names'][2])\n",
    "print(employee['childeren_names'][3])"
   ]
  },
  {
   "cell_type": "markdown",
   "metadata": {},
   "source": [
    "[<--- Previous Page](../README.md)"
   ]
  }
 ],
 "metadata": {
  "kernelspec": {
   "display_name": "Python 3",
   "language": "python",
   "name": "python3"
  },
  "language_info": {
   "codemirror_mode": {
    "name": "ipython",
    "version": 3
   },
   "file_extension": ".py",
   "mimetype": "text/x-python",
   "name": "python",
   "nbconvert_exporter": "python",
   "pygments_lexer": "ipython3",
   "version": "3.7.6"
  }
 },
 "nbformat": 4,
 "nbformat_minor": 4
}
