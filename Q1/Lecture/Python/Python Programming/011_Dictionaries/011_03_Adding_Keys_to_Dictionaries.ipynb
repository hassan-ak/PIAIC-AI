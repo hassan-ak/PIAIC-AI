{
 "cells": [
  {
   "cell_type": "markdown",
   "metadata": {},
   "source": [
    "# Adding Keys to Dictionaries\n",
    "- we can add value to a dict. using  a key\n",
    "- if the same key present already it will override the previous one"
   ]
  },
  {
   "cell_type": "code",
   "execution_count": 2,
   "metadata": {},
   "outputs": [
    {
     "name": "stdout",
     "output_type": "stream",
     "text": [
      "{'Name': 'Hassan', 'Class': 'AI', 'Program': 'PIAIC', 'Age': 28}\n",
      "{'Name': 'Hassan', 'Class': 'AI', 'Program': 'PIAIC', 'Age': 28, 'f_name': 'Zaheer'}\n"
     ]
    }
   ],
   "source": [
    "student = {'Name':'Hassan','Class':'AI','Program':'PIAIC','Age':28}\n",
    "print(student)\n",
    "student['f_name'] = 'Zaheer'\n",
    "print(student)"
   ]
  },
  {
   "cell_type": "markdown",
   "metadata": {},
   "source": [
    "[<--- Previous Page](../README.md)"
   ]
  }
 ],
 "metadata": {
  "kernelspec": {
   "display_name": "Python 3",
   "language": "python",
   "name": "python3"
  },
  "language_info": {
   "codemirror_mode": {
    "name": "ipython",
    "version": 3
   },
   "file_extension": ".py",
   "mimetype": "text/x-python",
   "name": "python",
   "nbconvert_exporter": "python",
   "pygments_lexer": "ipython3",
   "version": "3.7.6"
  }
 },
 "nbformat": 4,
 "nbformat_minor": 4
}
