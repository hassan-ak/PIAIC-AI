{
 "cells": [
  {
   "cell_type": "markdown",
   "metadata": {},
   "source": [
    "# NumPy"
   ]
  },
  {
   "cell_type": "markdown",
   "metadata": {},
   "source": [
    "-----------------"
   ]
  },
  {
   "cell_type": "markdown",
   "metadata": {},
   "source": [
    "## Lec:- 01 NumPy Introduction"
   ]
  },
  {
   "cell_type": "markdown",
   "metadata": {},
   "source": [
    "#### Introduction to NumPy\n",
    "* Numerical Python\n",
    "* A lot of libraries of AI are based on numpy\n",
    "* NumPy is actually based on n-dimensional array\n",
    "* usefull for fast operations on entire arrays\n",
    "* have ability to read and write\n",
    "* bucnh of linear algerbra opertions\n",
    "\n",
    "#### Why NumPy\n",
    "* Data is stored contigous inother store data in a sequence\n",
    "* Can perform complex operations on a single command\n",
    "\n",
    "#### Installation\n",
    "* Pre Installed in Anaconda\n",
    "* pip install numpy"
   ]
  },
  {
   "cell_type": "markdown",
   "metadata": {},
   "source": [
    "***"
   ]
  },
  {
   "cell_type": "markdown",
   "metadata": {},
   "source": [
    "## Lec:- 02 NumPy vs Python List"
   ]
  },
  {
   "cell_type": "markdown",
   "metadata": {},
   "source": [
    "#### Fast opertion in NumPy\n",
    "\n",
    "* Let make an array of one million numbers and a list of same size\n",
    "* Multiply every elemnt of list and array with a digit for ten times\n",
    "* Calculate time for each process\n",
    "* Comapre Results"
   ]
  },
  {
   "cell_type": "code",
   "execution_count": 1,
   "metadata": {},
   "outputs": [],
   "source": [
    "# import numpy in the file\n",
    "import numpy as np\n",
    "\n",
    "# Define a list of one million number\n",
    "l = range(10_00_000)\n",
    "\n",
    "# Define an array of one million numbers\n",
    "d = np.arange(10_00_000)"
   ]
  },
  {
   "cell_type": "code",
   "execution_count": 2,
   "metadata": {},
   "outputs": [
    {
     "name": "stdout",
     "output_type": "stream",
     "text": [
      "Wall time: 1.36 s\n"
     ]
    }
   ],
   "source": [
    "# Multiply each element of list with a number for 10 times and find time for the procees to complete\n",
    "%time for i in range(1,10) : r=[x*2 for x in l]"
   ]
  },
  {
   "cell_type": "code",
   "execution_count": 3,
   "metadata": {},
   "outputs": [
    {
     "name": "stdout",
     "output_type": "stream",
     "text": [
      "Wall time: 58.9 ms\n"
     ]
    }
   ],
   "source": [
    "# Multiply each element of array with a number for 10 times and find time for the procees to complete\n",
    "%time for i in range(1,10) : r=d*2"
   ]
  },
  {
   "cell_type": "markdown",
   "metadata": {},
   "source": [
    "***"
   ]
  },
  {
   "cell_type": "markdown",
   "metadata": {},
   "source": [
    "## Lec:- 03 A Multidimensional Array Object"
   ]
  },
  {
   "cell_type": "markdown",
   "metadata": {},
   "source": [
    "#### ndArray\n",
    "* Fast flexible container for storing large dataset in python\n",
    "* Homegenious data"
   ]
  },
  {
   "cell_type": "code",
   "execution_count": 4,
   "metadata": {},
   "outputs": [
    {
     "data": {
      "text/plain": [
       "array([[0., 0., 0., 0.],\n",
       "       [0., 0., 0., 0.],\n",
       "       [0., 0., 0., 0.],\n",
       "       [0., 0., 0., 0.]])"
      ]
     },
     "execution_count": 4,
     "metadata": {},
     "output_type": "execute_result"
    }
   ],
   "source": [
    "# import numpy in file\n",
    "import numpy as np\n",
    "\n",
    "# ndArray of zeros\n",
    "a = np.zeros([4,4])\n",
    "a"
   ]
  },
  {
   "cell_type": "code",
   "execution_count": 5,
   "metadata": {},
   "outputs": [
    {
     "data": {
      "text/plain": [
       "array([[1., 1., 1., 1.],\n",
       "       [1., 1., 1., 1.],\n",
       "       [1., 1., 1., 1.],\n",
       "       [1., 1., 1., 1.]])"
      ]
     },
     "execution_count": 5,
     "metadata": {},
     "output_type": "execute_result"
    }
   ],
   "source": [
    "# ndArray of ones\n",
    "b = np.ones([4,4])\n",
    "b"
   ]
  },
  {
   "cell_type": "code",
   "execution_count": 6,
   "metadata": {},
   "outputs": [
    {
     "data": {
      "text/plain": [
       "array([[0., 0.],\n",
       "       [0., 0.]])"
      ]
     },
     "execution_count": 6,
     "metadata": {},
     "output_type": "execute_result"
    }
   ],
   "source": [
    "# ndArray of empty\n",
    "c = np.empty([2,2])\n",
    "c\n",
    "# this makes an array of junk data"
   ]
  },
  {
   "cell_type": "code",
   "execution_count": 7,
   "metadata": {},
   "outputs": [
    {
     "data": {
      "text/plain": [
       "array([1, 2, 3, 4, 5, 6, 7, 8])"
      ]
     },
     "execution_count": 7,
     "metadata": {},
     "output_type": "execute_result"
    }
   ],
   "source": [
    "# we can convert a list into an array\n",
    "z = [1,2,3,4,5,6,7,8]\n",
    "d = np.array(z)\n",
    "d"
   ]
  },
  {
   "cell_type": "code",
   "execution_count": 8,
   "metadata": {},
   "outputs": [
    {
     "data": {
      "text/plain": [
       "array([ 1, 11, 21, 31, 41, 51, 61, 71, 81, 91])"
      ]
     },
     "execution_count": 8,
     "metadata": {},
     "output_type": "execute_result"
    }
   ],
   "source": [
    "# to genrate a range of numbers with desired steps\n",
    "e = np.arange(1,100,10)\n",
    "e"
   ]
  },
  {
   "cell_type": "code",
   "execution_count": 9,
   "metadata": {},
   "outputs": [
    {
     "name": "stdout",
     "output_type": "stream",
     "text": [
      "Shape of a =  (4, 4)\n",
      "Shape of b =  (4, 4)\n",
      "Shape of c =  (2, 2)\n",
      "Shape of d =  (8,)\n",
      "Shape of e =  (10,)\n"
     ]
    }
   ],
   "source": [
    "# find shape of any array let view shapes of above arrays\n",
    "print(\"Shape of a = \", a.shape)\n",
    "print(\"Shape of b = \", b.shape)\n",
    "print(\"Shape of c = \", c.shape)\n",
    "print(\"Shape of d = \", d.shape)\n",
    "print(\"Shape of e = \", e.shape)"
   ]
  },
  {
   "cell_type": "code",
   "execution_count": 10,
   "metadata": {},
   "outputs": [
    {
     "name": "stdout",
     "output_type": "stream",
     "text": [
      "Actual =  [[1. 1. 1. 1.]\n",
      " [1. 1. 1. 1.]\n",
      " [1. 1. 1. 1.]\n",
      " [1. 1. 1. 1.]]\n",
      "Re-Shaped =  [[[[1.]\n",
      "   [1.]\n",
      "   [1.]\n",
      "   [1.]]\n",
      "\n",
      "  [[1.]\n",
      "   [1.]\n",
      "   [1.]\n",
      "   [1.]]]\n",
      "\n",
      "\n",
      " [[[1.]\n",
      "   [1.]\n",
      "   [1.]\n",
      "   [1.]]\n",
      "\n",
      "  [[1.]\n",
      "   [1.]\n",
      "   [1.]\n",
      "   [1.]]]]\n"
     ]
    }
   ],
   "source": [
    "# we can reshape a predeifned array\n",
    "f = np.ones((4,4))\n",
    "print(\"Actual = \", f)\n",
    "g= f.reshape(2,2,4,1)\n",
    "print(\"Re-Shaped = \", g)"
   ]
  },
  {
   "cell_type": "code",
   "execution_count": 11,
   "metadata": {},
   "outputs": [
    {
     "data": {
      "text/plain": [
       "dtype('float64')"
      ]
     },
     "execution_count": 11,
     "metadata": {},
     "output_type": "execute_result"
    }
   ],
   "source": [
    "# Find Data type of array\n",
    "# thre are multiple data types\n",
    "g.dtype"
   ]
  },
  {
   "cell_type": "code",
   "execution_count": 12,
   "metadata": {},
   "outputs": [
    {
     "name": "stdout",
     "output_type": "stream",
     "text": [
      "Dim of f =  2\n",
      "Dim of g =  4\n"
     ]
    }
   ],
   "source": [
    "# find dimention of an array\n",
    "print(\"Dim of f = \", f.ndim)\n",
    "print(\"Dim of g = \", g.ndim)"
   ]
  },
  {
   "cell_type": "markdown",
   "metadata": {},
   "source": [
    "---"
   ]
  },
  {
   "cell_type": "markdown",
   "metadata": {},
   "source": [
    "## Lec:- 04 Arithmetic with ndarray"
   ]
  },
  {
   "cell_type": "markdown",
   "metadata": {},
   "source": [
    "#### Vectorization\n",
    "* Batch operation on data can be done without using for loops\n",
    "* operation between arrays of same size defines operation b/w each elemt\n",
    "* operation with scalr is a operation with every elemt"
   ]
  },
  {
   "cell_type": "code",
   "execution_count": 13,
   "metadata": {},
   "outputs": [
    {
     "name": "stdout",
     "output_type": "stream",
     "text": [
      "arr =  [[1. 2. 3.]\n",
      " [4. 5. 6.]]\n"
     ]
    }
   ],
   "source": [
    "# let define an array\n",
    "import numpy as np\n",
    "arr = np.array([[1.,2.,3.],[4.,5.,6.]])\n",
    "print(\"arr = \", arr)"
   ]
  },
  {
   "cell_type": "code",
   "execution_count": 14,
   "metadata": {},
   "outputs": [
    {
     "name": "stdout",
     "output_type": "stream",
     "text": [
      "arr * arr =  [[ 1.  4.  9.]\n",
      " [16. 25. 36.]]\n"
     ]
    }
   ],
   "source": [
    "# multiplying two arrays (multiply each elemt with corresponding one)\n",
    "# Same goes with diviosn\n",
    "arr1= arr * arr\n",
    "print(\"arr * arr = \", arr1)"
   ]
  },
  {
   "cell_type": "code",
   "execution_count": 15,
   "metadata": {},
   "outputs": [
    {
     "name": "stdout",
     "output_type": "stream",
     "text": [
      "arr + arr =  [[ 1.  4.  9.]\n",
      " [16. 25. 36.]]\n"
     ]
    }
   ],
   "source": [
    "# adding two arrays (Add each elemt with corresponding one)\n",
    "# Same goes with subtraction\n",
    "arr2= arr + arr\n",
    "print(\"arr + arr = \", arr1)"
   ]
  },
  {
   "cell_type": "code",
   "execution_count": 16,
   "metadata": {},
   "outputs": [
    {
     "name": "stdout",
     "output_type": "stream",
     "text": [
      "1/arr =  [[1.         0.5        0.33333333]\n",
      " [0.25       0.2        0.16666667]]\n"
     ]
    }
   ],
   "source": [
    "# Operation with scalr\n",
    "# Multiplation/division/addition/subtraction/inverse\n",
    "arr3 = 1 / arr\n",
    "print(\"1/arr = \", arr3)"
   ]
  },
  {
   "cell_type": "code",
   "execution_count": 17,
   "metadata": {},
   "outputs": [
    {
     "name": "stdout",
     "output_type": "stream",
     "text": [
      "arr**0.5=  [[1.         1.41421356 1.73205081]\n",
      " [2.         2.23606798 2.44948974]]\n"
     ]
    }
   ],
   "source": [
    "# Taking power of each elemnt\n",
    "arr4 = arr**0.5\n",
    "print(\"arr**0.5= \", arr4)"
   ]
  },
  {
   "cell_type": "code",
   "execution_count": 18,
   "metadata": {},
   "outputs": [
    {
     "name": "stdout",
     "output_type": "stream",
     "text": [
      "arrA>arrB =  [[ True False False]\n",
      " [False  True False]]\n"
     ]
    }
   ],
   "source": [
    "# comparison operation can also be compared with scalor \n",
    "arrA = np.array([[1.,2.,3.],[4.,5.,6.]])\n",
    "arrB = np.array([[0.,4.,3.],[7.,1.,24.]])\n",
    "print(\"arrA>arrB = \", arrA>arrB)"
   ]
  },
  {
   "cell_type": "code",
   "execution_count": 19,
   "metadata": {},
   "outputs": [],
   "source": [
    "# genrate random array\n",
    "a = np.random.randn((10))\n",
    "b = np.random.randn((10))"
   ]
  },
  {
   "cell_type": "code",
   "execution_count": 20,
   "metadata": {},
   "outputs": [
    {
     "data": {
      "text/plain": [
       "array([ True,  True, False, False,  True,  True,  True, False, False,\n",
       "        True])"
      ]
     },
     "execution_count": 20,
     "metadata": {},
     "output_type": "execute_result"
    }
   ],
   "source": [
    "a>0"
   ]
  },
  {
   "cell_type": "code",
   "execution_count": 21,
   "metadata": {},
   "outputs": [
    {
     "data": {
      "text/plain": [
       "array([0.38176422, 0.50447558, 0.25921636, 0.09436436, 0.27826707,\n",
       "       0.59678778])"
      ]
     },
     "execution_count": 21,
     "metadata": {},
     "output_type": "execute_result"
    }
   ],
   "source": [
    "a[a>0]"
   ]
  }
 ],
 "metadata": {
  "kernelspec": {
   "display_name": "Python 3",
   "language": "python",
   "name": "python3"
  },
  "language_info": {
   "codemirror_mode": {
    "name": "ipython",
    "version": 3
   },
   "file_extension": ".py",
   "mimetype": "text/x-python",
   "name": "python",
   "nbconvert_exporter": "python",
   "pygments_lexer": "ipython3",
   "version": "3.7.6"
  }
 },
 "nbformat": 4,
 "nbformat_minor": 4
}
