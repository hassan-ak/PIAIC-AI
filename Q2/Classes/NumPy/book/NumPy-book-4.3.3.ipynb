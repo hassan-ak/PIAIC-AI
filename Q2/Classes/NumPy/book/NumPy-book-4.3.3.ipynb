{
 "cells": [
  {
   "cell_type": "markdown",
   "metadata": {},
   "source": [
    "## 4.3.3 Methods for Boolean Arrays"
   ]
  },
  {
   "cell_type": "code",
   "execution_count": 1,
   "metadata": {},
   "outputs": [],
   "source": [
    "import numpy as np"
   ]
  },
  {
   "cell_type": "code",
   "execution_count": 2,
   "metadata": {},
   "outputs": [
    {
     "data": {
      "text/plain": [
       "array([ 2.03903682, -1.15691511, -0.57703132,  0.27361618, -0.25433072,\n",
       "        0.88520753, -1.24496167,  1.87663514,  2.80515773, -0.90156371,\n",
       "        0.52376744, -1.34615724, -2.03241767, -1.20836393, -1.01736865,\n",
       "       -0.06585042, -1.45170413, -0.48645163,  0.68946738, -1.06103073,\n",
       "        1.98403252,  1.00942536, -1.17234431, -0.43067382,  0.16218778,\n",
       "       -0.5814177 ,  0.8563153 , -0.70790087, -0.596554  ,  2.62322567,\n",
       "       -0.60498896, -0.66408895, -0.87324121,  1.77826254,  0.45554433,\n",
       "        0.4843838 , -1.46817985, -1.3421057 , -0.57846974, -0.9041109 ,\n",
       "        1.14630819, -1.98115243,  0.41748493, -1.86219451, -0.37802804,\n",
       "        0.52033718, -0.33890973, -0.92738731,  1.01820612,  0.99059719,\n",
       "       -1.36972244, -0.69697452,  0.10854308,  1.00520644, -0.777771  ,\n",
       "        0.76022935,  0.85302811, -1.13283498,  1.77346008,  1.96676785,\n",
       "       -1.14556019,  0.79531804,  0.49571279,  0.36340671,  1.56171623,\n",
       "       -0.18422461,  0.73695255,  1.26400397, -2.14686754, -1.48428901,\n",
       "        0.37763055, -0.84960067,  1.01646575, -0.20637555, -0.11855996,\n",
       "       -0.1549707 ,  0.49145771, -0.56200787, -1.04959246,  0.17705123,\n",
       "        1.23744163, -2.12715235, -0.37254076, -0.80323562,  0.69497776,\n",
       "       -0.63718906,  1.38084789,  0.99236233, -0.47520725, -1.28006867,\n",
       "       -0.24451781,  1.57256033,  0.94057758, -1.4786096 , -0.74350172,\n",
       "        0.01793511,  3.02459477,  2.58451674,  0.93492613, -1.74067655])"
      ]
     },
     "execution_count": 2,
     "metadata": {},
     "output_type": "execute_result"
    }
   ],
   "source": [
    "arr = np.random.randn(100)\n",
    "arr"
   ]
  },
  {
   "cell_type": "code",
   "execution_count": 3,
   "metadata": {},
   "outputs": [
    {
     "data": {
      "text/plain": [
       "46"
      ]
     },
     "execution_count": 3,
     "metadata": {},
     "output_type": "execute_result"
    }
   ],
   "source": [
    "(arr > 0).sum() "
   ]
  },
  {
   "cell_type": "code",
   "execution_count": 4,
   "metadata": {},
   "outputs": [],
   "source": [
    "bools = np.array([False, False, True, False])"
   ]
  },
  {
   "cell_type": "code",
   "execution_count": 5,
   "metadata": {},
   "outputs": [
    {
     "data": {
      "text/plain": [
       "True"
      ]
     },
     "execution_count": 5,
     "metadata": {},
     "output_type": "execute_result"
    }
   ],
   "source": [
    "bools.any()"
   ]
  },
  {
   "cell_type": "code",
   "execution_count": 6,
   "metadata": {},
   "outputs": [
    {
     "data": {
      "text/plain": [
       "False"
      ]
     },
     "execution_count": 6,
     "metadata": {},
     "output_type": "execute_result"
    }
   ],
   "source": [
    "bools.all()"
   ]
  }
 ],
 "metadata": {
  "kernelspec": {
   "display_name": "Python 3",
   "language": "python",
   "name": "python3"
  },
  "language_info": {
   "codemirror_mode": {
    "name": "ipython",
    "version": 3
   },
   "file_extension": ".py",
   "mimetype": "text/x-python",
   "name": "python",
   "nbconvert_exporter": "python",
   "pygments_lexer": "ipython3",
   "version": "3.7.6"
  }
 },
 "nbformat": 4,
 "nbformat_minor": 4
}
