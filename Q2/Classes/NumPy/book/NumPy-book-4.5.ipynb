{
 "cells": [
  {
   "cell_type": "markdown",
   "metadata": {},
   "source": [
    "## 4.5 Linear Algebra"
   ]
  },
  {
   "cell_type": "code",
   "execution_count": 1,
   "metadata": {},
   "outputs": [],
   "source": [
    "import numpy as np"
   ]
  },
  {
   "cell_type": "markdown",
   "metadata": {},
   "source": [
    "![](ten.png)"
   ]
  },
  {
   "cell_type": "markdown",
   "metadata": {},
   "source": [
    "###### Example01"
   ]
  },
  {
   "cell_type": "code",
   "execution_count": 2,
   "metadata": {},
   "outputs": [
    {
     "data": {
      "text/plain": [
       "array([[1., 2., 3.],\n",
       "       [4., 5., 6.]])"
      ]
     },
     "execution_count": 2,
     "metadata": {},
     "output_type": "execute_result"
    }
   ],
   "source": [
    "x = np.array([[1., 2., 3.], [4., 5., 6.]])\n",
    "x"
   ]
  },
  {
   "cell_type": "code",
   "execution_count": 3,
   "metadata": {},
   "outputs": [
    {
     "data": {
      "text/plain": [
       "array([[ 6., 23.],\n",
       "       [-1.,  7.],\n",
       "       [ 8.,  9.]])"
      ]
     },
     "execution_count": 3,
     "metadata": {},
     "output_type": "execute_result"
    }
   ],
   "source": [
    "y = np.array([[6., 23.], [-1, 7], [8, 9]])\n",
    "y"
   ]
  },
  {
   "cell_type": "code",
   "execution_count": 4,
   "metadata": {},
   "outputs": [
    {
     "data": {
      "text/plain": [
       "array([[ 28.,  64.],\n",
       "       [ 67., 181.]])"
      ]
     },
     "execution_count": 4,
     "metadata": {},
     "output_type": "execute_result"
    }
   ],
   "source": [
    "x.dot(y)"
   ]
  },
  {
   "cell_type": "code",
   "execution_count": 5,
   "metadata": {},
   "outputs": [
    {
     "data": {
      "text/plain": [
       "array([[ 28.,  64.],\n",
       "       [ 67., 181.]])"
      ]
     },
     "execution_count": 5,
     "metadata": {},
     "output_type": "execute_result"
    }
   ],
   "source": [
    "np.dot(x,y)"
   ]
  },
  {
   "cell_type": "code",
   "execution_count": 6,
   "metadata": {},
   "outputs": [
    {
     "data": {
      "text/plain": [
       "array([ 6., 15.])"
      ]
     },
     "execution_count": 6,
     "metadata": {},
     "output_type": "execute_result"
    }
   ],
   "source": [
    "np.dot(x, np.ones(3))"
   ]
  },
  {
   "cell_type": "code",
   "execution_count": 7,
   "metadata": {},
   "outputs": [
    {
     "data": {
      "text/plain": [
       "array([ 6., 15.])"
      ]
     },
     "execution_count": 7,
     "metadata": {},
     "output_type": "execute_result"
    }
   ],
   "source": [
    "x @ np.ones(3)"
   ]
  },
  {
   "cell_type": "markdown",
   "metadata": {},
   "source": [
    "###### Example02"
   ]
  },
  {
   "cell_type": "code",
   "execution_count": 8,
   "metadata": {},
   "outputs": [
    {
     "data": {
      "text/plain": [
       "array([[  79.42257252,  -44.59920522, -114.19838861,  109.62638786,\n",
       "         -22.4501559 ],\n",
       "       [ -44.59920522,   25.49086545,   65.26289898,  -61.94313609,\n",
       "          12.90015855],\n",
       "       [-114.19838861,   65.26289898,  168.69077327, -158.81292679,\n",
       "          33.33875304],\n",
       "       [ 109.62638786,  -61.94313609, -158.81292679,  151.85545273,\n",
       "         -31.21855101],\n",
       "       [ -22.4501559 ,   12.90015855,   33.33875304,  -31.21855101,\n",
       "           6.94843512]])"
      ]
     },
     "execution_count": 8,
     "metadata": {},
     "output_type": "execute_result"
    }
   ],
   "source": [
    "from numpy.linalg import inv, qr\n",
    "X = np.random.randn(5, 5)\n",
    "mat = X.T.dot(X)\n",
    "inv(mat)\n"
   ]
  },
  {
   "cell_type": "code",
   "execution_count": 9,
   "metadata": {},
   "outputs": [
    {
     "data": {
      "text/plain": [
       "array([[ 1.00000000e+00, -1.06581410e-14,  1.06581410e-14,\n",
       "        -3.90798505e-14, -7.10542736e-15],\n",
       "       [ 4.97379915e-14,  1.00000000e+00,  7.10542736e-15,\n",
       "        -7.10542736e-15,  1.77635684e-15],\n",
       "       [ 7.10542736e-15,  1.77635684e-15,  1.00000000e+00,\n",
       "         1.42108547e-14,  9.76996262e-15],\n",
       "       [ 6.75015599e-14,  9.94759830e-14,  5.68434189e-14,\n",
       "         1.00000000e+00,  1.50990331e-14],\n",
       "       [-2.84217094e-14,  0.00000000e+00, -1.42108547e-14,\n",
       "        -5.68434189e-14,  1.00000000e+00]])"
      ]
     },
     "execution_count": 9,
     "metadata": {},
     "output_type": "execute_result"
    }
   ],
   "source": [
    "mat.dot(inv(mat))"
   ]
  },
  {
   "cell_type": "code",
   "execution_count": 10,
   "metadata": {},
   "outputs": [
    {
     "data": {
      "text/plain": [
       "array([[-0.69382104, -0.24591992, -0.32850853, -0.41294183, -0.42390679],\n",
       "       [ 0.2046733 , -0.94566892,  0.03392728, -0.05775509,  0.24358248],\n",
       "       [ 0.10549801,  0.19634413, -0.54544183, -0.50649154,  0.6295067 ],\n",
       "       [ 0.67670831,  0.01369445, -0.16473464, -0.4089776 , -0.58947277],\n",
       "       [-0.08750569,  0.08059243,  0.7525203 , -0.63430832,  0.13120126]])"
      ]
     },
     "execution_count": 10,
     "metadata": {},
     "output_type": "execute_result"
    }
   ],
   "source": [
    "q, r = qr(mat)\n",
    "q"
   ]
  },
  {
   "cell_type": "code",
   "execution_count": 11,
   "metadata": {},
   "outputs": [
    {
     "data": {
      "text/plain": [
       "array([[-7.60938757,  4.9152943 ,  1.17786574,  8.3800941 , -1.72437371],\n",
       "       [ 0.        , -7.53455086,  1.2361623 , -1.59444237,  0.9051251 ],\n",
       "       [ 0.        ,  0.        , -0.9693804 , -0.47722964,  2.61527033],\n",
       "       [ 0.        ,  0.        ,  0.        , -0.28108227, -1.35415951],\n",
       "       [ 0.        ,  0.        ,  0.        ,  0.        ,  0.01888213]])"
      ]
     },
     "execution_count": 11,
     "metadata": {},
     "output_type": "execute_result"
    }
   ],
   "source": [
    "r"
   ]
  }
 ],
 "metadata": {
  "kernelspec": {
   "display_name": "Python 3",
   "language": "python",
   "name": "python3"
  },
  "language_info": {
   "codemirror_mode": {
    "name": "ipython",
    "version": 3
   },
   "file_extension": ".py",
   "mimetype": "text/x-python",
   "name": "python",
   "nbconvert_exporter": "python",
   "pygments_lexer": "ipython3",
   "version": "3.7.6"
  }
 },
 "nbformat": 4,
 "nbformat_minor": 4
}
