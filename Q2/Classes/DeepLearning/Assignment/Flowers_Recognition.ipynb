{
 "cells": [
  {
   "cell_type": "markdown",
   "metadata": {
    "id": "BXgJ6uT1NydQ"
   },
   "source": [
    "# Assignment: Flowers Recognition\n",
    "Data : <br>\n",
    "https://drive.google.com/file/d/1-OX6wn5gA-bJpjPNfSyaYQLz-A-AB_uj/view?usp=sharing\n",
    "\n",
    "# Dataset Description:\n",
    "\n",
    "This dataset contains 4242 images of flowers.<br>\n",
    "The data collection is based on the data flicr, google images, yandex images.<br>\n",
    "You can use this datastet to recognize plants from the photo.<br>\n",
    "\n",
    "# Attribute Information:\n",
    "The pictures are divided into five classes: chamomile, tulip, rose, sunflower, dandelion.<br>\n",
    "For each class there are about 800 photos. Photos are not high resolution, about 320x240 pixels. <br>\n",
    "<b>Also explore how to resize images in tensorflow and then resize all the images to a same size. </b> <br>\n",
    "This is a Multiclass Classification Problem.<br>"
   ]
  },
  {
   "cell_type": "markdown",
   "metadata": {
    "id": "T7vy-ktuOKJH"
   },
   "source": [
    "# WORKFLOW :\n",
    "1.Load Data <br>\n",
    "2.Split into 60 and 40 ratio.<br>\n",
    "3.Encode labels.<br>\n",
    "4.Create Model<br>\n",
    "5.Compilation Step (Note : Its a Multiclass Classification problem , select loss , metrics according to it)<br>\n",
    "6.Train the Model.<br>\n",
    "7.If the model gets overfit tune your model by changing the units , No. of layers , epochs , add dropout layer or add 8.Regularizer according to the need .<br>\n",
    "9.Prediction should be > 85%<br>\n",
    "10.Evaluation Step<br>\n",
    "11.Prediction<br>"
   ]
  }
 ],
 "metadata": {
  "colab": {
   "name": "Flowers Recognition.ipynb",
   "provenance": []
  },
  "kernelspec": {
   "display_name": "Python 3",
   "language": "python",
   "name": "python3"
  },
  "language_info": {
   "codemirror_mode": {
    "name": "ipython",
    "version": 3
   },
   "file_extension": ".py",
   "mimetype": "text/x-python",
   "name": "python",
   "nbconvert_exporter": "python",
   "pygments_lexer": "ipython3",
   "version": "3.7.6"
  }
 },
 "nbformat": 4,
 "nbformat_minor": 1
}
