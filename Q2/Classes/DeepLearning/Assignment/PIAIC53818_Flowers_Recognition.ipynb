{
 "cells": [
  {
   "cell_type": "markdown",
   "metadata": {},
   "source": [
    "# Assignment: Flowers Recognition\n",
    "Data : <br>\n",
    "https://drive.google.com/file/d/1-OX6wn5gA-bJpjPNfSyaYQLz-A-AB_uj/view?usp=sharing\n",
    "\n",
    "# Dataset Description:\n",
    "\n",
    "This dataset contains 4242 images of flowers.<br>\n",
    "The data collection is based on the data flicr, google images, yandex images.<br>\n",
    "You can use this datastet to recognize plants from the photo.<br>\n",
    "\n",
    "# Attribute Information:\n",
    "The pictures are divided into five classes: chamomile, tulip, rose, sunflower, dandelion.<br>\n",
    "For each class there are about 800 photos. Photos are not high resolution, about 320x240 pixels. <br>\n",
    "<b>Also explore how to resize images in tensorflow and then resize all the images to a same size. </b> <br>\n",
    "This is a Multiclass Classification Problem.<br>\n",
    "\n",
    "# WORKFLOW :\n",
    "1.Load Data <br>\n",
    "2.Split into 60 and 40 ratio.<br>\n",
    "3.Encode labels.<br>\n",
    "4.Create Model<br>\n",
    "5.Compilation Step (Note : Its a Multiclass Classification problem , select loss , metrics according to it)<br>\n",
    "6.Train the Model.<br>\n",
    "7.If the model gets overfit tune your model by changing the units , No. of layers , epochs , add dropout layer or add 8.Regularizer according to the need .<br>\n",
    "9.Prediction should be > 85%<br>\n",
    "10.Evaluation Step<br>\n",
    "11.Prediction<br>"
   ]
  },
  {
   "cell_type": "markdown",
   "metadata": {},
   "source": [
    "# Solution"
   ]
  },
  {
   "cell_type": "code",
   "execution_count": 51,
   "metadata": {
    "id": "If3rjCf4bhs3"
   },
   "outputs": [],
   "source": [
    "import numpy as np\n",
    "import pandas as pd\n",
    "import matplotlib.pyplot as plt\n",
    "from pathlib import Path\n",
    "import os\n",
    "import cv2\n",
    "from sklearn.model_selection import train_test_split\n",
    "from keras.utils import to_categorical\n",
    "from keras import models\n",
    "from keras import layers\n",
    "from keras import regularizers"
   ]
  },
  {
   "cell_type": "code",
   "execution_count": 2,
   "metadata": {
    "id": "e7wUafnecYQ0"
   },
   "outputs": [],
   "source": [
    "directory = Path(\"/content/drive/MyDrive/PIAIC_Data/flowers\")"
   ]
  },
  {
   "cell_type": "code",
   "execution_count": 3,
   "metadata": {
    "id": "QsQtIagzca7I"
   },
   "outputs": [],
   "source": [
    "flowers = []\n",
    "features = []\n",
    "labels = []"
   ]
  },
  {
   "cell_type": "code",
   "execution_count": 4,
   "metadata": {
    "colab": {
     "base_uri": "https://localhost:8080/"
    },
    "id": "xAc7GFx3cbRK",
    "outputId": "d6b189b2-a953-4269-8f88-d0b1262e9b03"
   },
   "outputs": [
    {
     "name": "stdout",
     "output_type": "stream",
     "text": [
      "sunflower\n",
      "tulip\n",
      "daisy\n",
      "flowers\n",
      "rose\n",
      "dandelion\n"
     ]
    }
   ],
   "source": [
    "# Iterating Over Directory To Extract Sub Directories\n",
    "for dir in directory.iterdir():\n",
    "  flowers.append(dir.name)\n",
    "  print(dir.name)\n",
    "# Iterating Over Sub Directories To Extract Lables\n",
    "  for imgpath in dir.iterdir():\n",
    "    if imgpath.name.endswith(\"jpg\"):\n",
    "      labels.append(dir.name)\n",
    "      imgarr = cv2.imread(str(imgpath), cv2.IMREAD_GRAYSCALE)\n",
    "      imgarr = cv2.resize(imgarr, (150,150))\n",
    "      features.append(imgarr)"
   ]
  },
  {
   "cell_type": "code",
   "execution_count": 5,
   "metadata": {
    "colab": {
     "base_uri": "https://localhost:8080/"
    },
    "id": "Z32ZWLoscbT9",
    "outputId": "e80157fc-7fc2-4e83-e189-18397ad70e0d"
   },
   "outputs": [
    {
     "data": {
      "text/plain": [
       "['sunflower', 'tulip', 'daisy', 'flowers', 'rose', 'dandelion']"
      ]
     },
     "execution_count": 5,
     "metadata": {
      "tags": []
     },
     "output_type": "execute_result"
    }
   ],
   "source": [
    "flowers"
   ]
  },
  {
   "cell_type": "code",
   "execution_count": 6,
   "metadata": {
    "colab": {
     "base_uri": "https://localhost:8080/"
    },
    "id": "_3opZHRUcrC_",
    "outputId": "ce147724-b163-42af-ab01-c7f5994bdf9d"
   },
   "outputs": [
    {
     "data": {
      "text/plain": [
       "[array([[195, 162, 133, ..., 192, 192, 192],\n",
       "        [146, 114,  86, ..., 195, 195, 195],\n",
       "        [140, 125, 125, ..., 195, 195, 195],\n",
       "        ...,\n",
       "        [196, 178, 118, ..., 132, 114,  80],\n",
       "        [178, 166, 159, ..., 140, 140, 132],\n",
       "        [ 79, 141, 165, ...,  99, 103, 102]], dtype=uint8)]"
      ]
     },
     "execution_count": 6,
     "metadata": {
      "tags": []
     },
     "output_type": "execute_result"
    }
   ],
   "source": [
    "features[0:1]"
   ]
  },
  {
   "cell_type": "code",
   "execution_count": 7,
   "metadata": {
    "colab": {
     "base_uri": "https://localhost:8080/"
    },
    "id": "H6Eexhf1crGA",
    "outputId": "03801940-fa84-4619-94a5-38bf85a312ae"
   },
   "outputs": [
    {
     "name": "stdout",
     "output_type": "stream",
     "text": [
      "<class 'list'>\n",
      "<class 'list'>\n",
      "<class 'list'>\n"
     ]
    }
   ],
   "source": [
    "print(type(flowers))\n",
    "print(type(features))\n",
    "print(type(labels))"
   ]
  },
  {
   "cell_type": "code",
   "execution_count": 8,
   "metadata": {
    "id": "HhtrbtNFfZnM"
   },
   "outputs": [],
   "source": [
    "# Transform the image array to a numpy type"
   ]
  },
  {
   "cell_type": "code",
   "execution_count": 9,
   "metadata": {
    "id": "EsoVyW-fcrI2"
   },
   "outputs": [],
   "source": [
    "train = np.asarray(features)"
   ]
  },
  {
   "cell_type": "code",
   "execution_count": 10,
   "metadata": {
    "colab": {
     "base_uri": "https://localhost:8080/"
    },
    "id": "mXUBE6hScrLg",
    "outputId": "d93e130c-c1d1-49fd-91eb-acb83900190d"
   },
   "outputs": [
    {
     "name": "stdout",
     "output_type": "stream",
     "text": [
      "(4333, 150, 150)\n"
     ]
    }
   ],
   "source": [
    "print(train.shape)"
   ]
  },
  {
   "cell_type": "code",
   "execution_count": 11,
   "metadata": {
    "id": "J-QCYClkcrOj"
   },
   "outputs": [],
   "source": [
    "labels = np.asarray(labels)"
   ]
  },
  {
   "cell_type": "code",
   "execution_count": 12,
   "metadata": {
    "colab": {
     "base_uri": "https://localhost:8080/"
    },
    "id": "PHuAl3DVcrRv",
    "outputId": "440b4646-7ab3-47bf-bb4b-80204cffc495"
   },
   "outputs": [
    {
     "data": {
      "text/plain": [
       "(4333,)"
      ]
     },
     "execution_count": 12,
     "metadata": {
      "tags": []
     },
     "output_type": "execute_result"
    }
   ],
   "source": [
    "labels.shape"
   ]
  },
  {
   "cell_type": "code",
   "execution_count": null,
   "metadata": {
    "id": "sW1Tp3hucrUv"
   },
   "outputs": [],
   "source": [
    "# Extract the labels"
   ]
  },
  {
   "cell_type": "code",
   "execution_count": 13,
   "metadata": {
    "id": "gADd8sbtcrXu"
   },
   "outputs": [],
   "source": [
    "label_dummies = pd.get_dummies(labels)"
   ]
  },
  {
   "cell_type": "code",
   "execution_count": 14,
   "metadata": {
    "id": "DAbNx9U-crao"
   },
   "outputs": [],
   "source": [
    "labels =  label_dummies.values.argmax(1)"
   ]
  },
  {
   "cell_type": "code",
   "execution_count": 15,
   "metadata": {
    "colab": {
     "base_uri": "https://localhost:8080/"
    },
    "id": "ertj682-crd2",
    "outputId": "4f6ac671-93f1-4588-a37b-bb77707b26ef"
   },
   "outputs": [
    {
     "data": {
      "text/plain": [
       "array([3, 3, 3, ..., 1, 1, 1])"
      ]
     },
     "execution_count": 15,
     "metadata": {
      "tags": []
     },
     "output_type": "execute_result"
    }
   ],
   "source": [
    "labels"
   ]
  },
  {
   "cell_type": "code",
   "execution_count": 16,
   "metadata": {
    "colab": {
     "base_uri": "https://localhost:8080/"
    },
    "id": "NoE7vlm9crgu",
    "outputId": "b21c6426-c03f-49b4-c707-3c93c5dc8e53"
   },
   "outputs": [
    {
     "data": {
      "text/plain": [
       "array([3, 4, 0, 2, 1])"
      ]
     },
     "execution_count": 16,
     "metadata": {
      "tags": []
     },
     "output_type": "execute_result"
    }
   ],
   "source": [
    "pd.unique(labels)"
   ]
  },
  {
   "cell_type": "code",
   "execution_count": 17,
   "metadata": {
    "colab": {
     "base_uri": "https://localhost:8080/"
    },
    "id": "9bXblTnwcrj-",
    "outputId": "7c51f146-a8fa-4c30-8feb-160275fa2a66"
   },
   "outputs": [
    {
     "data": {
      "text/plain": [
       "(4333,)"
      ]
     },
     "execution_count": 17,
     "metadata": {
      "tags": []
     },
     "output_type": "execute_result"
    }
   ],
   "source": [
    "labels.shape"
   ]
  },
  {
   "cell_type": "code",
   "execution_count": 20,
   "metadata": {
    "id": "bLv3b4Q2crnh"
   },
   "outputs": [],
   "source": [
    "train_data, test_data, train_labels, test_labels=train_test_split(train, labels, test_size=0.4, random_state=1)"
   ]
  },
  {
   "cell_type": "code",
   "execution_count": 21,
   "metadata": {
    "colab": {
     "base_uri": "https://localhost:8080/"
    },
    "id": "fsLGSR3-crqN",
    "outputId": "8b2d4739-43e8-46e5-ce2f-669f52990205"
   },
   "outputs": [
    {
     "name": "stdout",
     "output_type": "stream",
     "text": [
      "(2599, 150, 150)\n"
     ]
    }
   ],
   "source": [
    "print(train_data.shape)"
   ]
  },
  {
   "cell_type": "code",
   "execution_count": 22,
   "metadata": {
    "colab": {
     "base_uri": "https://localhost:8080/"
    },
    "id": "rQdD08hfcrtV",
    "outputId": "81cd434c-0e8c-4294-98ac-dea72f850fc6"
   },
   "outputs": [
    {
     "name": "stdout",
     "output_type": "stream",
     "text": [
      "(2599,)\n"
     ]
    }
   ],
   "source": [
    "print(train_labels.shape)"
   ]
  },
  {
   "cell_type": "code",
   "execution_count": 23,
   "metadata": {
    "colab": {
     "base_uri": "https://localhost:8080/"
    },
    "id": "sZwfOyStcrw7",
    "outputId": "72eb1327-f896-4d00-f5cc-a94cffc2d808"
   },
   "outputs": [
    {
     "name": "stdout",
     "output_type": "stream",
     "text": [
      "(1734, 150, 150)\n"
     ]
    }
   ],
   "source": [
    "print(test_data.shape)"
   ]
  },
  {
   "cell_type": "code",
   "execution_count": 24,
   "metadata": {
    "colab": {
     "base_uri": "https://localhost:8080/"
    },
    "id": "Kf_px6hXcrzo",
    "outputId": "ec98cece-e3e3-4950-d0dd-d729937e2254"
   },
   "outputs": [
    {
     "name": "stdout",
     "output_type": "stream",
     "text": [
      "(1734,)\n"
     ]
    }
   ],
   "source": [
    "print(test_labels.shape)"
   ]
  },
  {
   "cell_type": "code",
   "execution_count": 25,
   "metadata": {
    "id": "yju98wbCgCk8"
   },
   "outputs": [],
   "source": [
    "# Normalization"
   ]
  },
  {
   "cell_type": "code",
   "execution_count": 28,
   "metadata": {
    "id": "jsp9CaIQcr2j"
   },
   "outputs": [],
   "source": [
    "train_images=train_data.reshape((2599,150*150)) "
   ]
  },
  {
   "cell_type": "code",
   "execution_count": 29,
   "metadata": {
    "id": "lX7BDvCvcr57"
   },
   "outputs": [],
   "source": [
    "train_images=train_images.astype('float32') / 255"
   ]
  },
  {
   "cell_type": "code",
   "execution_count": 31,
   "metadata": {
    "id": "SBDVMPP8cr9P"
   },
   "outputs": [],
   "source": [
    "test_images=test_data.reshape((1734,150*150))"
   ]
  },
  {
   "cell_type": "code",
   "execution_count": 32,
   "metadata": {
    "id": "HZmB3l-zcsAV"
   },
   "outputs": [],
   "source": [
    "test_images=test_images.astype('float32') / 255"
   ]
  },
  {
   "cell_type": "code",
   "execution_count": 33,
   "metadata": {
    "colab": {
     "base_uri": "https://localhost:8080/"
    },
    "id": "PkZ46ox6csDp",
    "outputId": "e54cde9c-36ef-49bc-b102-0f515aaf0c44"
   },
   "outputs": [
    {
     "data": {
      "text/plain": [
       "3"
      ]
     },
     "execution_count": 33,
     "metadata": {
      "tags": []
     },
     "output_type": "execute_result"
    }
   ],
   "source": [
    "train_labels[3]"
   ]
  },
  {
   "cell_type": "code",
   "execution_count": 34,
   "metadata": {
    "colab": {
     "base_uri": "https://localhost:8080/"
    },
    "id": "zWtkdXwTcsGx",
    "outputId": "14b4118e-88b2-444d-a655-9beba063c3c2"
   },
   "outputs": [
    {
     "data": {
      "text/plain": [
       "(2599, 22500)"
      ]
     },
     "execution_count": 34,
     "metadata": {
      "tags": []
     },
     "output_type": "execute_result"
    }
   ],
   "source": [
    "train_images.shape"
   ]
  },
  {
   "cell_type": "code",
   "execution_count": 35,
   "metadata": {
    "colab": {
     "base_uri": "https://localhost:8080/"
    },
    "id": "oHep_ImBcsKe",
    "outputId": "47bd7aaf-34a5-426e-dfa5-2c724a263381"
   },
   "outputs": [
    {
     "data": {
      "text/plain": [
       "(2599,)"
      ]
     },
     "execution_count": 35,
     "metadata": {
      "tags": []
     },
     "output_type": "execute_result"
    }
   ],
   "source": [
    "train_labels.shape"
   ]
  },
  {
   "cell_type": "code",
   "execution_count": 36,
   "metadata": {
    "id": "KmF8pxS7cbW3"
   },
   "outputs": [],
   "source": [
    "train_labels = to_categorical(train_labels)"
   ]
  },
  {
   "cell_type": "code",
   "execution_count": 37,
   "metadata": {
    "id": "djAcBOZJcbZy"
   },
   "outputs": [],
   "source": [
    "test_labels = to_categorical(test_labels)"
   ]
  },
  {
   "cell_type": "code",
   "execution_count": 38,
   "metadata": {
    "colab": {
     "base_uri": "https://localhost:8080/"
    },
    "id": "K_J3yGSbcbdc",
    "outputId": "916f7aa6-947f-4188-e7e3-abd1f5112b02"
   },
   "outputs": [
    {
     "data": {
      "text/plain": [
       "array([0., 0., 0., 1., 0.], dtype=float32)"
      ]
     },
     "execution_count": 38,
     "metadata": {
      "tags": []
     },
     "output_type": "execute_result"
    }
   ],
   "source": [
    "train_labels[3]"
   ]
  },
  {
   "cell_type": "code",
   "execution_count": 39,
   "metadata": {
    "id": "m3K5DMSHgXux"
   },
   "outputs": [],
   "source": [
    "network = models.Sequential()"
   ]
  },
  {
   "cell_type": "code",
   "execution_count": 40,
   "metadata": {
    "id": "DsQYKiX9gX0R"
   },
   "outputs": [],
   "source": [
    "network.add(layers.Dense(512, activation= 'relu', input_shape=(150*150,)))"
   ]
  },
  {
   "cell_type": "code",
   "execution_count": 41,
   "metadata": {
    "id": "n3cCz56zgX3x"
   },
   "outputs": [],
   "source": [
    "network.add(layers.Dense(5, activation='softmax'))"
   ]
  },
  {
   "cell_type": "code",
   "execution_count": 42,
   "metadata": {
    "id": "QGQyMBGfgX6x"
   },
   "outputs": [],
   "source": [
    "network.compile(optimizer='rmsprop', loss='categorical_crossentropy', metrics= ['accuracy'])"
   ]
  },
  {
   "cell_type": "code",
   "execution_count": 43,
   "metadata": {
    "colab": {
     "base_uri": "https://localhost:8080/"
    },
    "id": "6tF7g47QgX9J",
    "outputId": "296db52c-202b-4066-fb75-56abbedf4ce0"
   },
   "outputs": [
    {
     "name": "stdout",
     "output_type": "stream",
     "text": [
      "Epoch 1/25\n",
      "21/21 [==============================] - 5s 199ms/step - loss: 61.0819 - accuracy: 0.2148\n",
      "Epoch 2/25\n",
      "21/21 [==============================] - 4s 197ms/step - loss: 11.6746 - accuracy: 0.2603\n",
      "Epoch 3/25\n",
      "21/21 [==============================] - 4s 194ms/step - loss: 11.9814 - accuracy: 0.2085\n",
      "Epoch 4/25\n",
      "21/21 [==============================] - 4s 193ms/step - loss: 9.8730 - accuracy: 0.2573\n",
      "Epoch 5/25\n",
      "21/21 [==============================] - 4s 196ms/step - loss: 9.7933 - accuracy: 0.2260\n",
      "Epoch 6/25\n",
      "21/21 [==============================] - 4s 195ms/step - loss: 7.5922 - accuracy: 0.2503\n",
      "Epoch 7/25\n",
      "21/21 [==============================] - 4s 193ms/step - loss: 7.9517 - accuracy: 0.2450\n",
      "Epoch 8/25\n",
      "21/21 [==============================] - 4s 192ms/step - loss: 7.4148 - accuracy: 0.2462\n",
      "Epoch 9/25\n",
      "21/21 [==============================] - 4s 193ms/step - loss: 5.8767 - accuracy: 0.2233\n",
      "Epoch 10/25\n",
      "21/21 [==============================] - 4s 196ms/step - loss: 6.0560 - accuracy: 0.2228\n",
      "Epoch 11/25\n",
      "21/21 [==============================] - 4s 197ms/step - loss: 3.5008 - accuracy: 0.2841\n",
      "Epoch 12/25\n",
      "21/21 [==============================] - 4s 198ms/step - loss: 3.9613 - accuracy: 0.2671\n",
      "Epoch 13/25\n",
      "21/21 [==============================] - 4s 197ms/step - loss: 4.1014 - accuracy: 0.2722\n",
      "Epoch 14/25\n",
      "21/21 [==============================] - 4s 194ms/step - loss: 3.5581 - accuracy: 0.2531\n",
      "Epoch 15/25\n",
      "21/21 [==============================] - 4s 199ms/step - loss: 3.1519 - accuracy: 0.2535\n",
      "Epoch 16/25\n",
      "21/21 [==============================] - 4s 198ms/step - loss: 3.2566 - accuracy: 0.2545\n",
      "Epoch 17/25\n",
      "21/21 [==============================] - 4s 194ms/step - loss: 3.1074 - accuracy: 0.2669\n",
      "Epoch 18/25\n",
      "21/21 [==============================] - 4s 197ms/step - loss: 2.8544 - accuracy: 0.2766\n",
      "Epoch 19/25\n",
      "21/21 [==============================] - 4s 196ms/step - loss: 2.5152 - accuracy: 0.3061\n",
      "Epoch 20/25\n",
      "21/21 [==============================] - 4s 198ms/step - loss: 2.3473 - accuracy: 0.2929\n",
      "Epoch 21/25\n",
      "21/21 [==============================] - 4s 196ms/step - loss: 1.9827 - accuracy: 0.3111\n",
      "Epoch 22/25\n",
      "21/21 [==============================] - 4s 197ms/step - loss: 2.0607 - accuracy: 0.2729\n",
      "Epoch 23/25\n",
      "21/21 [==============================] - 4s 198ms/step - loss: 1.8761 - accuracy: 0.3013\n",
      "Epoch 24/25\n",
      "21/21 [==============================] - 4s 196ms/step - loss: 2.1435 - accuracy: 0.2905\n",
      "Epoch 25/25\n",
      "21/21 [==============================] - 4s 199ms/step - loss: 2.3119 - accuracy: 0.2993\n"
     ]
    }
   ],
   "source": [
    "history = network.fit(train_images, train_labels, epochs=25, batch_size=128)"
   ]
  },
  {
   "cell_type": "code",
   "execution_count": 45,
   "metadata": {
    "id": "-TSTDj9xgYAL"
   },
   "outputs": [],
   "source": [
    "model = models.Sequential()\n",
    "model.add(layers.Dense(512, activation='relu',kernel_regularizer=regularizers.l2(0.02),input_shape=(150*150,)))\n",
    "model.add(layers.Dropout(0.5))\n",
    "model.add(layers.Dense(256,kernel_regularizer=regularizers.l2(0.02), activation='relu'))\n",
    "model.add(layers.Dropout(0.5))\n",
    "model.add(layers.Dense(128,kernel_regularizer=regularizers.l2(0.02) ,activation='relu'))\n",
    "model.add(layers.Dropout(0.5))\n",
    "model.add(layers.Dense(5, activation='softmax'))"
   ]
  },
  {
   "cell_type": "code",
   "execution_count": 46,
   "metadata": {
    "id": "0wLdXnTsgYDI"
   },
   "outputs": [],
   "source": [
    "model.compile(optimizer='rmsprop', loss='categorical_crossentropy', metrics= ['accuracy'])"
   ]
  },
  {
   "cell_type": "code",
   "execution_count": 47,
   "metadata": {
    "colab": {
     "base_uri": "https://localhost:8080/"
    },
    "id": "9agLD3R2gYGi",
    "outputId": "f1d41b87-aa2e-4bb0-932f-87ee7576a78c"
   },
   "outputs": [
    {
     "name": "stdout",
     "output_type": "stream",
     "text": [
      "Epoch 1/25\n",
      "21/21 [==============================] - 4s 196ms/step - loss: 1.6781 - accuracy: 0.3294\n",
      "Epoch 2/25\n",
      "21/21 [==============================] - 4s 191ms/step - loss: 1.5860 - accuracy: 0.3624\n",
      "Epoch 3/25\n",
      "21/21 [==============================] - 4s 194ms/step - loss: 1.6135 - accuracy: 0.3486\n",
      "Epoch 4/25\n",
      "21/21 [==============================] - 4s 193ms/step - loss: 1.7180 - accuracy: 0.3578\n",
      "Epoch 5/25\n",
      "21/21 [==============================] - 4s 197ms/step - loss: 1.6073 - accuracy: 0.3417\n",
      "Epoch 6/25\n",
      "21/21 [==============================] - 4s 197ms/step - loss: 1.5103 - accuracy: 0.3590\n",
      "Epoch 7/25\n",
      "21/21 [==============================] - 4s 193ms/step - loss: 1.4633 - accuracy: 0.3855\n",
      "Epoch 8/25\n",
      "21/21 [==============================] - 4s 199ms/step - loss: 1.5572 - accuracy: 0.3624\n",
      "Epoch 9/25\n",
      "21/21 [==============================] - 4s 194ms/step - loss: 1.4527 - accuracy: 0.3936\n",
      "Epoch 10/25\n",
      "21/21 [==============================] - 4s 197ms/step - loss: 1.4342 - accuracy: 0.3913\n",
      "Epoch 11/25\n",
      "21/21 [==============================] - 4s 199ms/step - loss: 1.4311 - accuracy: 0.3759\n",
      "Epoch 12/25\n",
      "21/21 [==============================] - 4s 196ms/step - loss: 1.4003 - accuracy: 0.4063\n",
      "Epoch 13/25\n",
      "21/21 [==============================] - 4s 196ms/step - loss: 1.3808 - accuracy: 0.4105\n",
      "Epoch 14/25\n",
      "21/21 [==============================] - 4s 195ms/step - loss: 1.5075 - accuracy: 0.4013\n",
      "Epoch 15/25\n",
      "21/21 [==============================] - 4s 196ms/step - loss: 1.3445 - accuracy: 0.4336\n",
      "Epoch 16/25\n",
      "21/21 [==============================] - 4s 197ms/step - loss: 1.3241 - accuracy: 0.4429\n",
      "Epoch 17/25\n",
      "21/21 [==============================] - 4s 198ms/step - loss: 1.4219 - accuracy: 0.4136\n",
      "Epoch 18/25\n",
      "21/21 [==============================] - 4s 196ms/step - loss: 1.3734 - accuracy: 0.4117\n",
      "Epoch 19/25\n",
      "21/21 [==============================] - 4s 197ms/step - loss: 1.3832 - accuracy: 0.4421\n",
      "Epoch 20/25\n",
      "21/21 [==============================] - 4s 198ms/step - loss: 1.2893 - accuracy: 0.4636\n",
      "Epoch 21/25\n",
      "21/21 [==============================] - 4s 197ms/step - loss: 1.3286 - accuracy: 0.4502\n",
      "Epoch 22/25\n",
      "21/21 [==============================] - 4s 192ms/step - loss: 1.2633 - accuracy: 0.4844\n",
      "Epoch 23/25\n",
      "21/21 [==============================] - 4s 195ms/step - loss: 1.3685 - accuracy: 0.4429\n",
      "Epoch 24/25\n",
      "21/21 [==============================] - 4s 193ms/step - loss: 1.2888 - accuracy: 0.4786\n",
      "Epoch 25/25\n",
      "21/21 [==============================] - 4s 194ms/step - loss: 1.2464 - accuracy: 0.4817\n"
     ]
    }
   ],
   "source": [
    "history = network.fit(train_images, train_labels, epochs=25, batch_size=128)"
   ]
  },
  {
   "cell_type": "code",
   "execution_count": 48,
   "metadata": {
    "id": "mDtOaPN4hz6O"
   },
   "outputs": [],
   "source": [
    "model = models.Sequential()\n",
    "model.add(layers.Dense(1024, activation='relu',kernel_regularizer=regularizers.l2(0.02),input_shape=(150*150,)))\n",
    "model.add(layers.Dropout(0.5))\n",
    "model.add(layers.Dense(512,kernel_regularizer=regularizers.l2(0.02), activation='relu'))\n",
    "model.add(layers.Dropout(0.5))\n",
    "model.add(layers.Dense(256,kernel_regularizer=regularizers.l2(0.02) ,activation='relu'))\n",
    "model.add(layers.Dropout(0.5))\n",
    "model.add(layers.Dense(128,kernel_regularizer=regularizers.l2(0.02) ,activation='relu'))\n",
    "model.add(layers.Dropout(0.5))\n",
    "model.add(layers.Dense(64,kernel_regularizer=regularizers.l2(0.02) ,activation='relu'))\n",
    "model.add(layers.Dropout(0.5))\n",
    "model.add(layers.Dense(32,kernel_regularizer=regularizers.l2(0.02) ,activation='relu'))\n",
    "model.add(layers.Dropout(0.5))\n",
    "model.add(layers.Dense(16,kernel_regularizer=regularizers.l2(0.02) ,activation='relu'))\n",
    "model.add(layers.Dropout(0.5))\n",
    "model.add(layers.Dense(8,kernel_regularizer=regularizers.l2(0.02) ,activation='relu'))\n",
    "model.add(layers.Dropout(0.5))\n",
    "model.add(layers.Dense(5, activation='softmax'))"
   ]
  },
  {
   "cell_type": "code",
   "execution_count": 49,
   "metadata": {
    "id": "6Eyip2cCjar_"
   },
   "outputs": [],
   "source": [
    "model.compile(optimizer='adam', loss='categorical_crossentropy', metrics= ['accuracy'])"
   ]
  },
  {
   "cell_type": "code",
   "execution_count": 50,
   "metadata": {
    "colab": {
     "base_uri": "https://localhost:8080/"
    },
    "id": "aXeNnyAUhz83",
    "outputId": "9657a133-35e7-405f-85e3-e98026fedf46"
   },
   "outputs": [
    {
     "name": "stdout",
     "output_type": "stream",
     "text": [
      "Epoch 1/50\n",
      "21/21 [==============================] - 4s 196ms/step - loss: 1.2996 - accuracy: 0.4779\n",
      "Epoch 2/50\n",
      "21/21 [==============================] - 4s 193ms/step - loss: 1.2762 - accuracy: 0.5010\n",
      "Epoch 3/50\n",
      "21/21 [==============================] - 4s 194ms/step - loss: 1.2210 - accuracy: 0.4906\n",
      "Epoch 4/50\n",
      "21/21 [==============================] - 4s 199ms/step - loss: 1.2357 - accuracy: 0.5017\n",
      "Epoch 5/50\n",
      "21/21 [==============================] - 4s 194ms/step - loss: 1.2304 - accuracy: 0.5040\n",
      "Epoch 6/50\n",
      "21/21 [==============================] - 4s 196ms/step - loss: 1.2691 - accuracy: 0.5010\n",
      "Epoch 7/50\n",
      "21/21 [==============================] - 4s 198ms/step - loss: 1.2859 - accuracy: 0.4967\n",
      "Epoch 8/50\n",
      "21/21 [==============================] - 4s 201ms/step - loss: 1.1819 - accuracy: 0.5248\n",
      "Epoch 9/50\n",
      "21/21 [==============================] - 4s 199ms/step - loss: 1.1643 - accuracy: 0.5210\n",
      "Epoch 10/50\n",
      "21/21 [==============================] - 4s 198ms/step - loss: 1.2061 - accuracy: 0.5206\n",
      "Epoch 11/50\n",
      "21/21 [==============================] - 4s 198ms/step - loss: 1.1818 - accuracy: 0.5148\n",
      "Epoch 12/50\n",
      "21/21 [==============================] - 4s 200ms/step - loss: 1.1842 - accuracy: 0.5267\n",
      "Epoch 13/50\n",
      "21/21 [==============================] - 4s 199ms/step - loss: 1.1471 - accuracy: 0.5475\n",
      "Epoch 14/50\n",
      "21/21 [==============================] - 4s 199ms/step - loss: 1.1384 - accuracy: 0.5498\n",
      "Epoch 15/50\n",
      "21/21 [==============================] - 4s 199ms/step - loss: 1.2115 - accuracy: 0.5391\n",
      "Epoch 16/50\n",
      "21/21 [==============================] - 4s 198ms/step - loss: 1.1368 - accuracy: 0.5629\n",
      "Epoch 17/50\n",
      "21/21 [==============================] - 4s 199ms/step - loss: 1.0900 - accuracy: 0.5675\n",
      "Epoch 18/50\n",
      "21/21 [==============================] - 4s 200ms/step - loss: 1.1259 - accuracy: 0.5537\n",
      "Epoch 19/50\n",
      "21/21 [==============================] - 4s 200ms/step - loss: 1.1134 - accuracy: 0.5583\n",
      "Epoch 20/50\n",
      "21/21 [==============================] - 4s 197ms/step - loss: 1.1392 - accuracy: 0.5518\n",
      "Epoch 21/50\n",
      "21/21 [==============================] - 4s 200ms/step - loss: 1.1425 - accuracy: 0.5656\n",
      "Epoch 22/50\n",
      "21/21 [==============================] - 4s 201ms/step - loss: 1.0721 - accuracy: 0.5871\n",
      "Epoch 23/50\n",
      "21/21 [==============================] - 4s 198ms/step - loss: 1.0816 - accuracy: 0.5721\n",
      "Epoch 24/50\n",
      "21/21 [==============================] - 4s 198ms/step - loss: 1.0135 - accuracy: 0.6072\n",
      "Epoch 25/50\n",
      "21/21 [==============================] - 4s 197ms/step - loss: 1.0545 - accuracy: 0.5883\n",
      "Epoch 26/50\n",
      "21/21 [==============================] - 4s 197ms/step - loss: 1.1334 - accuracy: 0.5625\n",
      "Epoch 27/50\n",
      "21/21 [==============================] - 4s 195ms/step - loss: 1.0970 - accuracy: 0.5972\n",
      "Epoch 28/50\n",
      "21/21 [==============================] - 4s 197ms/step - loss: 1.0490 - accuracy: 0.6075\n",
      "Epoch 29/50\n",
      "21/21 [==============================] - 4s 198ms/step - loss: 1.0052 - accuracy: 0.6091\n",
      "Epoch 30/50\n",
      "21/21 [==============================] - 4s 198ms/step - loss: 1.0098 - accuracy: 0.5910\n",
      "Epoch 31/50\n",
      "21/21 [==============================] - 4s 196ms/step - loss: 0.9921 - accuracy: 0.6095\n",
      "Epoch 32/50\n",
      "21/21 [==============================] - 4s 198ms/step - loss: 1.0175 - accuracy: 0.5956\n",
      "Epoch 33/50\n",
      "21/21 [==============================] - 4s 196ms/step - loss: 0.9926 - accuracy: 0.6179\n",
      "Epoch 34/50\n",
      "21/21 [==============================] - 4s 196ms/step - loss: 1.0163 - accuracy: 0.6179\n",
      "Epoch 35/50\n",
      "21/21 [==============================] - 4s 196ms/step - loss: 0.9944 - accuracy: 0.6122\n",
      "Epoch 36/50\n",
      "21/21 [==============================] - 4s 195ms/step - loss: 1.0691 - accuracy: 0.5960\n",
      "Epoch 37/50\n",
      "21/21 [==============================] - 4s 197ms/step - loss: 0.9351 - accuracy: 0.6433\n",
      "Epoch 38/50\n",
      "21/21 [==============================] - 4s 196ms/step - loss: 0.9487 - accuracy: 0.6256\n",
      "Epoch 39/50\n",
      "21/21 [==============================] - 4s 197ms/step - loss: 0.9786 - accuracy: 0.6179\n",
      "Epoch 40/50\n",
      "21/21 [==============================] - 4s 197ms/step - loss: 0.9751 - accuracy: 0.6272\n",
      "Epoch 41/50\n",
      "21/21 [==============================] - 4s 195ms/step - loss: 0.9031 - accuracy: 0.6541\n",
      "Epoch 42/50\n",
      "21/21 [==============================] - 4s 197ms/step - loss: 0.8924 - accuracy: 0.6641\n",
      "Epoch 43/50\n",
      "21/21 [==============================] - 4s 197ms/step - loss: 0.9672 - accuracy: 0.6376\n",
      "Epoch 44/50\n",
      "21/21 [==============================] - 4s 199ms/step - loss: 0.9490 - accuracy: 0.6306\n",
      "Epoch 45/50\n",
      "21/21 [==============================] - 4s 198ms/step - loss: 0.9384 - accuracy: 0.6418\n",
      "Epoch 46/50\n",
      "21/21 [==============================] - 4s 196ms/step - loss: 0.8764 - accuracy: 0.6756\n",
      "Epoch 47/50\n",
      "21/21 [==============================] - 4s 197ms/step - loss: 0.9448 - accuracy: 0.6314\n",
      "Epoch 48/50\n",
      "21/21 [==============================] - 4s 196ms/step - loss: 0.8804 - accuracy: 0.6599\n",
      "Epoch 49/50\n",
      "21/21 [==============================] - 4s 198ms/step - loss: 0.8617 - accuracy: 0.6626\n",
      "Epoch 50/50\n",
      "21/21 [==============================] - 4s 196ms/step - loss: 1.0716 - accuracy: 0.6610\n"
     ]
    }
   ],
   "source": [
    "history = network.fit(train_images, train_labels, epochs=50, batch_size=128)"
   ]
  },
  {
   "cell_type": "code",
   "execution_count": 52,
   "metadata": {
    "id": "aHxgMUPrihnI"
   },
   "outputs": [],
   "source": [
    "model = models.Sequential()\n",
    "model.add(layers.Dense(1024, activation='relu',input_shape=(150*150,)))\n",
    "model.add(layers.Dense(512, activation='relu'))\n",
    "model.add(layers.Dense(256, activation='relu'))\n",
    "model.add(layers.Dense(128, activation='relu'))\n",
    "model.add(layers.Dense(64, activation='relu'))\n",
    "model.add(layers.Dense(32, activation='relu'))\n",
    "model.add(layers.Dense(16, activation='relu'))\n",
    "model.add(layers.Dense(8, activation='relu'))\n",
    "model.add(layers.Dense(5, activation='softmax'))"
   ]
  },
  {
   "cell_type": "code",
   "execution_count": 53,
   "metadata": {
    "id": "hg8mm2YGja84"
   },
   "outputs": [],
   "source": [
    "model.compile(optimizer='adam', loss='categorical_crossentropy', metrics= ['accuracy'])"
   ]
  },
  {
   "cell_type": "code",
   "execution_count": 54,
   "metadata": {
    "colab": {
     "base_uri": "https://localhost:8080/"
    },
    "id": "UbL13rUAihqX",
    "outputId": "c4eebe8c-6925-4024-b259-58141b2f55ae"
   },
   "outputs": [
    {
     "name": "stdout",
     "output_type": "stream",
     "text": [
      "Epoch 1/200\n",
      "41/41 [==============================] - 6s 151ms/step - loss: 0.9578 - accuracy: 0.6491\n",
      "Epoch 2/200\n",
      "41/41 [==============================] - 6s 150ms/step - loss: 0.9686 - accuracy: 0.6503\n",
      "Epoch 3/200\n",
      "41/41 [==============================] - 6s 149ms/step - loss: 0.8692 - accuracy: 0.6780\n",
      "Epoch 4/200\n",
      "41/41 [==============================] - 6s 151ms/step - loss: 0.8935 - accuracy: 0.6776\n",
      "Epoch 5/200\n",
      "41/41 [==============================] - 6s 151ms/step - loss: 0.9086 - accuracy: 0.6664\n",
      "Epoch 6/200\n",
      "41/41 [==============================] - 6s 151ms/step - loss: 0.8688 - accuracy: 0.6753\n",
      "Epoch 7/200\n",
      "41/41 [==============================] - 6s 152ms/step - loss: 0.8915 - accuracy: 0.6741\n",
      "Epoch 8/200\n",
      "41/41 [==============================] - 6s 150ms/step - loss: 0.9510 - accuracy: 0.6722\n",
      "Epoch 9/200\n",
      "41/41 [==============================] - 6s 151ms/step - loss: 0.8302 - accuracy: 0.6987\n",
      "Epoch 10/200\n",
      "41/41 [==============================] - 6s 150ms/step - loss: 0.8536 - accuracy: 0.6922\n",
      "Epoch 11/200\n",
      "41/41 [==============================] - 6s 151ms/step - loss: 0.8514 - accuracy: 0.6914\n",
      "Epoch 12/200\n",
      "41/41 [==============================] - 6s 151ms/step - loss: 0.8478 - accuracy: 0.6930\n",
      "Epoch 13/200\n",
      "41/41 [==============================] - 6s 151ms/step - loss: 0.8192 - accuracy: 0.7026\n",
      "Epoch 14/200\n",
      "41/41 [==============================] - 6s 151ms/step - loss: 0.8150 - accuracy: 0.6941\n",
      "Epoch 15/200\n",
      "41/41 [==============================] - 6s 151ms/step - loss: 0.8622 - accuracy: 0.6976\n",
      "Epoch 16/200\n",
      "41/41 [==============================] - 6s 150ms/step - loss: 0.8312 - accuracy: 0.7064\n",
      "Epoch 17/200\n",
      "41/41 [==============================] - 6s 151ms/step - loss: 0.8083 - accuracy: 0.7160\n",
      "Epoch 18/200\n",
      "41/41 [==============================] - 6s 152ms/step - loss: 0.8547 - accuracy: 0.7026\n",
      "Epoch 19/200\n",
      "41/41 [==============================] - 6s 151ms/step - loss: 0.7284 - accuracy: 0.7291\n",
      "Epoch 20/200\n",
      "41/41 [==============================] - 6s 151ms/step - loss: 0.7991 - accuracy: 0.7187\n",
      "Epoch 21/200\n",
      "41/41 [==============================] - 6s 151ms/step - loss: 0.8416 - accuracy: 0.7103\n",
      "Epoch 22/200\n",
      "41/41 [==============================] - 6s 152ms/step - loss: 0.7850 - accuracy: 0.7218\n",
      "Epoch 23/200\n",
      "41/41 [==============================] - 6s 152ms/step - loss: 0.8246 - accuracy: 0.7187\n",
      "Epoch 24/200\n",
      "41/41 [==============================] - 6s 153ms/step - loss: 0.7607 - accuracy: 0.7260\n",
      "Epoch 25/200\n",
      "41/41 [==============================] - 6s 152ms/step - loss: 0.7452 - accuracy: 0.7334\n",
      "Epoch 26/200\n",
      "41/41 [==============================] - 6s 152ms/step - loss: 0.7199 - accuracy: 0.7437\n",
      "Epoch 27/200\n",
      "41/41 [==============================] - 6s 152ms/step - loss: 0.8322 - accuracy: 0.7118\n",
      "Epoch 28/200\n",
      "41/41 [==============================] - 6s 152ms/step - loss: 0.7097 - accuracy: 0.7576\n",
      "Epoch 29/200\n",
      "41/41 [==============================] - 6s 152ms/step - loss: 0.7521 - accuracy: 0.7599\n",
      "Epoch 30/200\n",
      "41/41 [==============================] - 6s 151ms/step - loss: 0.7211 - accuracy: 0.7480\n",
      "Epoch 31/200\n",
      "41/41 [==============================] - 6s 151ms/step - loss: 0.6837 - accuracy: 0.7445\n",
      "Epoch 32/200\n",
      "41/41 [==============================] - 6s 151ms/step - loss: 0.6842 - accuracy: 0.7507\n",
      "Epoch 33/200\n",
      "41/41 [==============================] - 6s 151ms/step - loss: 0.8151 - accuracy: 0.7226\n",
      "Epoch 34/200\n",
      "41/41 [==============================] - 6s 152ms/step - loss: 0.6812 - accuracy: 0.7553\n",
      "Epoch 35/200\n",
      "41/41 [==============================] - 6s 151ms/step - loss: 0.6704 - accuracy: 0.7611\n",
      "Epoch 36/200\n",
      "41/41 [==============================] - 6s 152ms/step - loss: 0.6618 - accuracy: 0.7526\n",
      "Epoch 37/200\n",
      "41/41 [==============================] - 6s 151ms/step - loss: 0.7020 - accuracy: 0.7534\n",
      "Epoch 38/200\n",
      "41/41 [==============================] - 6s 152ms/step - loss: 0.7158 - accuracy: 0.7464\n",
      "Epoch 39/200\n",
      "41/41 [==============================] - 6s 151ms/step - loss: 0.9991 - accuracy: 0.7557\n",
      "Epoch 40/200\n",
      "41/41 [==============================] - 6s 150ms/step - loss: 0.6362 - accuracy: 0.7699\n",
      "Epoch 41/200\n",
      "41/41 [==============================] - 6s 151ms/step - loss: 0.6359 - accuracy: 0.7641\n",
      "Epoch 42/200\n",
      "41/41 [==============================] - 6s 152ms/step - loss: 0.7395 - accuracy: 0.7534\n",
      "Epoch 43/200\n",
      "41/41 [==============================] - 6s 152ms/step - loss: 0.8027 - accuracy: 0.7576\n",
      "Epoch 44/200\n",
      "41/41 [==============================] - 6s 151ms/step - loss: 0.5832 - accuracy: 0.7930\n",
      "Epoch 45/200\n",
      "41/41 [==============================] - 6s 151ms/step - loss: 0.6491 - accuracy: 0.7888\n",
      "Epoch 46/200\n",
      "41/41 [==============================] - 6s 150ms/step - loss: 0.6331 - accuracy: 0.7799\n",
      "Epoch 47/200\n",
      "41/41 [==============================] - 6s 152ms/step - loss: 0.6473 - accuracy: 0.7799\n",
      "Epoch 48/200\n",
      "41/41 [==============================] - 6s 152ms/step - loss: 0.6645 - accuracy: 0.7745\n",
      "Epoch 49/200\n",
      "41/41 [==============================] - 6s 151ms/step - loss: 0.6187 - accuracy: 0.7707\n",
      "Epoch 50/200\n",
      "41/41 [==============================] - 6s 150ms/step - loss: 0.6046 - accuracy: 0.7834\n",
      "Epoch 51/200\n",
      "41/41 [==============================] - 6s 150ms/step - loss: 0.5830 - accuracy: 0.7911\n",
      "Epoch 52/200\n",
      "41/41 [==============================] - 6s 152ms/step - loss: 0.6972 - accuracy: 0.7726\n",
      "Epoch 53/200\n",
      "41/41 [==============================] - 6s 151ms/step - loss: 0.6011 - accuracy: 0.7799\n",
      "Epoch 54/200\n",
      "41/41 [==============================] - 6s 152ms/step - loss: 0.6099 - accuracy: 0.7911\n",
      "Epoch 55/200\n",
      "41/41 [==============================] - 6s 150ms/step - loss: 0.6076 - accuracy: 0.7938\n",
      "Epoch 56/200\n",
      "41/41 [==============================] - 6s 150ms/step - loss: 0.8968 - accuracy: 0.7888\n",
      "Epoch 57/200\n",
      "41/41 [==============================] - 6s 150ms/step - loss: 0.5179 - accuracy: 0.8157\n",
      "Epoch 58/200\n",
      "41/41 [==============================] - 6s 151ms/step - loss: 0.5900 - accuracy: 0.7984\n",
      "Epoch 59/200\n",
      "41/41 [==============================] - 6s 150ms/step - loss: 0.6821 - accuracy: 0.7849\n",
      "Epoch 60/200\n",
      "41/41 [==============================] - 6s 152ms/step - loss: 0.5580 - accuracy: 0.8065\n",
      "Epoch 61/200\n",
      "41/41 [==============================] - 6s 153ms/step - loss: 0.6440 - accuracy: 0.8003\n",
      "Epoch 62/200\n",
      "41/41 [==============================] - 6s 153ms/step - loss: 0.5290 - accuracy: 0.8172\n",
      "Epoch 63/200\n",
      "41/41 [==============================] - 6s 152ms/step - loss: 0.5653 - accuracy: 0.8045\n",
      "Epoch 64/200\n",
      "41/41 [==============================] - 6s 151ms/step - loss: 0.5943 - accuracy: 0.8157\n",
      "Epoch 65/200\n",
      "41/41 [==============================] - 6s 153ms/step - loss: 0.5257 - accuracy: 0.8284\n",
      "Epoch 66/200\n",
      "41/41 [==============================] - 6s 151ms/step - loss: 0.8345 - accuracy: 0.8115\n",
      "Epoch 67/200\n",
      "41/41 [==============================] - 6s 152ms/step - loss: 0.5768 - accuracy: 0.8045\n",
      "Epoch 68/200\n",
      "41/41 [==============================] - 6s 152ms/step - loss: 0.5869 - accuracy: 0.7953\n",
      "Epoch 69/200\n",
      "41/41 [==============================] - 6s 150ms/step - loss: 0.5134 - accuracy: 0.8230\n",
      "Epoch 70/200\n",
      "41/41 [==============================] - 6s 152ms/step - loss: 0.5179 - accuracy: 0.8176\n",
      "Epoch 71/200\n",
      "41/41 [==============================] - 6s 152ms/step - loss: 0.5284 - accuracy: 0.8188\n",
      "Epoch 72/200\n",
      "41/41 [==============================] - 6s 152ms/step - loss: 0.5407 - accuracy: 0.8257\n",
      "Epoch 73/200\n",
      "41/41 [==============================] - 6s 152ms/step - loss: 0.5599 - accuracy: 0.8184\n",
      "Epoch 74/200\n",
      "41/41 [==============================] - 6s 152ms/step - loss: 0.5020 - accuracy: 0.8419\n",
      "Epoch 75/200\n",
      "41/41 [==============================] - 6s 153ms/step - loss: 0.5472 - accuracy: 0.8257\n",
      "Epoch 76/200\n",
      "41/41 [==============================] - 6s 153ms/step - loss: 0.5501 - accuracy: 0.8188\n",
      "Epoch 77/200\n",
      "41/41 [==============================] - 6s 152ms/step - loss: 0.4492 - accuracy: 0.8392\n",
      "Epoch 78/200\n",
      "41/41 [==============================] - 6s 152ms/step - loss: 0.5580 - accuracy: 0.8299\n",
      "Epoch 79/200\n",
      "41/41 [==============================] - 6s 152ms/step - loss: 0.6109 - accuracy: 0.8203\n",
      "Epoch 80/200\n",
      "41/41 [==============================] - 6s 153ms/step - loss: 0.5508 - accuracy: 0.8311\n",
      "Epoch 81/200\n",
      "41/41 [==============================] - 6s 152ms/step - loss: 0.5636 - accuracy: 0.8230\n",
      "Epoch 82/200\n",
      "41/41 [==============================] - 6s 153ms/step - loss: 0.4747 - accuracy: 0.8503\n",
      "Epoch 83/200\n",
      "41/41 [==============================] - 6s 152ms/step - loss: 0.4639 - accuracy: 0.8422\n",
      "Epoch 84/200\n",
      "41/41 [==============================] - 6s 153ms/step - loss: 0.4905 - accuracy: 0.8426\n",
      "Epoch 85/200\n",
      "41/41 [==============================] - 6s 154ms/step - loss: 0.5723 - accuracy: 0.8342\n",
      "Epoch 86/200\n",
      "41/41 [==============================] - 6s 152ms/step - loss: 0.4193 - accuracy: 0.8507\n",
      "Epoch 87/200\n",
      "41/41 [==============================] - 6s 152ms/step - loss: 0.6374 - accuracy: 0.8176\n",
      "Epoch 88/200\n",
      "41/41 [==============================] - 6s 153ms/step - loss: 0.4929 - accuracy: 0.8615\n",
      "Epoch 89/200\n",
      "41/41 [==============================] - 6s 152ms/step - loss: 0.4986 - accuracy: 0.8580\n",
      "Epoch 90/200\n",
      "41/41 [==============================] - 6s 153ms/step - loss: 0.5620 - accuracy: 0.8288\n",
      "Epoch 91/200\n",
      "41/41 [==============================] - 6s 154ms/step - loss: 0.4795 - accuracy: 0.8461\n",
      "Epoch 92/200\n",
      "41/41 [==============================] - 6s 152ms/step - loss: 0.7023 - accuracy: 0.8384\n",
      "Epoch 93/200\n",
      "41/41 [==============================] - 6s 153ms/step - loss: 0.4494 - accuracy: 0.8492\n",
      "Epoch 94/200\n",
      "41/41 [==============================] - 6s 152ms/step - loss: 0.4687 - accuracy: 0.8580\n",
      "Epoch 95/200\n",
      "41/41 [==============================] - 6s 152ms/step - loss: 0.4308 - accuracy: 0.8642\n",
      "Epoch 96/200\n",
      "41/41 [==============================] - 6s 152ms/step - loss: 0.5087 - accuracy: 0.8511\n",
      "Epoch 97/200\n",
      "41/41 [==============================] - 6s 153ms/step - loss: 0.4578 - accuracy: 0.8399\n",
      "Epoch 98/200\n",
      "41/41 [==============================] - 6s 153ms/step - loss: 0.5199 - accuracy: 0.8403\n",
      "Epoch 99/200\n",
      "41/41 [==============================] - 6s 153ms/step - loss: 0.4501 - accuracy: 0.8565\n",
      "Epoch 100/200\n",
      "41/41 [==============================] - 6s 153ms/step - loss: 0.6270 - accuracy: 0.8519\n",
      "Epoch 101/200\n",
      "41/41 [==============================] - 6s 153ms/step - loss: 0.3574 - accuracy: 0.8746\n",
      "Epoch 102/200\n",
      "41/41 [==============================] - 6s 152ms/step - loss: 0.4418 - accuracy: 0.8546\n",
      "Epoch 103/200\n",
      "41/41 [==============================] - 6s 152ms/step - loss: 0.6006 - accuracy: 0.8392\n",
      "Epoch 104/200\n",
      "41/41 [==============================] - 6s 152ms/step - loss: 0.4174 - accuracy: 0.8638\n",
      "Epoch 105/200\n",
      "41/41 [==============================] - 6s 152ms/step - loss: 0.4226 - accuracy: 0.8573\n",
      "Epoch 106/200\n",
      "41/41 [==============================] - 6s 152ms/step - loss: 0.5425 - accuracy: 0.8611\n",
      "Epoch 107/200\n",
      "41/41 [==============================] - 6s 153ms/step - loss: 0.4077 - accuracy: 0.8742\n",
      "Epoch 108/200\n",
      "41/41 [==============================] - 6s 151ms/step - loss: 0.5975 - accuracy: 0.8449\n",
      "Epoch 109/200\n",
      "41/41 [==============================] - 6s 150ms/step - loss: 0.4443 - accuracy: 0.8703\n",
      "Epoch 110/200\n",
      "41/41 [==============================] - 6s 153ms/step - loss: 0.7050 - accuracy: 0.8365\n",
      "Epoch 111/200\n",
      "41/41 [==============================] - 6s 154ms/step - loss: 0.3832 - accuracy: 0.8892\n",
      "Epoch 112/200\n",
      "41/41 [==============================] - 6s 152ms/step - loss: 0.3991 - accuracy: 0.8646\n",
      "Epoch 113/200\n",
      "41/41 [==============================] - 6s 153ms/step - loss: 0.5216 - accuracy: 0.8523\n",
      "Epoch 114/200\n",
      "41/41 [==============================] - 6s 154ms/step - loss: 0.4601 - accuracy: 0.8673\n",
      "Epoch 115/200\n",
      "41/41 [==============================] - 6s 153ms/step - loss: 0.6136 - accuracy: 0.8611\n",
      "Epoch 116/200\n",
      "41/41 [==============================] - 6s 154ms/step - loss: 0.3578 - accuracy: 0.8788\n",
      "Epoch 117/200\n",
      "41/41 [==============================] - 6s 152ms/step - loss: 0.4841 - accuracy: 0.8599\n",
      "Epoch 118/200\n",
      "41/41 [==============================] - 6s 152ms/step - loss: 0.4574 - accuracy: 0.8673\n",
      "Epoch 119/200\n",
      "41/41 [==============================] - 6s 152ms/step - loss: 0.4278 - accuracy: 0.8657\n",
      "Epoch 120/200\n",
      "41/41 [==============================] - 6s 153ms/step - loss: 0.4514 - accuracy: 0.8649\n",
      "Epoch 121/200\n",
      "41/41 [==============================] - 6s 153ms/step - loss: 0.4180 - accuracy: 0.8880\n",
      "Epoch 122/200\n",
      "41/41 [==============================] - 6s 154ms/step - loss: 0.4307 - accuracy: 0.8630\n",
      "Epoch 123/200\n",
      "41/41 [==============================] - 6s 152ms/step - loss: 0.4671 - accuracy: 0.8726\n",
      "Epoch 124/200\n",
      "41/41 [==============================] - 6s 151ms/step - loss: 0.3839 - accuracy: 0.8884\n",
      "Epoch 125/200\n",
      "41/41 [==============================] - 6s 151ms/step - loss: 0.8512 - accuracy: 0.8565\n",
      "Epoch 126/200\n",
      "41/41 [==============================] - 6s 152ms/step - loss: 0.4270 - accuracy: 0.8842\n",
      "Epoch 127/200\n",
      "41/41 [==============================] - 6s 152ms/step - loss: 0.5457 - accuracy: 0.8657\n",
      "Epoch 128/200\n",
      "41/41 [==============================] - 6s 152ms/step - loss: 0.3928 - accuracy: 0.8811\n",
      "Epoch 129/200\n",
      "41/41 [==============================] - 6s 152ms/step - loss: 0.4866 - accuracy: 0.8819\n",
      "Epoch 130/200\n",
      "41/41 [==============================] - 6s 152ms/step - loss: 0.5550 - accuracy: 0.8757\n",
      "Epoch 131/200\n",
      "41/41 [==============================] - 6s 151ms/step - loss: 0.5042 - accuracy: 0.8688\n",
      "Epoch 132/200\n",
      "41/41 [==============================] - 6s 151ms/step - loss: 0.3234 - accuracy: 0.8961\n",
      "Epoch 133/200\n",
      "41/41 [==============================] - 6s 152ms/step - loss: 0.3883 - accuracy: 0.8807\n",
      "Epoch 134/200\n",
      "41/41 [==============================] - 6s 152ms/step - loss: 0.4812 - accuracy: 0.8861\n",
      "Epoch 135/200\n",
      "41/41 [==============================] - 6s 154ms/step - loss: 0.3432 - accuracy: 0.8988\n",
      "Epoch 136/200\n",
      "41/41 [==============================] - 6s 154ms/step - loss: 0.5532 - accuracy: 0.8669\n",
      "Epoch 137/200\n",
      "41/41 [==============================] - 6s 154ms/step - loss: 0.4127 - accuracy: 0.8915\n",
      "Epoch 138/200\n",
      "41/41 [==============================] - 6s 153ms/step - loss: 0.6010 - accuracy: 0.8780\n",
      "Epoch 139/200\n",
      "41/41 [==============================] - 6s 155ms/step - loss: 0.5503 - accuracy: 0.8546\n",
      "Epoch 140/200\n",
      "41/41 [==============================] - 6s 155ms/step - loss: 0.3438 - accuracy: 0.9019\n",
      "Epoch 141/200\n",
      "41/41 [==============================] - 6s 154ms/step - loss: 0.3902 - accuracy: 0.8838\n",
      "Epoch 142/200\n",
      "41/41 [==============================] - 6s 154ms/step - loss: 0.5790 - accuracy: 0.8649\n",
      "Epoch 143/200\n",
      "41/41 [==============================] - 6s 155ms/step - loss: 0.2844 - accuracy: 0.9046\n",
      "Epoch 144/200\n",
      "41/41 [==============================] - 6s 155ms/step - loss: 0.3988 - accuracy: 0.8888\n",
      "Epoch 145/200\n",
      "41/41 [==============================] - 6s 154ms/step - loss: 0.3627 - accuracy: 0.8938\n",
      "Epoch 146/200\n",
      "41/41 [==============================] - 6s 154ms/step - loss: 0.3499 - accuracy: 0.8857\n",
      "Epoch 147/200\n",
      "41/41 [==============================] - 6s 154ms/step - loss: 0.4209 - accuracy: 0.8984\n",
      "Epoch 148/200\n",
      "41/41 [==============================] - 6s 153ms/step - loss: 0.4074 - accuracy: 0.8969\n",
      "Epoch 149/200\n",
      "41/41 [==============================] - 6s 153ms/step - loss: 0.7037 - accuracy: 0.8807\n",
      "Epoch 150/200\n",
      "41/41 [==============================] - 6s 153ms/step - loss: 0.3406 - accuracy: 0.8996\n",
      "Epoch 151/200\n",
      "41/41 [==============================] - 6s 154ms/step - loss: 0.5132 - accuracy: 0.8792\n",
      "Epoch 152/200\n",
      "41/41 [==============================] - 6s 152ms/step - loss: 0.6555 - accuracy: 0.8750\n",
      "Epoch 153/200\n",
      "41/41 [==============================] - 6s 153ms/step - loss: 0.3148 - accuracy: 0.9050\n",
      "Epoch 154/200\n",
      "41/41 [==============================] - 6s 154ms/step - loss: 0.4868 - accuracy: 0.8703\n",
      "Epoch 155/200\n",
      "41/41 [==============================] - 6s 155ms/step - loss: 0.4206 - accuracy: 0.8865\n",
      "Epoch 156/200\n",
      "41/41 [==============================] - 6s 155ms/step - loss: 0.4177 - accuracy: 0.9027\n",
      "Epoch 157/200\n",
      "41/41 [==============================] - 6s 155ms/step - loss: 0.3685 - accuracy: 0.9161\n",
      "Epoch 158/200\n",
      "41/41 [==============================] - 6s 155ms/step - loss: 0.6031 - accuracy: 0.8850\n",
      "Epoch 159/200\n",
      "41/41 [==============================] - 6s 156ms/step - loss: 0.3491 - accuracy: 0.8834\n",
      "Epoch 160/200\n",
      "41/41 [==============================] - 6s 156ms/step - loss: 0.3826 - accuracy: 0.9127\n",
      "Epoch 161/200\n",
      "41/41 [==============================] - 6s 156ms/step - loss: 0.3421 - accuracy: 0.8930\n",
      "Epoch 162/200\n",
      "41/41 [==============================] - 6s 154ms/step - loss: 0.5017 - accuracy: 0.8846\n",
      "Epoch 163/200\n",
      "41/41 [==============================] - 6s 154ms/step - loss: 0.3592 - accuracy: 0.8950\n",
      "Epoch 164/200\n",
      "41/41 [==============================] - 6s 155ms/step - loss: 0.5187 - accuracy: 0.8853\n",
      "Epoch 165/200\n",
      "41/41 [==============================] - 6s 154ms/step - loss: 0.2900 - accuracy: 0.9184\n",
      "Epoch 166/200\n",
      "41/41 [==============================] - 6s 153ms/step - loss: 0.3914 - accuracy: 0.9030\n",
      "Epoch 167/200\n",
      "41/41 [==============================] - 6s 156ms/step - loss: 0.3267 - accuracy: 0.8988\n",
      "Epoch 168/200\n",
      "41/41 [==============================] - 6s 155ms/step - loss: 0.5052 - accuracy: 0.8815\n",
      "Epoch 169/200\n",
      "41/41 [==============================] - 6s 154ms/step - loss: 0.2695 - accuracy: 0.9157\n",
      "Epoch 170/200\n",
      "41/41 [==============================] - 6s 155ms/step - loss: 0.4343 - accuracy: 0.8973\n",
      "Epoch 171/200\n",
      "41/41 [==============================] - 6s 154ms/step - loss: 0.4821 - accuracy: 0.8861\n",
      "Epoch 172/200\n",
      "41/41 [==============================] - 6s 150ms/step - loss: 0.4794 - accuracy: 0.8957\n",
      "Epoch 173/200\n",
      "41/41 [==============================] - 6s 150ms/step - loss: 0.2987 - accuracy: 0.9138\n",
      "Epoch 174/200\n",
      "41/41 [==============================] - 6s 150ms/step - loss: 0.3413 - accuracy: 0.9003\n",
      "Epoch 175/200\n",
      "41/41 [==============================] - 6s 153ms/step - loss: 0.5210 - accuracy: 0.8880\n",
      "Epoch 176/200\n",
      "41/41 [==============================] - 6s 153ms/step - loss: 0.4350 - accuracy: 0.8961\n",
      "Epoch 177/200\n",
      "41/41 [==============================] - 7s 167ms/step - loss: 0.3773 - accuracy: 0.9184\n",
      "Epoch 178/200\n",
      "41/41 [==============================] - 7s 159ms/step - loss: 0.3095 - accuracy: 0.9080\n",
      "Epoch 179/200\n",
      "41/41 [==============================] - 6s 153ms/step - loss: 0.3083 - accuracy: 0.9130\n",
      "Epoch 180/200\n",
      "41/41 [==============================] - 6s 150ms/step - loss: 0.5611 - accuracy: 0.9023\n",
      "Epoch 181/200\n",
      "41/41 [==============================] - 6s 153ms/step - loss: 0.7385 - accuracy: 0.8761\n",
      "Epoch 182/200\n",
      "41/41 [==============================] - 7s 159ms/step - loss: 0.3052 - accuracy: 0.9227\n",
      "Epoch 183/200\n",
      "41/41 [==============================] - 7s 162ms/step - loss: 0.4442 - accuracy: 0.9177\n",
      "Epoch 184/200\n",
      "41/41 [==============================] - 7s 162ms/step - loss: 0.6054 - accuracy: 0.8961\n",
      "Epoch 185/200\n",
      "41/41 [==============================] - 7s 160ms/step - loss: 0.3071 - accuracy: 0.9269\n",
      "Epoch 186/200\n",
      "41/41 [==============================] - 7s 159ms/step - loss: 0.5114 - accuracy: 0.8900\n",
      "Epoch 187/200\n",
      "41/41 [==============================] - 6s 157ms/step - loss: 0.6370 - accuracy: 0.8819\n",
      "Epoch 188/200\n",
      "41/41 [==============================] - 6s 153ms/step - loss: 0.2607 - accuracy: 0.9280\n",
      "Epoch 189/200\n",
      "41/41 [==============================] - 6s 154ms/step - loss: 0.3056 - accuracy: 0.9204\n",
      "Epoch 190/200\n",
      "41/41 [==============================] - 6s 152ms/step - loss: 0.3513 - accuracy: 0.9019\n",
      "Epoch 191/200\n",
      "41/41 [==============================] - 6s 153ms/step - loss: 0.3850 - accuracy: 0.9092\n",
      "Epoch 192/200\n",
      "41/41 [==============================] - 6s 152ms/step - loss: 0.4804 - accuracy: 0.8953\n",
      "Epoch 193/200\n",
      "41/41 [==============================] - 6s 153ms/step - loss: 0.3089 - accuracy: 0.9096\n",
      "Epoch 194/200\n",
      "41/41 [==============================] - 6s 153ms/step - loss: 0.5545 - accuracy: 0.8876\n",
      "Epoch 195/200\n",
      "41/41 [==============================] - 6s 153ms/step - loss: 0.1880 - accuracy: 0.9392\n",
      "Epoch 196/200\n",
      "41/41 [==============================] - 6s 155ms/step - loss: 0.2558 - accuracy: 0.9157\n",
      "Epoch 197/200\n",
      "41/41 [==============================] - 6s 153ms/step - loss: 0.7854 - accuracy: 0.8638\n",
      "Epoch 198/200\n",
      "41/41 [==============================] - 6s 152ms/step - loss: 0.1552 - accuracy: 0.9454\n",
      "Epoch 199/200\n",
      "41/41 [==============================] - 6s 153ms/step - loss: 0.5501 - accuracy: 0.8934\n",
      "Epoch 200/200\n",
      "41/41 [==============================] - 6s 152ms/step - loss: 0.2625 - accuracy: 0.9192\n"
     ]
    }
   ],
   "source": [
    "history = network.fit(train_images, train_labels, epochs=200, batch_size=64)"
   ]
  },
  {
   "cell_type": "code",
   "execution_count": 55,
   "metadata": {
    "id": "1zQc6YfqihvX"
   },
   "outputs": [],
   "source": [
    "model = models.Sequential()\n",
    "model.add(layers.Dense(1024, activation='tanh',input_shape=(150*150,)))\n",
    "model.add(layers.Dense(512, activation='tanh'))\n",
    "model.add(layers.Dense(256, activation='tanh'))\n",
    "model.add(layers.Dense(128, activation='tanh'))\n",
    "model.add(layers.Dense(64, activation='tanh'))\n",
    "model.add(layers.Dense(32, activation='tanh'))\n",
    "model.add(layers.Dense(16, activation='tanh'))\n",
    "model.add(layers.Dense(8, activation='tanh'))\n",
    "model.add(layers.Dense(5, activation='softmax'))"
   ]
  },
  {
   "cell_type": "code",
   "execution_count": 56,
   "metadata": {
    "id": "tWY9yHNdjbAM"
   },
   "outputs": [],
   "source": [
    "model.compile(optimizer='adam', loss='categorical_crossentropy', metrics= ['accuracy'])"
   ]
  },
  {
   "cell_type": "code",
   "execution_count": 57,
   "metadata": {
    "colab": {
     "base_uri": "https://localhost:8080/"
    },
    "id": "jsQJAlp4ihzZ",
    "outputId": "f707f3a6-2ee0-4709-d136-f300509f4aaa"
   },
   "outputs": [
    {
     "name": "stdout",
     "output_type": "stream",
     "text": [
      "Epoch 1/100\n",
      "21/21 [==============================] - 4s 193ms/step - loss: 1.2144 - accuracy: 0.8657\n",
      "Epoch 2/100\n",
      "21/21 [==============================] - 4s 193ms/step - loss: 0.0863 - accuracy: 0.9665\n",
      "Epoch 3/100\n",
      "21/21 [==============================] - 4s 191ms/step - loss: 0.4671 - accuracy: 0.8992\n",
      "Epoch 4/100\n",
      "21/21 [==============================] - 4s 194ms/step - loss: 0.0801 - accuracy: 0.9673\n",
      "Epoch 5/100\n",
      "21/21 [==============================] - 4s 194ms/step - loss: 0.4809 - accuracy: 0.8888\n",
      "Epoch 6/100\n",
      "21/21 [==============================] - 4s 193ms/step - loss: 0.1574 - accuracy: 0.9442\n",
      "Epoch 7/100\n",
      "21/21 [==============================] - 4s 195ms/step - loss: 0.3408 - accuracy: 0.9050\n",
      "Epoch 8/100\n",
      "21/21 [==============================] - 4s 197ms/step - loss: 0.1267 - accuracy: 0.9546\n",
      "Epoch 9/100\n",
      "21/21 [==============================] - 4s 193ms/step - loss: 0.2571 - accuracy: 0.9273\n",
      "Epoch 10/100\n",
      "21/21 [==============================] - 4s 192ms/step - loss: 0.6380 - accuracy: 0.8853\n",
      "Epoch 11/100\n",
      "21/21 [==============================] - 4s 191ms/step - loss: 0.4044 - accuracy: 0.8915\n",
      "Epoch 12/100\n",
      "21/21 [==============================] - 4s 193ms/step - loss: 0.0906 - accuracy: 0.9658\n",
      "Epoch 13/100\n",
      "21/21 [==============================] - 4s 190ms/step - loss: 0.3376 - accuracy: 0.9080\n",
      "Epoch 14/100\n",
      "21/21 [==============================] - 4s 193ms/step - loss: 0.1751 - accuracy: 0.9411\n",
      "Epoch 15/100\n",
      "21/21 [==============================] - 4s 191ms/step - loss: 0.2976 - accuracy: 0.9215\n",
      "Epoch 16/100\n",
      "21/21 [==============================] - 4s 193ms/step - loss: 0.1547 - accuracy: 0.9469\n",
      "Epoch 17/100\n",
      "21/21 [==============================] - 4s 196ms/step - loss: 0.3569 - accuracy: 0.8984\n",
      "Epoch 18/100\n",
      "21/21 [==============================] - 4s 192ms/step - loss: 0.5079 - accuracy: 0.8865\n",
      "Epoch 19/100\n",
      "21/21 [==============================] - 4s 192ms/step - loss: 0.1026 - accuracy: 0.9623\n",
      "Epoch 20/100\n",
      "21/21 [==============================] - 4s 194ms/step - loss: 0.3377 - accuracy: 0.9150\n",
      "Epoch 21/100\n",
      "21/21 [==============================] - 4s 193ms/step - loss: 0.6937 - accuracy: 0.8699\n",
      "Epoch 22/100\n",
      "21/21 [==============================] - 4s 190ms/step - loss: 0.0780 - accuracy: 0.9650\n",
      "Epoch 23/100\n",
      "21/21 [==============================] - 4s 193ms/step - loss: 0.6945 - accuracy: 0.8715\n",
      "Epoch 24/100\n",
      "21/21 [==============================] - 4s 196ms/step - loss: 0.0690 - accuracy: 0.9711\n",
      "Epoch 25/100\n",
      "21/21 [==============================] - 4s 192ms/step - loss: 0.2597 - accuracy: 0.9207\n",
      "Epoch 26/100\n",
      "21/21 [==============================] - 4s 192ms/step - loss: 0.6250 - accuracy: 0.9080\n",
      "Epoch 27/100\n",
      "21/21 [==============================] - 4s 194ms/step - loss: 0.1449 - accuracy: 0.9446\n",
      "Epoch 28/100\n",
      "21/21 [==============================] - 4s 193ms/step - loss: 0.7272 - accuracy: 0.8884\n",
      "Epoch 29/100\n",
      "21/21 [==============================] - 4s 195ms/step - loss: 0.0720 - accuracy: 0.9700\n",
      "Epoch 30/100\n",
      "21/21 [==============================] - 4s 197ms/step - loss: 0.3738 - accuracy: 0.9084\n",
      "Epoch 31/100\n",
      "21/21 [==============================] - 4s 195ms/step - loss: 0.0900 - accuracy: 0.9654\n",
      "Epoch 32/100\n",
      "21/21 [==============================] - 4s 195ms/step - loss: 0.5810 - accuracy: 0.8923\n",
      "Epoch 33/100\n",
      "21/21 [==============================] - 4s 192ms/step - loss: 0.0917 - accuracy: 0.9638\n",
      "Epoch 34/100\n",
      "21/21 [==============================] - 4s 193ms/step - loss: 0.7013 - accuracy: 0.8846\n",
      "Epoch 35/100\n",
      "21/21 [==============================] - 4s 192ms/step - loss: 0.0911 - accuracy: 0.9638\n",
      "Epoch 36/100\n",
      "21/21 [==============================] - 4s 193ms/step - loss: 0.4565 - accuracy: 0.8930\n",
      "Epoch 37/100\n",
      "21/21 [==============================] - 4s 193ms/step - loss: 0.0967 - accuracy: 0.9619\n",
      "Epoch 38/100\n",
      "21/21 [==============================] - 4s 193ms/step - loss: 0.5120 - accuracy: 0.9003\n",
      "Epoch 39/100\n",
      "21/21 [==============================] - 4s 195ms/step - loss: 0.1684 - accuracy: 0.9465\n",
      "Epoch 40/100\n",
      "21/21 [==============================] - 4s 195ms/step - loss: 0.5794 - accuracy: 0.9046\n",
      "Epoch 41/100\n",
      "21/21 [==============================] - 4s 194ms/step - loss: 0.1129 - accuracy: 0.9577\n",
      "Epoch 42/100\n",
      "21/21 [==============================] - 4s 191ms/step - loss: 0.7073 - accuracy: 0.8896\n",
      "Epoch 43/100\n",
      "21/21 [==============================] - 4s 191ms/step - loss: 0.1106 - accuracy: 0.9577\n",
      "Epoch 44/100\n",
      "21/21 [==============================] - 4s 191ms/step - loss: 0.6591 - accuracy: 0.8734\n",
      "Epoch 45/100\n",
      "21/21 [==============================] - 4s 192ms/step - loss: 0.0920 - accuracy: 0.9658\n",
      "Epoch 46/100\n",
      "21/21 [==============================] - 4s 192ms/step - loss: 0.2532 - accuracy: 0.9342\n",
      "Epoch 47/100\n",
      "21/21 [==============================] - 4s 192ms/step - loss: 0.7742 - accuracy: 0.8888\n",
      "Epoch 48/100\n",
      "21/21 [==============================] - 4s 192ms/step - loss: 0.0731 - accuracy: 0.9711\n",
      "Epoch 49/100\n",
      "21/21 [==============================] - 4s 193ms/step - loss: 0.7633 - accuracy: 0.8930\n",
      "Epoch 50/100\n",
      "21/21 [==============================] - 4s 192ms/step - loss: 0.0956 - accuracy: 0.9661\n",
      "Epoch 51/100\n",
      "21/21 [==============================] - 4s 192ms/step - loss: 0.2134 - accuracy: 0.9442\n",
      "Epoch 52/100\n",
      "21/21 [==============================] - 4s 191ms/step - loss: 0.7078 - accuracy: 0.8984\n",
      "Epoch 53/100\n",
      "21/21 [==============================] - 4s 190ms/step - loss: 0.0709 - accuracy: 0.9731\n",
      "Epoch 54/100\n",
      "21/21 [==============================] - 4s 193ms/step - loss: 0.4083 - accuracy: 0.9161\n",
      "Epoch 55/100\n",
      "21/21 [==============================] - 4s 192ms/step - loss: 0.0893 - accuracy: 0.9658\n",
      "Epoch 56/100\n",
      "21/21 [==============================] - 4s 191ms/step - loss: 0.4087 - accuracy: 0.9188\n",
      "Epoch 57/100\n",
      "21/21 [==============================] - 4s 191ms/step - loss: 0.3049 - accuracy: 0.9204\n",
      "Epoch 58/100\n",
      "21/21 [==============================] - 4s 195ms/step - loss: 0.5836 - accuracy: 0.9169\n",
      "Epoch 59/100\n",
      "21/21 [==============================] - 4s 196ms/step - loss: 0.0774 - accuracy: 0.9696\n",
      "Epoch 60/100\n",
      "21/21 [==============================] - 4s 192ms/step - loss: 0.2336 - accuracy: 0.9334\n",
      "Epoch 61/100\n",
      "21/21 [==============================] - 4s 196ms/step - loss: 0.6985 - accuracy: 0.9100\n",
      "Epoch 62/100\n",
      "21/21 [==============================] - 4s 191ms/step - loss: 0.0745 - accuracy: 0.9727\n",
      "Epoch 63/100\n",
      "21/21 [==============================] - 4s 192ms/step - loss: 0.5825 - accuracy: 0.8907\n",
      "Epoch 64/100\n",
      "21/21 [==============================] - 4s 194ms/step - loss: 0.0639 - accuracy: 0.9723\n",
      "Epoch 65/100\n",
      "21/21 [==============================] - 4s 194ms/step - loss: 0.5658 - accuracy: 0.9000\n",
      "Epoch 66/100\n",
      "21/21 [==============================] - 4s 193ms/step - loss: 0.0697 - accuracy: 0.9715\n",
      "Epoch 67/100\n",
      "21/21 [==============================] - 4s 191ms/step - loss: 0.5887 - accuracy: 0.9073\n",
      "Epoch 68/100\n",
      "21/21 [==============================] - 4s 192ms/step - loss: 0.0569 - accuracy: 0.9761\n",
      "Epoch 69/100\n",
      "21/21 [==============================] - 4s 198ms/step - loss: 1.0862 - accuracy: 0.8669\n",
      "Epoch 70/100\n",
      "21/21 [==============================] - 4s 199ms/step - loss: 0.2478 - accuracy: 0.9438\n",
      "Epoch 71/100\n",
      "21/21 [==============================] - 4s 195ms/step - loss: 0.2355 - accuracy: 0.9442\n",
      "Epoch 72/100\n",
      "21/21 [==============================] - 4s 192ms/step - loss: 0.4655 - accuracy: 0.9007\n",
      "Epoch 73/100\n",
      "21/21 [==============================] - 4s 191ms/step - loss: 0.3054 - accuracy: 0.9519\n",
      "Epoch 74/100\n",
      "21/21 [==============================] - 4s 193ms/step - loss: 0.1444 - accuracy: 0.9611\n",
      "Epoch 75/100\n",
      "21/21 [==============================] - 4s 193ms/step - loss: 0.5451 - accuracy: 0.9204\n",
      "Epoch 76/100\n",
      "21/21 [==============================] - 4s 193ms/step - loss: 0.3030 - accuracy: 0.9327\n",
      "Epoch 77/100\n",
      "21/21 [==============================] - 4s 193ms/step - loss: 0.1861 - accuracy: 0.9427\n",
      "Epoch 78/100\n",
      "21/21 [==============================] - 4s 197ms/step - loss: 0.0975 - accuracy: 0.9627\n",
      "Epoch 79/100\n",
      "21/21 [==============================] - 4s 198ms/step - loss: 0.5416 - accuracy: 0.9150\n",
      "Epoch 80/100\n",
      "21/21 [==============================] - 4s 196ms/step - loss: 0.3655 - accuracy: 0.9065\n",
      "Epoch 81/100\n",
      "21/21 [==============================] - 4s 195ms/step - loss: 0.0736 - accuracy: 0.9750\n",
      "Epoch 82/100\n",
      "21/21 [==============================] - 4s 192ms/step - loss: 0.5608 - accuracy: 0.9003\n",
      "Epoch 83/100\n",
      "21/21 [==============================] - 4s 192ms/step - loss: 0.1080 - accuracy: 0.9611\n",
      "Epoch 84/100\n",
      "21/21 [==============================] - 4s 191ms/step - loss: 0.3898 - accuracy: 0.9188\n",
      "Epoch 85/100\n",
      "21/21 [==============================] - 4s 191ms/step - loss: 0.5916 - accuracy: 0.9019\n",
      "Epoch 86/100\n",
      "21/21 [==============================] - 4s 193ms/step - loss: 0.0938 - accuracy: 0.9650\n",
      "Epoch 87/100\n",
      "21/21 [==============================] - 4s 193ms/step - loss: 1.0057 - accuracy: 0.8711\n",
      "Epoch 88/100\n",
      "21/21 [==============================] - 4s 193ms/step - loss: 0.0838 - accuracy: 0.9719\n",
      "Epoch 89/100\n",
      "21/21 [==============================] - 4s 192ms/step - loss: 0.3642 - accuracy: 0.9327\n",
      "Epoch 90/100\n",
      "21/21 [==============================] - 4s 193ms/step - loss: 0.0575 - accuracy: 0.9746\n",
      "Epoch 91/100\n",
      "21/21 [==============================] - 4s 191ms/step - loss: 0.5093 - accuracy: 0.8980\n",
      "Epoch 92/100\n",
      "21/21 [==============================] - 4s 192ms/step - loss: 0.0862 - accuracy: 0.9719\n",
      "Epoch 93/100\n",
      "21/21 [==============================] - 4s 192ms/step - loss: 0.3586 - accuracy: 0.9280\n",
      "Epoch 94/100\n",
      "21/21 [==============================] - 4s 193ms/step - loss: 0.6228 - accuracy: 0.8853\n",
      "Epoch 95/100\n",
      "21/21 [==============================] - 4s 194ms/step - loss: 0.0677 - accuracy: 0.9746\n",
      "Epoch 96/100\n",
      "21/21 [==============================] - 4s 193ms/step - loss: 0.3496 - accuracy: 0.9407\n",
      "Epoch 97/100\n",
      "21/21 [==============================] - 4s 193ms/step - loss: 0.2414 - accuracy: 0.9461\n",
      "Epoch 98/100\n",
      "21/21 [==============================] - 4s 192ms/step - loss: 0.3396 - accuracy: 0.9238\n",
      "Epoch 99/100\n",
      "21/21 [==============================] - 4s 191ms/step - loss: 0.0657 - accuracy: 0.9750\n",
      "Epoch 100/100\n",
      "21/21 [==============================] - 4s 192ms/step - loss: 0.6195 - accuracy: 0.9046\n"
     ]
    }
   ],
   "source": [
    "history = network.fit(train_images, train_labels, epochs=100, batch_size=128)"
   ]
  },
  {
   "cell_type": "code",
   "execution_count": 58,
   "metadata": {
    "colab": {
     "base_uri": "https://localhost:8080/"
    },
    "id": "v-tUO6pBih3K",
    "outputId": "46367ba7-8edb-4547-b356-5eb8873997b4"
   },
   "outputs": [
    {
     "name": "stdout",
     "output_type": "stream",
     "text": [
      "55/55 [==============================] - 3s 50ms/step - loss: 1.5926 - accuracy: 0.2107\n",
      "test accuracy is : 0.22433678805828094\n"
     ]
    }
   ],
   "source": [
    "test_loss, test_accuracy = model.evaluate(test_images,test_labels)\n",
    "print(\"test accuracy is :\", test_accuracy)"
   ]
  },
  {
   "cell_type": "code",
   "execution_count": 59,
   "metadata": {
    "id": "BJpjeXwwix4f"
   },
   "outputs": [],
   "source": [
    "model = models.Sequential()\n",
    "model.add(layers.Dense(1024, activation='relu',input_shape=(150*150,)))\n",
    "model.add(layers.Dense(512, activation='relu'))\n",
    "model.add(layers.Dense(5, activation='softmax'))"
   ]
  },
  {
   "cell_type": "code",
   "execution_count": 60,
   "metadata": {
    "id": "H2wG5n3ikDl4"
   },
   "outputs": [],
   "source": [
    "model.compile(optimizer='adam', loss='categorical_crossentropy', metrics= ['accuracy'])"
   ]
  },
  {
   "cell_type": "code",
   "execution_count": 61,
   "metadata": {
    "colab": {
     "base_uri": "https://localhost:8080/"
    },
    "id": "js8DCeAUix73",
    "outputId": "40cdb4d6-655d-4d45-db28-da456c4372b7"
   },
   "outputs": [
    {
     "name": "stdout",
     "output_type": "stream",
     "text": [
      "Epoch 1/100\n",
      "21/21 [==============================] - 4s 193ms/step - loss: 0.0770 - accuracy: 0.9735\n",
      "Epoch 2/100\n",
      "21/21 [==============================] - 4s 193ms/step - loss: 0.2217 - accuracy: 0.9450\n",
      "Epoch 3/100\n",
      "21/21 [==============================] - 4s 190ms/step - loss: 0.3885 - accuracy: 0.9073\n",
      "Epoch 4/100\n",
      "21/21 [==============================] - 4s 191ms/step - loss: 0.1575 - accuracy: 0.9611\n",
      "Epoch 5/100\n",
      "21/21 [==============================] - 4s 192ms/step - loss: 1.1517 - accuracy: 0.8580\n",
      "Epoch 6/100\n",
      "21/21 [==============================] - 4s 194ms/step - loss: 0.0574 - accuracy: 0.9781\n",
      "Epoch 7/100\n",
      "21/21 [==============================] - 4s 195ms/step - loss: 0.3983 - accuracy: 0.9096\n",
      "Epoch 8/100\n",
      "21/21 [==============================] - 4s 193ms/step - loss: 0.3749 - accuracy: 0.9261\n",
      "Epoch 9/100\n",
      "21/21 [==============================] - 4s 192ms/step - loss: 0.0839 - accuracy: 0.9708\n",
      "Epoch 10/100\n",
      "21/21 [==============================] - 4s 194ms/step - loss: 0.2631 - accuracy: 0.9334\n",
      "Epoch 11/100\n",
      "21/21 [==============================] - 4s 193ms/step - loss: 0.3012 - accuracy: 0.9288\n",
      "Epoch 12/100\n",
      "21/21 [==============================] - 4s 194ms/step - loss: 0.2131 - accuracy: 0.9504\n",
      "Epoch 13/100\n",
      "21/21 [==============================] - 4s 193ms/step - loss: 0.2105 - accuracy: 0.9434\n",
      "Epoch 14/100\n",
      "21/21 [==============================] - 4s 196ms/step - loss: 0.6765 - accuracy: 0.8927\n",
      "Epoch 15/100\n",
      "21/21 [==============================] - 4s 197ms/step - loss: 0.0511 - accuracy: 0.9785\n",
      "Epoch 16/100\n",
      "21/21 [==============================] - 4s 199ms/step - loss: 0.2162 - accuracy: 0.9384\n",
      "Epoch 17/100\n",
      "21/21 [==============================] - 4s 198ms/step - loss: 0.1384 - accuracy: 0.9561\n",
      "Epoch 18/100\n",
      "21/21 [==============================] - 4s 194ms/step - loss: 0.9315 - accuracy: 0.8842\n",
      "Epoch 19/100\n",
      "21/21 [==============================] - 4s 195ms/step - loss: 0.0908 - accuracy: 0.9661\n",
      "Epoch 20/100\n",
      "21/21 [==============================] - 4s 193ms/step - loss: 0.1209 - accuracy: 0.9550\n",
      "Epoch 21/100\n",
      "21/21 [==============================] - 4s 192ms/step - loss: 0.5050 - accuracy: 0.9161\n",
      "Epoch 22/100\n",
      "21/21 [==============================] - 4s 193ms/step - loss: 0.4337 - accuracy: 0.9192\n",
      "Epoch 23/100\n",
      "21/21 [==============================] - 4s 192ms/step - loss: 0.0592 - accuracy: 0.9765\n",
      "Epoch 24/100\n",
      "21/21 [==============================] - 4s 195ms/step - loss: 0.1855 - accuracy: 0.9407\n",
      "Epoch 25/100\n",
      "21/21 [==============================] - 4s 193ms/step - loss: 0.2018 - accuracy: 0.9423\n",
      "Epoch 26/100\n",
      "21/21 [==============================] - 4s 195ms/step - loss: 0.1800 - accuracy: 0.9496\n",
      "Epoch 27/100\n",
      "21/21 [==============================] - 4s 196ms/step - loss: 0.2105 - accuracy: 0.9419\n",
      "Epoch 28/100\n",
      "21/21 [==============================] - 4s 197ms/step - loss: 0.4517 - accuracy: 0.9319\n",
      "Epoch 29/100\n",
      "21/21 [==============================] - 4s 196ms/step - loss: 0.3594 - accuracy: 0.9296\n",
      "Epoch 30/100\n",
      "21/21 [==============================] - 4s 191ms/step - loss: 0.1595 - accuracy: 0.9631\n",
      "Epoch 31/100\n",
      "21/21 [==============================] - 4s 194ms/step - loss: 0.2762 - accuracy: 0.9431\n",
      "Epoch 32/100\n",
      "21/21 [==============================] - 4s 194ms/step - loss: 0.3335 - accuracy: 0.9454\n",
      "Epoch 33/100\n",
      "21/21 [==============================] - 4s 195ms/step - loss: 0.0940 - accuracy: 0.9650\n",
      "Epoch 34/100\n",
      "21/21 [==============================] - 4s 194ms/step - loss: 0.4617 - accuracy: 0.8965\n",
      "Epoch 35/100\n",
      "21/21 [==============================] - 4s 195ms/step - loss: 0.0727 - accuracy: 0.9731\n",
      "Epoch 36/100\n",
      "21/21 [==============================] - 4s 195ms/step - loss: 0.3212 - accuracy: 0.9269\n",
      "Epoch 37/100\n",
      "21/21 [==============================] - 4s 195ms/step - loss: 0.5932 - accuracy: 0.9107\n",
      "Epoch 38/100\n",
      "21/21 [==============================] - 4s 192ms/step - loss: 0.0988 - accuracy: 0.9696\n",
      "Epoch 39/100\n",
      "21/21 [==============================] - 4s 194ms/step - loss: 0.6571 - accuracy: 0.8992\n",
      "Epoch 40/100\n",
      "21/21 [==============================] - 4s 194ms/step - loss: 0.0571 - accuracy: 0.9773\n",
      "Epoch 41/100\n",
      "21/21 [==============================] - 4s 194ms/step - loss: 0.0546 - accuracy: 0.9804\n",
      "Epoch 42/100\n",
      "21/21 [==============================] - 4s 195ms/step - loss: 0.8424 - accuracy: 0.9042\n",
      "Epoch 43/100\n",
      "21/21 [==============================] - 4s 192ms/step - loss: 0.0689 - accuracy: 0.9719\n",
      "Epoch 44/100\n",
      "21/21 [==============================] - 4s 195ms/step - loss: 1.4612 - accuracy: 0.8753\n",
      "Epoch 45/100\n",
      "21/21 [==============================] - 4s 194ms/step - loss: 0.1400 - accuracy: 0.9596\n",
      "Epoch 46/100\n",
      "21/21 [==============================] - 4s 199ms/step - loss: 0.1444 - accuracy: 0.9600\n",
      "Epoch 47/100\n",
      "21/21 [==============================] - 4s 199ms/step - loss: 1.0291 - accuracy: 0.8796\n",
      "Epoch 48/100\n",
      "21/21 [==============================] - 4s 196ms/step - loss: 0.0518 - accuracy: 0.9800\n",
      "Epoch 49/100\n",
      "21/21 [==============================] - 4s 197ms/step - loss: 1.0052 - accuracy: 0.9034\n",
      "Epoch 50/100\n",
      "21/21 [==============================] - 4s 191ms/step - loss: 0.1846 - accuracy: 0.9577\n",
      "Epoch 51/100\n",
      "21/21 [==============================] - 4s 194ms/step - loss: 0.0537 - accuracy: 0.9777\n",
      "Epoch 52/100\n",
      "21/21 [==============================] - 4s 194ms/step - loss: 1.0533 - accuracy: 0.8880\n",
      "Epoch 53/100\n",
      "21/21 [==============================] - 4s 193ms/step - loss: 0.0847 - accuracy: 0.9727\n",
      "Epoch 54/100\n",
      "21/21 [==============================] - 4s 196ms/step - loss: 0.4769 - accuracy: 0.9230\n",
      "Epoch 55/100\n",
      "21/21 [==============================] - 4s 194ms/step - loss: 0.3225 - accuracy: 0.9342\n",
      "Epoch 56/100\n",
      "21/21 [==============================] - 4s 195ms/step - loss: 0.3764 - accuracy: 0.9404\n",
      "Epoch 57/100\n",
      "21/21 [==============================] - 4s 194ms/step - loss: 0.0608 - accuracy: 0.9773\n",
      "Epoch 58/100\n",
      "21/21 [==============================] - 4s 193ms/step - loss: 0.4676 - accuracy: 0.9007\n",
      "Epoch 59/100\n",
      "21/21 [==============================] - 4s 192ms/step - loss: 0.0514 - accuracy: 0.9815\n",
      "Epoch 60/100\n",
      "21/21 [==============================] - 4s 193ms/step - loss: 0.4120 - accuracy: 0.9296\n",
      "Epoch 61/100\n",
      "21/21 [==============================] - 4s 195ms/step - loss: 0.2885 - accuracy: 0.9354\n",
      "Epoch 62/100\n",
      "21/21 [==============================] - 4s 195ms/step - loss: 0.1132 - accuracy: 0.9658\n",
      "Epoch 63/100\n",
      "21/21 [==============================] - 4s 196ms/step - loss: 0.5947 - accuracy: 0.9119\n",
      "Epoch 64/100\n",
      "21/21 [==============================] - 4s 195ms/step - loss: 0.0535 - accuracy: 0.9773\n",
      "Epoch 65/100\n",
      "21/21 [==============================] - 4s 194ms/step - loss: 0.5869 - accuracy: 0.9146\n",
      "Epoch 66/100\n",
      "21/21 [==============================] - 4s 192ms/step - loss: 0.1356 - accuracy: 0.9538\n",
      "Epoch 67/100\n",
      "21/21 [==============================] - 4s 195ms/step - loss: 0.3204 - accuracy: 0.9357\n",
      "Epoch 68/100\n",
      "21/21 [==============================] - 4s 194ms/step - loss: 0.6263 - accuracy: 0.9023\n",
      "Epoch 69/100\n",
      "21/21 [==============================] - 4s 193ms/step - loss: 0.0513 - accuracy: 0.9804\n",
      "Epoch 70/100\n",
      "21/21 [==============================] - 4s 193ms/step - loss: 0.3082 - accuracy: 0.9377\n",
      "Epoch 71/100\n",
      "21/21 [==============================] - 4s 198ms/step - loss: 0.0663 - accuracy: 0.9758\n",
      "Epoch 72/100\n",
      "21/21 [==============================] - 4s 196ms/step - loss: 0.4411 - accuracy: 0.9180\n",
      "Epoch 73/100\n",
      "21/21 [==============================] - 4s 197ms/step - loss: 0.0980 - accuracy: 0.9681\n",
      "Epoch 74/100\n",
      "21/21 [==============================] - 4s 198ms/step - loss: 0.3796 - accuracy: 0.9273\n",
      "Epoch 75/100\n",
      "21/21 [==============================] - 4s 196ms/step - loss: 0.2944 - accuracy: 0.9242\n",
      "Epoch 76/100\n",
      "21/21 [==============================] - 4s 200ms/step - loss: 0.0458 - accuracy: 0.9823\n",
      "Epoch 77/100\n",
      "21/21 [==============================] - 4s 198ms/step - loss: 0.9409 - accuracy: 0.9027\n",
      "Epoch 78/100\n",
      "21/21 [==============================] - 4s 197ms/step - loss: 0.0421 - accuracy: 0.9835\n",
      "Epoch 79/100\n",
      "21/21 [==============================] - 4s 194ms/step - loss: 0.3829 - accuracy: 0.9331\n",
      "Epoch 80/100\n",
      "21/21 [==============================] - 4s 198ms/step - loss: 0.2077 - accuracy: 0.9454\n",
      "Epoch 81/100\n",
      "21/21 [==============================] - 4s 195ms/step - loss: 0.0910 - accuracy: 0.9700\n",
      "Epoch 82/100\n",
      "21/21 [==============================] - 4s 198ms/step - loss: 0.6651 - accuracy: 0.9107\n",
      "Epoch 83/100\n",
      "21/21 [==============================] - 4s 195ms/step - loss: 0.4755 - accuracy: 0.9188\n",
      "Epoch 84/100\n",
      "21/21 [==============================] - 4s 196ms/step - loss: 0.0643 - accuracy: 0.9711\n",
      "Epoch 85/100\n",
      "21/21 [==============================] - 4s 195ms/step - loss: 0.6502 - accuracy: 0.9077\n",
      "Epoch 86/100\n",
      "21/21 [==============================] - 4s 195ms/step - loss: 0.0431 - accuracy: 0.9823\n",
      "Epoch 87/100\n",
      "21/21 [==============================] - 4s 193ms/step - loss: 1.1724 - accuracy: 0.8665\n",
      "Epoch 88/100\n",
      "21/21 [==============================] - 4s 194ms/step - loss: 0.0452 - accuracy: 0.9808\n",
      "Epoch 89/100\n",
      "21/21 [==============================] - 4s 194ms/step - loss: 0.5013 - accuracy: 0.9088\n",
      "Epoch 90/100\n",
      "21/21 [==============================] - 4s 194ms/step - loss: 0.0621 - accuracy: 0.9815\n",
      "Epoch 91/100\n",
      "21/21 [==============================] - 4s 193ms/step - loss: 0.2756 - accuracy: 0.9331\n",
      "Epoch 92/100\n",
      "21/21 [==============================] - 4s 194ms/step - loss: 0.0441 - accuracy: 0.9827\n",
      "Epoch 93/100\n",
      "21/21 [==============================] - 4s 195ms/step - loss: 0.5480 - accuracy: 0.9196\n",
      "Epoch 94/100\n",
      "21/21 [==============================] - 4s 193ms/step - loss: 0.4660 - accuracy: 0.9165\n",
      "Epoch 95/100\n",
      "21/21 [==============================] - 4s 195ms/step - loss: 0.0421 - accuracy: 0.9831\n",
      "Epoch 96/100\n",
      "21/21 [==============================] - 4s 195ms/step - loss: 0.3273 - accuracy: 0.9254\n",
      "Epoch 97/100\n",
      "21/21 [==============================] - 4s 197ms/step - loss: 0.3427 - accuracy: 0.9384\n",
      "Epoch 98/100\n",
      "21/21 [==============================] - 4s 197ms/step - loss: 0.0401 - accuracy: 0.9854\n",
      "Epoch 99/100\n",
      "21/21 [==============================] - 4s 196ms/step - loss: 0.5337 - accuracy: 0.9119\n",
      "Epoch 100/100\n",
      "21/21 [==============================] - 4s 192ms/step - loss: 0.0450 - accuracy: 0.9800\n"
     ]
    }
   ],
   "source": [
    "history = network.fit(train_images, train_labels, epochs=100, batch_size=128)"
   ]
  },
  {
   "cell_type": "code",
   "execution_count": 62,
   "metadata": {
    "colab": {
     "base_uri": "https://localhost:8080/"
    },
    "id": "qSLGg9siix_B",
    "outputId": "fe4788e0-763f-40f9-f222-20a8b5b1f050"
   },
   "outputs": [
    {
     "name": "stdout",
     "output_type": "stream",
     "text": [
      "55/55 [==============================] - 3s 44ms/step - loss: 1.7191 - accuracy: 0.1724\n",
      "test accuracy is : 0.18281430006027222\n"
     ]
    }
   ],
   "source": [
    "test_loss, test_accuracy = model.evaluate(test_images,test_labels)\n",
    "print(\"test accuracy is :\", test_accuracy)"
   ]
  }
 ],
 "metadata": {
  "colab": {
   "collapsed_sections": [],
   "name": "PIAIC53818_Flowers_Recognition.ipynb",
   "provenance": []
  },
  "kernelspec": {
   "display_name": "Python 3",
   "language": "python",
   "name": "python3"
  },
  "language_info": {
   "codemirror_mode": {
    "name": "ipython",
    "version": 3
   },
   "file_extension": ".py",
   "mimetype": "text/x-python",
   "name": "python",
   "nbconvert_exporter": "python",
   "pygments_lexer": "ipython3",
   "version": "3.7.6"
  }
 },
 "nbformat": 4,
 "nbformat_minor": 1
}
